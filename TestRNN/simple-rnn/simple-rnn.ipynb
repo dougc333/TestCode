{
 "cells": [
  {
   "cell_type": "code",
   "execution_count": 21,
   "metadata": {
    "collapsed": true
   },
   "outputs": [],
   "source": [
    "import numpy as np\n",
    "np.random.seed(0)\n",
    "\n",
    "def sigmoid(x):\n",
    "    output = 1/(1+np.exp(x))\n",
    "    return output\n",
    "\n",
    "\n",
    "def sigmoid_output_to_derivative(output):\n",
    "    return output * (1-output)\n",
    "\n"
   ]
  },
  {
   "cell_type": "code",
   "execution_count": 23,
   "metadata": {
    "collapsed": false
   },
   "outputs": [
    {
     "name": "stdout",
     "output_type": "stream",
     "text": [
      "shape X:(1, 2)\n",
      "shape synapse_0:(2, 16)\n",
      "size layer_1_values:1\n",
      "shape synapse_h:(16, 16)\n"
     ]
    },
    {
     "ename": "NameError",
     "evalue": "name 'copy' is not defined",
     "output_type": "error",
     "traceback": [
      "\u001b[0;31m---------------------------------------------------------------------------\u001b[0m",
      "\u001b[0;31mNameError\u001b[0m                                 Traceback (most recent call last)",
      "\u001b[0;32m<ipython-input-23-a08b9c9ac9aa>\u001b[0m in \u001b[0;36m<module>\u001b[0;34m()\u001b[0m\n\u001b[1;32m     68\u001b[0m         \u001b[0md\u001b[0m\u001b[0;34m[\u001b[0m\u001b[0mbinary_dim\u001b[0m\u001b[0;34m-\u001b[0m\u001b[0mposition\u001b[0m \u001b[0;34m-\u001b[0m\u001b[0;36m1\u001b[0m\u001b[0;34m]\u001b[0m \u001b[0;34m=\u001b[0m \u001b[0mnp\u001b[0m\u001b[0;34m.\u001b[0m\u001b[0mround\u001b[0m\u001b[0;34m(\u001b[0m\u001b[0mlayer_2\u001b[0m\u001b[0;34m[\u001b[0m\u001b[0;36m0\u001b[0m\u001b[0;34m]\u001b[0m\u001b[0;34m[\u001b[0m\u001b[0;36m0\u001b[0m\u001b[0;34m]\u001b[0m\u001b[0;34m)\u001b[0m\u001b[0;34m\u001b[0m\u001b[0m\n\u001b[1;32m     69\u001b[0m \u001b[0;34m\u001b[0m\u001b[0m\n\u001b[0;32m---> 70\u001b[0;31m         \u001b[0mlayer_1_values\u001b[0m\u001b[0;34m.\u001b[0m\u001b[0mappend\u001b[0m\u001b[0;34m(\u001b[0m\u001b[0mcopy\u001b[0m\u001b[0;34m.\u001b[0m\u001b[0mdeepcopy\u001b[0m\u001b[0;34m(\u001b[0m\u001b[0mlayer_1\u001b[0m\u001b[0;34m)\u001b[0m\u001b[0;34m)\u001b[0m\u001b[0;34m\u001b[0m\u001b[0m\n\u001b[0m\u001b[1;32m     71\u001b[0m \u001b[0;34m\u001b[0m\u001b[0m\n\u001b[1;32m     72\u001b[0m     \u001b[0mfuture_layer_1_delta\u001b[0m \u001b[0;34m=\u001b[0m \u001b[0mnp\u001b[0m\u001b[0;34m.\u001b[0m\u001b[0mzeros\u001b[0m\u001b[0;34m(\u001b[0m\u001b[0mhidden_dim\u001b[0m\u001b[0;34m)\u001b[0m\u001b[0;34m\u001b[0m\u001b[0m\n",
      "\u001b[0;31mNameError\u001b[0m: name 'copy' is not defined"
     ]
    }
   ],
   "source": [
    "#create training data/make network\n",
    "int2binary = {}\n",
    "binary_dim=8\n",
    "\n",
    "largest_number = pow(2,binary_dim)\n",
    "binary = np.unpackbits(np.array([range(largest_number)],dtype=np.uint8).T,axis=1)\n",
    "for i in range(largest_number):\n",
    "    int2binary[i] = binary[i]\n",
    "\n",
    "alpha=0.1\n",
    "input_dim=2\n",
    "hidden_dim=16\n",
    "output_dim=1\n",
    "\n",
    "synapse_0 = 2*np.random.random((input_dim,hidden_dim))-1\n",
    "synapse_1 = 2*np.random.random((hidden_dim,hidden_dim))-1\n",
    "synapse_h = 2*np.random.random((hidden_dim,hidden_dim))-1\n",
    "\n",
    "synapse_0_update = np.zeros_like(synapse_0)\n",
    "synapse_1_update = np.zeros_like(synapse_1)\n",
    "synapse_2_update = np.zeros_like(synapse_h)\n",
    "\n",
    "#training\n",
    "for j in range(10000):\n",
    "    a_int = np.random.randint(largest_number/2)\n",
    "    a = int2binary[a_int]\n",
    "    \n",
    "    b_int = np.random.randint(largest_number/2)\n",
    "    b=int2binary[b_int]\n",
    "    \n",
    "    c_int = a_int + b_int\n",
    "    c=int2binary[c_int]\n",
    "    \n",
    "    d = np.zeros_like(c)\n",
    "    \n",
    "    overallError = 0\n",
    "    \n",
    "    layer_2_deltas = list()\n",
    "    layer_1_values = list()\n",
    "    layer_1_values.append(np.zeros(hidden_dim))\n",
    "    \n",
    "    for position in range(binary_dim):\n",
    "        X = np.array([[a[binary_dim - position - 1],b[binary_dim - position - 1]]])\n",
    "                     \n",
    "        y = np.array([[c[binary_dim - position - 1]]]).T\n",
    "    \n",
    "        #hidden layer\n",
    "        print 'shape X:' + str(X.shape)\n",
    "        print 'shape synapse_0:' + str(synapse_0.shape)\n",
    "        print 'size layer_1_values:' + str(len(layer_1_values))\n",
    "        print 'shape synapse_h:' + str(synapse_h.shape)\n",
    "        \n",
    "        #test\n",
    "        np.dot(X,synapse_0)\n",
    "        np.dot(layer_1_values[-1],synapse_h)\n",
    "        #end test\n",
    "        \n",
    "        layer_1 = sigmoid( np.dot(X,synapse_0) + np.dot(layer_1_values[-1],synapse_h) )\n",
    "        \n",
    "        #output layer\n",
    "        layer_2 = sigmoid( np.dot(layer_1,synapse_1) )\n",
    "        \n",
    "        layer_2_error = y - layer_2\n",
    "        layer_2_deltas.append((layer_2_error) * sigmoid_output_to_derivative(layer_2))\n",
    "        overallError += np.abs(layer_2_error[0])\n",
    "    \n",
    "        #decode \n",
    "        d[binary_dim-position -1] = np.round(layer_2[0][0])\n",
    "        \n",
    "        layer_1_values.append(copy.deepcopy(layer_1))\n",
    "        \n",
    "    future_layer_1_delta = np.zeros(hidden_dim)\n",
    "        \n",
    "        \n",
    "    for position in range(binary_dim):\n",
    "        X = np.array([[a[position],b[position]]])\n",
    "        layer_1 = layer_1_values[-position-1]\n",
    "        prev_layer_1 = layer_1_values[-position-2]\n",
    "        \n",
    "        layer_2_delta = layer_2_deltas[-position-1]\n",
    "        layer_1_delta = (future_layer_1_delta.dot(synapse_h.T)+layer_2_delta.dot(synapse_1.T)) * sigmoid_output_to_derivative(layer_1)\n",
    "        \n",
    "        synapse_1_update += np.atleast_2d(layer_1).T.dot(layer_2_delta)\n",
    "        synapse_h_update += np.alleast_2d(prev_layer_1).T.dot(layer_1_delta)\n",
    "        synapse_0_update += X.T.dot(layer_1_delta)\n",
    "        future_layer_1_delta = layer_1_delta\n",
    "                         \n",
    "    synapse_0 += synapse_0_update * alpha\n",
    "    synapse_1 += synapse_1_update * alpha\n",
    "    synapse_h += synapse_h_update * alpha\n",
    "                         \n",
    "    synapse_0_update *= 0\n",
    "    synapse_1_update *= 0\n",
    "    synapse_h_update *= 0\n",
    "    \n",
    "    if(j%1000==0):\n",
    "        print 'Error:' + str(overallError)\n",
    "        print 'Pred:'+ str(d)\n",
    "        print 'True'+ str(c)\n",
    "        out = 0\n",
    "        for index,x in enumerate(reversed(d)):\n",
    "            out += x*pow(2,index)\n",
    "        print str(a_int) + \"+\" + str(b_int) + '=' + str(out)\n",
    "        print '-------------------'\n",
    "                         "
   ]
  },
  {
   "cell_type": "code",
   "execution_count": null,
   "metadata": {
    "collapsed": true
   },
   "outputs": [],
   "source": []
  }
 ],
 "metadata": {
  "anaconda-cloud": {},
  "kernelspec": {
   "display_name": "Python [Root]",
   "language": "python",
   "name": "Python [Root]"
  },
  "language_info": {
   "codemirror_mode": {
    "name": "ipython",
    "version": 2
   },
   "file_extension": ".py",
   "mimetype": "text/x-python",
   "name": "python",
   "nbconvert_exporter": "python",
   "pygments_lexer": "ipython2",
   "version": "2.7.10"
  }
 },
 "nbformat": 4,
 "nbformat_minor": 0
}
