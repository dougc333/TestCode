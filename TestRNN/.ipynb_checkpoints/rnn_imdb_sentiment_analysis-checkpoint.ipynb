{
 "cells": [
  {
   "cell_type": "code",
   "execution_count": 8,
   "metadata": {
    "collapsed": false
   },
   "outputs": [
    {
     "name": "stdout",
     "output_type": "stream",
     "text": [
      "102098\n",
      "tsukino 54190\n"
     ]
    }
   ],
   "source": [
    "import cPickle as pickle\n",
    "\n",
    "f=pickle.load(open('/Users/dc/TestCode/TestRNN/imdb.dict.pkl'))\n",
    "print len(f.keys())\n",
    "print f.keys()[1],f[f.keys()[1]]\n",
    "\n",
    "#what is the point of the dict/tf? \n",
    "\n",
    "\n",
    "\n"
   ]
  },
  {
   "cell_type": "code",
   "execution_count": 19,
   "metadata": {
    "collapsed": false
   },
   "outputs": [
    {
     "name": "stdout",
     "output_type": "stream",
     "text": [
      "['h', 'e', 'l', 'o']\n",
      "{'h': 0, 'e': 1, 'l': 2, 'o': 3}\n",
      "{0: 'h', 1: 'e', 2: 'l', 3: 'o'}\n"
     ]
    }
   ],
   "source": [
    "#rnn notes lecture 10\n",
    "import numpy as np\n",
    "\n",
    "test_file=open('/Users/dc/TestCode/TestRNN/hello.txt').read()\n",
    "chars = list(set(test_file.strip()))\n",
    "print chars\n",
    "char_to_ix= {ch:i for i,ch in enumerate(chars)}\n",
    "print char_to_ix\n",
    "\n",
    "ix_to_char = {i:ch for i,ch in enumerate(chars)}\n",
    "print ix_to_char\n",
    "\n",
    "\n",
    "hidden_size=100\n",
    "seq_length=25\n",
    "learning_rate=1e-1\n",
    "\n",
    "#model parameters\n",
    "\n",
    "Wxh=np.random.randn(hidden_size,vocab_size) * .01\n",
    "Whh=np.random.randn(hidden_size,vocab_size) * .01\n",
    "Why=np.random.randn(vocab_size,hidden_size) * .01\n",
    "bh=np.zeros(hidden_size,1)\n",
    "bx=np.zeros(hidden_size,1)\n",
    "\n",
    "def loss(inputs,outputs,hprev):\n",
    "    xs,hs,ys,ps={}\n",
    "    \n",
    "    hs[-1]=np.copy(hprev)\n",
    "    loss=0\n",
    "    for t in xrange(len(inputs)):\n",
    "        xs[t]=np.zeros(vocab.size)\n",
    "        xs[t][inputs[t]] = 1\n",
    "        hs[t] = np.tanh(np.dot(Whh,hs[t-1])+ np.dot(Wxh,xs[t])+bh)\n",
    "        ys[t]= np.dot(Why,hs[t])\n",
    "        ps[t] = np.exp(ys[t])/np.sum(np.exp(ys[t]))\n",
    "        loss += -np.log(ps[t][targets[t],0])\n",
    "    \n",
    "    \n",
    "\n",
    "\n",
    "\n"
   ]
  },
  {
   "cell_type": "code",
   "execution_count": null,
   "metadata": {
    "collapsed": true
   },
   "outputs": [],
   "source": []
  }
 ],
 "metadata": {
  "kernelspec": {
   "display_name": "Python 2",
   "language": "python",
   "name": "python2"
  },
  "language_info": {
   "codemirror_mode": {
    "name": "ipython",
    "version": 2
   },
   "file_extension": ".py",
   "mimetype": "text/x-python",
   "name": "python",
   "nbconvert_exporter": "python",
   "pygments_lexer": "ipython2",
   "version": "2.7.11"
  }
 },
 "nbformat": 4,
 "nbformat_minor": 0
}
