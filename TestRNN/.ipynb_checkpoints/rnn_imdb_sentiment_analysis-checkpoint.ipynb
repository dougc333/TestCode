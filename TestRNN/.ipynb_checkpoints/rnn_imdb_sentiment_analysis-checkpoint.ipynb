{
 "cells": [
  {
   "cell_type": "code",
   "execution_count": 8,
   "metadata": {
    "collapsed": false
   },
   "outputs": [
    {
     "name": "stdout",
     "output_type": "stream",
     "text": [
      "102098\n",
      "tsukino 54190\n"
     ]
    }
   ],
   "source": [
    "import cPickle as pickle\n",
    "\n",
    "f=pickle.load(open('/Users/dc/TestCode/TestRNN/imdb.dict.pkl'))\n",
    "print len(f.keys())\n",
    "print f.keys()[1],f[f.keys()[1]]\n",
    "\n",
    "#what is the point of the dict/tf? \n",
    "\n",
    "\n",
    "\n"
   ]
  },
  {
   "cell_type": "code",
   "execution_count": null,
   "metadata": {
    "collapsed": true
   },
   "outputs": [],
   "source": []
  }
 ],
 "metadata": {
  "kernelspec": {
   "display_name": "Python 2",
   "language": "python",
   "name": "python2"
  },
  "language_info": {
   "codemirror_mode": {
    "name": "ipython",
    "version": 2
   },
   "file_extension": ".py",
   "mimetype": "text/x-python",
   "name": "python",
   "nbconvert_exporter": "python",
   "pygments_lexer": "ipython2",
   "version": "2.7.11"
  }
 },
 "nbformat": 4,
 "nbformat_minor": 0
}
