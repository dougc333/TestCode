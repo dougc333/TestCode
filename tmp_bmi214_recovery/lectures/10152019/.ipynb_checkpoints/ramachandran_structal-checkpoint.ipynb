{
 "cells": [
  {
   "cell_type": "markdown",
   "metadata": {},
   "source": [
    "<h6><h6>\n",
    "<img src=\"10152019_lecture.png\">\n",
    "bonds are function of 2 atoms fixed distances proteins we can write down the bond distances bc we know the atoms involved. \n",
    "angles are function of 3 atoms and atom types. use cos theata=xdoty/|x||y|\n",
    "\n",
    "<img src=\"10152019_2.png\">\n",
    "dihedral angles function 4 atoms. not fixed, variable and important in protein. called torsional angles calculate via cross \n",
    "product.\n",
    "<img src=\"10152019_3.png\">\n",
    "backbone protein. in backbone there are 3 important dihedrals. 1) c alpha-C-N-calpha. omega sub the 4 for ABCD in\n",
    "slide before to calculate the angle. 2) CNCalphaN. phi. 3) NCalphaCN psi. all protein backbones specified by 3 dihedral backbones\n",
    "w or omega tends to be constant ot rotatable. ether 0 or 180. other 2 are rotatable phi and psi. the R groups also may have\n",
    "dihedral angles. if they have single carbon no angle. \n",
    "<img src=\"10152019_4.png\">\n",
    "ramachandran plot plot marginal probabilities phi vs psi. omega fixed. you plot the phi and psi and you will see\n",
    "for proteins the angles are all clusterd in 2 areas, there are hot spots in teh 2 areas and these correspond to 3d strurcures\n",
    "the alpha helis and beta strand!!\n",
    "<img src=\"10152019_5.png\">\n",
    "all the strands are in parallel. \n",
    "<img src=\"10152019_6.png\">\n",
    "antiparallel beta strand\n",
    "<img src=\"10152019_7.png\">\n",
    "<img src=\"10152019_8.png\">"
   ]
  },
  {
   "cell_type": "markdown",
   "metadata": {},
   "source": [
    "how to compare 2 3d structures: convention, have xyz coorduinates of Calpha and both proteins have amr # AA. A abd\n",
    "    B have 2 differentr conformations. how to characterize how similar they are? one algorithm is to get the distances\n",
    "    between atoms as small as possible. \n",
    "<img src=\"10152019_9.png\">\n",
    "doing tihs iis root mean square deviation. looks funny in 2d. \n",
    "<img src=\"10152019_10.png\">\n",
    "<img src=\"10152019_11.png\">\n",
    "algorithm to find min rmsd!!!! outer product gives 3x3 matrix. SUm of Ai where Ai is xyz vector. For each AA in sequence\n",
    "A and B we have the xyz coordinates. We tranpose B and create the outer product then do the SVD on it. If we \n",
    "put A on top of B. if you define a translaion vector to put A on top of B. the centriods of A and B are on tip of each other. \n",
    "\n",
    "<img src=\"10152019_12.png\">\n",
    "<img src=\"10152019_13.png\">\n",
    "<img src=\"10152019_14.png\">\n",
    "minRMSD=RA+T!!! R=VU^T from SVD!!!\n",
    "<img src=\"10152019_15.png\">\n",
    "<h6>structure alignment problem</h6>\n",
    "very different topic. the 2 3d structures how do we align them. In 3d the proteins have the red as the shared core. \n",
    "\n",
    "<img src=\"10152019_16.png\">\n",
    " the trivial case below is we add 4 dots and minimize RMSD on thise 4 only but we \n",
    "    havent aligned the rest of the protein chain. \n",
    "<img src=\"10152019_17.png\">\n",
    "this is an exmaple of adding a constraint to fix the tradoff between minRMSD and #correspondences. fascinating. \n",
    "in 3d alignment there is a tradeoff between the number of correspondences which is what we want for annotation\n",
    "and minRMSD.people tend to specify the minRMSD. \n",
    "<img src=\"10152019_18.png\">\n",
    "<img src=\"10152019_19.png\">\n",
    "<img src=\"10152019_20.png\">\n",
    "\n",
    "\n"
   ]
  },
  {
   "cell_type": "markdown",
   "metadata": {},
   "source": [
    "<h6>structall</h6>\n",
    "\n",
    "\n",
    "<img src=\"10152019_21.png\">\n",
    "traceback start lower left. not optimal algo. \n",
    "<img src=\"10152019_22.png\">\n",
    "<img src=\"10152019_23.png\">\n",
    "C2 has gap. C1 is diagonal. not dynamic programming no recursion.\n",
    "<img src=\"10152019_24.png\">\n",
    "<img src=\"10152019_25.png\">\n",
    "<img src=\"10152019_26.png\">\n",
    "\n",
    "\n",
    "\n"
   ]
  },
  {
   "cell_type": "markdown",
   "metadata": {},
   "source": [
    "<img src=\"structal_1.png\">\n",
    "<img src=\"structal_2.png\">\n",
    "<img src=\"structal_3.png\">\n",
    "<img src=\"structal_4.png\">\n",
    "<img src=\"structal_5.png\">\n",
    "<img src=\"structal_6.png\">\n",
    "<img src=\"structal_7.png\">\n",
    "<img src=\"structal_8.png\">\n",
    "<img src=\"structal_9.png\">\n"
   ]
  },
  {
   "cell_type": "code",
   "execution_count": null,
   "metadata": {},
   "outputs": [],
   "source": []
  }
 ],
 "metadata": {
  "kernelspec": {
   "display_name": "Python 3",
   "language": "python",
   "name": "python3"
  },
  "language_info": {
   "codemirror_mode": {
    "name": "ipython",
    "version": 3
   },
   "file_extension": ".py",
   "mimetype": "text/x-python",
   "name": "python",
   "nbconvert_exporter": "python",
   "pygments_lexer": "ipython3",
   "version": "3.7.3"
  }
 },
 "nbformat": 4,
 "nbformat_minor": 2
}
