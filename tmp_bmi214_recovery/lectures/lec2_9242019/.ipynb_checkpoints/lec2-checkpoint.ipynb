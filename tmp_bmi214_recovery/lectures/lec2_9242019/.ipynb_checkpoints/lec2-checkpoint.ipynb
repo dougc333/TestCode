{
 "cells": [
  {
   "cell_type": "code",
   "execution_count": null,
   "metadata": {},
   "outputs": [],
   "source": [
    "<h6> lecture 2</h6>\n",
    "ancestor can have common alignments amongst descendants. Can transfer the annotations if there is a \n",
    "common ancestor. if evolution has gone on a long time then there is big gaps between the B and C sequences. If \n",
    "there is a common ancestor D and it has tryptofan, W and you see this in B and C in the sequence then you would\n",
    "have to do more work to establish functdional and structural similarities. \n",
    "<img src=\"images/1/lec2_1a.png\" >\n",
    "<img src=\"images/1/lec2_1b.png\" >\n",
    "<img src=\"images/1/lec2_1c.png\" >\n",
    "<img src=\"images/1/lec2_1d.png\" >\n",
    "\n",
    "\n"
   ]
  },
  {
   "cell_type": "markdown",
   "metadata": {},
   "source": [
    "<h6>Consider 2 random proteins B and C</h6>\n",
    "2 proteins B and C where C has a smaller loop. Give a sequence to these 2 proteins. B=AGRVAAKSTMIEHSRVITYK, \n",
    "C=AGKLAVRS__IE_TRVKTWR, aligned with 2 gaps w/gap_length=2,1. The functional aligmnent of B and C geometrically looks\n",
    "like 2 alignments separated by gap in middle. The first box corresponds to the left helix, middle, then right helix. The exact\n",
    "match AA are probably in the ancestor since they are in both B and C proteins. The mismatches AV are hydrophobic AA, they are\n",
    "carbohydrates dont blend well with water like gas and water; A and V are AA that are C and H or carbohydrates which dont\n",
    "have charge and hence are hydrophobic. VL are also hyrdophobic. S and T are both polar. Polar means not charged but they dont\n",
    "mind interacdting with water. Y and W are large sized AA. This was a global alignment of different sized proteins but we can get\n",
    "the similarities and the middle part added gaps to compensate for the size difference. This is a structural similarity. When you align \n",
    "you are assuming a shared functional and structural role. Gaps can also be a sign the 2 sequencesa arent that similiar. IN this case\n",
    "they are. Inserting gaps you add a penalty to score. \n",
    "<img src=\"images/2/lec2_2a.png\" >\n",
    "<img src=\"images/2/lec2_2b.png\" >\n",
    "<img src=\"images/2/lec2_2c.png\" >\n",
    "You can design the gap penalty to give 2 gaps when matching IE or 1 big gap and not align IE. There is a gap start and\n",
    "gap add penalty which are different. These are mathematically optimum but may not be biologically optimum. \n",
    "<img src=\"images/2/lec2_2d.png\" >\n",
    "<img src=\"images/2/lec2_2e.png\" >\n",
    "<h6>Gold Standard for proteins</h6>\n",
    "Teh gold standard for a protein alignment is an alignment which corresponds to the AA sequence alignment. If the 2 alignments\n",
    "can be superimposed then you can verify the mathematical alignment. This is not true for DNA, for protein Sequences, the\n",
    "GOLD STANDARD IS A HIGH QUALITY 3D STRUCTURE ALIGNMENT. ideally confirmed by biologist. SO for example above the bio can say studied\n",
    "these proteins and IE definitely align. Once you have this you know which gap penalty is correct. The alignment creates a bunch of \n",
    "shared hypothesis which may or may not be true biologically. \n",
    "<h6>Gold standard for DNA</h6>\n",
    "For DNA all DNA is double helix so it is trivially superimposable, all DNA is double helix so cant use 3d structure alignment. \n",
    "2 cases, 1) if DNA is protein coding region, a gene, RNASeq where you convert the RNA /3 to DNA equivalent and align or \n",
    "2) noncoding region like Transcription factor. For TF if you can find TF amongst other genes and align, then you are using alignment to \n",
    "find shared structural roles like what we did w/proteins. Gold standard for DNA is a high quality descriptoin of how aligned\n",
    "sequences interact with binding proteins. \n",
    "<img src=\"images/2/lec2_2f.png\" >"
   ]
  },
  {
   "cell_type": "markdown",
   "metadata": {},
   "source": [
    "<h6> pairwise sequence alignent </h6>\n",
    "For proteins the scoring scheme is a match matrix. For DNA the match matrix is align like nucleotides only. For dynamic\n",
    "programming we align starting from left of A(N) and B(M); we align one letter and move to left. There are 3 cases with the gap\n",
    "1) no gap, 2) gap in first sequence, 3) gap in second sequence. \n",
    "<img src=\"images/3/lec2_3a.png\" >\n",
    "<img src=\"images/3/lec2_3b.png\" >\n",
    "<img src=\"images/3/lec2_3c.png\" >\n",
    "<img src=\"images/3/lec2_3d.png\" >\n",
    "Score matrix is the alignment score for the different alternatives. There are 3 corresponding recurrence relations \n",
    "corresponding to if there is no gap, a gap in sequence A and a gap in sequence B. The example score matrix starts out with\n",
    "gaps in the upper left hand corner with rows and the first column calcualted first. Then start in the upper left hand corner\n",
    "to calculate values from the 3 surrounding neighbors and keep a backtrack pointer on where the highest score came from. If there\n",
    "is a tie, keep both pointers. \n",
    "<img src=\"images/3/lec2_3e.png\" >\n",
    "<img src=\"images/3/lec2_3f.png\" >\n",
    "<img src=\"images/3/lec2_3g.png\" >\n",
    "<img src=\"images/3/lec2_3h.png\" >\n",
    "<img src=\"images/3/lec2_3i.png\" >\n",
    "<img src=\"images/3/lec2_3j.png\" >\n",
    "<img src=\"images/3/lec2_3k.png\" >\n",
    "youtube videos do a better job. go there for examples\n",
    "<img src=\"images/3/lec2_3l.png\" >\n",
    "\n"
   ]
  },
  {
   "cell_type": "code",
   "execution_count": null,
   "metadata": {},
   "outputs": [],
   "source": []
  }
 ],
 "metadata": {
  "kernelspec": {
   "display_name": "Python 3",
   "language": "python",
   "name": "python3"
  },
  "language_info": {
   "codemirror_mode": {
    "name": "ipython",
    "version": 3
   },
   "file_extension": ".py",
   "mimetype": "text/x-python",
   "name": "python",
   "nbconvert_exporter": "python",
   "pygments_lexer": "ipython3",
   "version": "3.7.3"
  }
 },
 "nbformat": 4,
 "nbformat_minor": 2
}
