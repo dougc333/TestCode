{
 "cells": [
  {
   "cell_type": "markdown",
   "metadata": {},
   "source": [
    "X is the hidden state, y is the emitted state. Transition  Pr(x2|x1) and emission P(Y1|X1). bit sloppy cant tell\n",
    "if they are capital or lower case. Should be lower case for observed. but dont know if they want it to be a RV. \n",
    "And notation is sloppy. T pr should be Pr(x2|x1, ...xn|xn-1) and Emission Pr(y1|x1) is correct which is hte conditional \n",
    "independence. \n",
    "<img src=\"hmm1.png\">\n",
    "break up joint probability into conditional and becauuse X and Y are symmetric you can write both P(x,y)=P(y,x)\n",
    "and we can convert joint into marginal prob using P(y) = sum(over x)P(x,y); summation over the joint probabilities. \n",
    "Bayes rule defines a posterior probability as a function of joint and marginal probabilies. \n",
    "<img src=\"hmm2.png\">\n",
    "biological applications for HMMS. debruin graphs. model DNA sequence reads link to degbruin graphs. Protein family identifcation like\n",
    "domain finding. predict common ancestry. some form of homology. Can use this to find better alignment for MSA. \n",
    "can be used for DNA chromatin architecture. TA is working on this. scRNA uses HMM, cell stage trajectory. for clinical\n",
    "can predict drug effect. we focu\n",
    "<img src=\"hmm3.png\">\n",
    "protein family prediction, for a protein sequence which family does it belong to? There are aligned and nonaligned \n",
    "secdions. why are they nonaligned in middle? Could be non functional, could be indels, the part on left bottom\n",
    "is aligned called m block. part on right is aligned but w gap. we get to that later. The gap means that one sequence\n",
    "isnt part of the family. (coursera) An M state is a block that is MSA aligned. the nonaligned states are called i states\n",
    "\n",
    "<img src=\"hmm4.png\">\n",
    "for each column the state will be eihter M, I or D state. M state emits a AA. I state emits k chars. Not a AA. Be careful. \n",
    "might be emitting a gap. \n",
    "<img src=\"hmm4a.png\">\n",
    "there are 2 gaps. the i state has a gap. means a sequence is shorter and there is no data from one of the\n",
    "sequences. the d state has typically pathogenic and bad. Can think of this AA as being dropped and pathogenic. \n",
    "Does this hold for cancer? d state means the majority are aligned but one. \n",
    "<p></p>\n",
    "profile hmm we are aligning homologous sequences, from a family. state machines correspoinding ot positions in alignment\n",
    "there are 3 state types.  M is match state w conserved structural role. emits 1 AA from a position specific scoring\n",
    "matrix. I states; insert states, insertion in sequences emiits k charcters where k>0. D state which has no emission. \n",
    "\n",
    "<img src=\"hmm6.png\">\n",
    "the emission pr are histogram in the aligned columns. this is consistent w/coursera notation. \n",
    "<img src=\"hmm7.png\">\n",
    "<img src=\"hmm8.png\">\n",
    "the ix state always is after the mx state by convention. M can go to i state and i state can go ot itself which means\n",
    "increase gap length or back to next m. \n",
    "<img src=\"hmm9.png\">\n",
    "add the d states. these are hidden states which are deletes? i states you make 1 histogram for all the i states. The d\n",
    "states dont emit anything. \n",
    "<img src=\"hmm10.png\">\n",
    "you can do 2 things with hmms. You can output a sequence based on histogram probabilities by adding nodes, m1,i1,mw,m3\n",
    "and get something related to what the histograms were created with. Unclear how she picked the nodes. this is a genertive model\n",
    "not all of these will be useful. \n",
    "or 2) find domains or motifs amongst protein sequences. You have to have the hypothesis first tho. interpro!! tools\n",
    "for identifying protein family and funciton. PFam(18k) panther(123k hmms) hamap(2k manual annotation) Sean eedy hmmer profile\n",
    "paper. \n",
    "<img src=\"hmm11.png\">\n",
    "\n",
    "<img src=\"hmm12.png\">\n",
    "math part algorithms. algorithms with hmms. scoring algorithm. is a sequence part of a model. decoding algorithnm\n",
    "to figure out hidden states and path. used for aligning. 3) building the model finding the parameters. scoring input is sequence of Lenght T\n",
    "and HMM w/N states. How to score this? Use scoring matrix. \n",
    "input\n",
    "<img src=\"hmm13.png\">\n",
    "\n",
    "<img src=\"hmm14.png\">\n",
    "<img src=\"hmm15.png\">\n",
    "<img src=\"hmm16.png\">\n",
    "<img src=\"hmm17.png\">\n",
    "<img src=\"hmm18.png\">\n",
    "<img src=\"hmm19.png\">"
   ]
  },
  {
   "cell_type": "markdown",
   "metadata": {},
   "source": []
  }
 ],
 "metadata": {
  "kernelspec": {
   "display_name": "Python 3",
   "language": "python",
   "name": "python3"
  },
  "language_info": {
   "codemirror_mode": {
    "name": "ipython",
    "version": 3
   },
   "file_extension": ".py",
   "mimetype": "text/x-python",
   "name": "python",
   "nbconvert_exporter": "python",
   "pygments_lexer": "ipython3",
   "version": "3.7.3"
  }
 },
 "nbformat": 4,
 "nbformat_minor": 2
}
