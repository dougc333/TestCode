{
 "cells": [
  {
   "cell_type": "markdown",
   "metadata": {},
   "source": [
    "<img src=\"motif1.png\">\n",
    "<img src=\"motif2.png\">\n",
    "TF is example of 1d motif. You can find these motifs from local alignment. \n",
    "<img src=\"motif3.png\">\n",
    "<img src=\"motif4.png\">\n",
    "<img src=\"motif5.png\">\n",
    "these numbers are seeing probability of seeing AA per column. column2 set .05 if you see nothing give equal\n",
    "probability over alphabet of 20aa. This is a scoring matrix for the 1d motif D*EG binding calcium sequecne/motif. \n",
    "<img src=\"motif6.png\">\n",
    "if you want to mess with sensitivity you put epsilon on PSSM where epsilon is some small constant not 0 because\n",
    "eventually you will see this. Similar to naive bayes trick where for unseen event you give small number and still\n",
    "have probability add up to 1. \n",
    "<img src=\"motif7.png\">\n",
    "in biology you know the positions are sometimes correlated position 1 and position 4. This isnt good for hmms which \n",
    "dont capture any of these relationships beyone the next state. PSSMS are above blosom62 in specifity but cant\n",
    "capture these position dependent probabilies like between position 1 and 4. \n",
    "<img src=\"motif8.png\">\n",
    "the blosum62 scoring matrix is derived by looking at BLOCKS database. BLOCKS is derived from hits from prosite.  \n",
    "<img src=\"motif9.png\">\n",
    "plot entropy, these seq logos show conserved and xxx\n",
    "<img src=\"motif10.png\">\n",
    "the height is C(i) of the letters and indicates percent conserved across MSA. \n",
    "<img src=\"motif11.png\">\n",
    "lowest entropuy is when conserved. no change.\n",
    "the highest possible entropy is when ATCG are all equal probability which is -2. \n",
    "<img src=\"motif12.png\">\n",
    "3d motif. if you sequence this 3d motif where the constraints are the red dots binding to the Ca molecule then \n",
    "if you linearize this you will never find it bc the loops are all of variable lenght across different sources or sequences. \n",
    "\n",
    "<img src=\"motif13.png\">\n",
    "<img src=\"motif14.png\">\n",
    "3d motifs can give clues to binding and active sites on protein\n",
    "<img src=\"motif15.png\">\n",
    "<img src=\"motif16.png\">\n",
    "serine protease is stable in stomach acid. can also use for detergent if make stable at hightemps for protein stains\n",
    "<img src=\"motif17.png\">\n",
    "<img src=\"motif18.png\">\n",
    "<img src=\"motif19.png\">\n",
    "<img src=\"motif20.png\">\n",
    "<img src=\"motif21.png\">\n",
    "tradeoff between sensitivity and specifity. make box bigger and smaller\n",
    "<img src=\"motif22.png\">\n",
    "<img src=\"motif23.png\">\n",
    "<img src=\"motif24.png\">\n",
    "<img src=\"motif25.png\">\n"
   ]
  },
  {
   "cell_type": "code",
   "execution_count": null,
   "metadata": {},
   "outputs": [],
   "source": []
  }
 ],
 "metadata": {
  "kernelspec": {
   "display_name": "Python 3",
   "language": "python",
   "name": "python3"
  },
  "language_info": {
   "codemirror_mode": {
    "name": "ipython",
    "version": 3
   },
   "file_extension": ".py",
   "mimetype": "text/x-python",
   "name": "python",
   "nbconvert_exporter": "python",
   "pygments_lexer": "ipython3",
   "version": "3.7.3"
  }
 },
 "nbformat": 4,
 "nbformat_minor": 2
}
