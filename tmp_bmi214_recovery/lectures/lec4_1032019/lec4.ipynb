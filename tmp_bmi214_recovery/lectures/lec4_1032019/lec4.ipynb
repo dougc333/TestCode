{
 "cells": [
  {
   "cell_type": "code",
   "execution_count": null,
   "metadata": {},
   "outputs": [],
   "source": [
    "<h6>similarity vs homology</h6>\n",
    "Teh score at the end of the alignment process defined as score. Teh score for CW is 29 and for AA is 4. We\n",
    "saw earlier C and W have very strong affinities for each other so a pair like CW=CW is much more likely than AA. \n",
    "the problem is these scores are good for sequences of relatively same length and arent normalized for length. A score of 10\n",
    "maybe impressive for a sequence length of 2 but not of 10!. We will see how to normalize this for length. The score is an indication\n",
    "of teh similarities between 2 sequences. teh max is when teh sequences are identical. They talk about sequence similarity\n",
    "in 2 ways, 1) sequence identity (%), seqA and seqB are 40% identical in alignment, or number of identical AA by position\n",
    "between A and B and 2) sequence similarity (%) means the columns which are contributing a score greater than 0. \n",
    "<img src=\"lec4_1a.png\">\n",
    "this would be 0% identical and 100% similar. DE are similar properties, biochemically, and contribute a match score more than 0, same with WY. \n",
    "homology=2 sequences have common ancestor. example is myoglobin homologous to hemiglboin. Look up in database!!!\n",
    "myoglobin is protein in muscle. hemoglobin is protein in blood cells. very similar structurally. suggests homologs. seq is similar. \n",
    "sequence identi and similarity are evidence of homology. does not mean for sure the 2 sequences are homologous. homology is what happened in evolution\n",
    "while sequence identity and similarity is from an algorithm or alignment. not same. \n",
    "<img src=\"lec4_1b.png\">\n",
    "\n",
    "<img src=\"lec4_1c.png\">\n",
    "ancestor A and a speciation event, B is homolog to A and C is homolog to A. B and C are homologs bc they share a common \n",
    "ancestor. AB, AC, BC all have homolog relationship. subtypes of homologs. ortholog, are homologs in different species that play\n",
    "the same functional role. both people and yeast have process called glycosys which uses a standrd set of enzymes. Lets say the ancestor\n",
    "A had this glycosys breaking glycosis into energy. If A is part of glycolsys and B is the enzyme which does glycolysis like step3 in glycosys\n",
    "then B is ortholog of A and if C does same thing in yeast like B does in human than is ortholog. \n",
    "paralog: homolog in same species that play different functional roles. Lets say during human evolution there was an event\n",
    "    a copy of protein B was made by mistake. A mutation called Bprime which was originally an exact copy of B. now B is doing its glycosys job\n",
    "    and Bprime and says it can help. but B says it doesnt need help. So Bprime to survive has to evolve function away from glycolysis. Maybe Bprime\n",
    "    becomes useful for another function. SO during sequencing you find Bprime and B. They are unlikely to do teh same function. B and BPrime are paralogs. \n",
    "    Orthologs and paralogs have high sequence similarity. If I sequence yeast and get C. and you sequence human and get B and BPrime. How do you know which are orthologs\n",
    "    and which are paralogs? Teh signal if similarity between B and C is less than B and BPrime. They all look similar and you cant really tell. \n",
    "    People want orthologs. Mututal best hit to get orhtologs between B and C. heuristic for orthologs. Not guaranteed to be correct. \n",
    "    All of this best hit stuff uses sequence similarity and identity. B and BPrime called gene duplication, a genomic pricess. Humans have many paralogs\n",
    "    In liver there are many paralogs. Liver detoxifys drugs bc they evolve to detox food. \n",
    "<img src=\"lec4_1d.png\">\n",
    "<img src=\"lec4_1e.png\">\n",
    "<img src=\"lec4_1f.png\">\n"
   ]
  },
  {
   "cell_type": "code",
   "execution_count": null,
   "metadata": {},
   "outputs": [],
   "source": [
    "<h6>BLAST</h6>\n",
    "this is what everyone uses for alignment. what is problem w/smith waterman and needleman? O(nm) which is ok for thousands. \n",
    "if you want to search a database. If N or M is 10^12 then you cant do this. O(nm) is n-squared. Blast invented when genbank became\n",
    "to big. BLAST is constant or linear time? \n",
    "<img src=\"lec4_2a.png\">\n",
    "<img src=\"lec4_2b.png\">\n",
    "<img src=\"lec4_2c.png\">\n",
    "<img src=\"lec4_2d.png\">\n",
    "<img src=\"lec4_2e.png\">\n",
    "<img src=\"lec4_2f.png\">\n",
    "<img src=\"lec4_2g.png\">\n",
    "\n",
    "\n"
   ]
  }
 ],
 "metadata": {
  "kernelspec": {
   "display_name": "Python 3",
   "language": "python",
   "name": "python3"
  },
  "language_info": {
   "codemirror_mode": {
    "name": "ipython",
    "version": 3
   },
   "file_extension": ".py",
   "mimetype": "text/x-python",
   "name": "python",
   "nbconvert_exporter": "python",
   "pygments_lexer": "ipython3",
   "version": "3.7.3"
  }
 },
 "nbformat": 4,
 "nbformat_minor": 2
}
