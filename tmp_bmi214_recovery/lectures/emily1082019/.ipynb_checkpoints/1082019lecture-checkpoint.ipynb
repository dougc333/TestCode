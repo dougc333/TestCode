{
 "cells": [
  {
   "cell_type": "markdown",
   "metadata": {},
   "source": [
    "<img src=\"emily_GeneExpression.png\">\n",
    "Review of random variable, coin toss H or T outcome. Toss 4 times. What is likelihood of #heads, #tails:\n",
    "P(0 heads) = (1/2)^4, P(1 heads) = 4/16,P(2 heads) = 6/16,P(3 heads) = 1/4 , P(4 heads) = 1/16. Follows binomial\n",
    "distribution. (n k)p^k(1-p)^(). Can plot these as pmf, if continuous becomes pdf. See the graph below in image on left. \n",
    "From PMF can find cumulative distribution function which is P(X<x); what is probability RV takes on value or less, need\n",
    "to integrate PMF from minus infinity to x to get value of CDF. "
   ]
  },
  {
   "cell_type": "markdown",
   "metadata": {},
   "source": [
    "\n",
    "<img src=\"images/bmi214_1082019_emily0.png\">\n",
    "\n",
    "probabiltiy mass functionwhich is the density, Teh probability teh random variable takes on a value P(X=x). \n",
    "the graph shows p(1/4) thre is 1 head, P(1/2) there are 2 heads, etc..the CDF is the probability the RV takes\n",
    "value less than x, CDF(X<x) = the integral from minus infinity to x. In the PMF above the CDF is below. \n",
    "<img src=\"images/emilycdf.png\">\n",
    "<p></p>\n",
    "<h6>GSEA, Differential Gene expression</h6>\n",
    "To setup differential gene expression test you would 1) normlaize and 2) differential express across control and other group\n",
    "to see difference. for rnaseq data you have counts. (??example). Available sw to do this is DESEq, limma, samr. Which genes\n",
    "are differentially expressed under conditions. the conditions are the columns. What might be some of the limitations of \n",
    "differential expression? Or on microarray? if a gene expression occurs more in one population you get the genetic markers\n",
    "for the population vs. the disease. The problem w GSEA is multiple hypothesis. You are testing for one but with\n",
    "20k genes you are getting other hypothesis in there also which are interfering. \n",
    "<img src=\"images/bmi214_1082019_emily1.png\">\n",
    "cumulative density function, is the probability if being less than x. In the example above CDF(x<.5) then the CDF of\n",
    "this is the area under the PDF from minus infinity to x; where x is 1/2. CDF(1)=1/4+1/16 = 5/16. \n",
    "<img src=\"images/bmi214_1082019_emily2.png\">\n",
    "\n",
    "<img src=\"images/bmi214_1082019_emily3.png\">\n",
    "<img src=\"images/bmi214_1082019_emily4.png\">\n",
    "The red is another distribtion. The KS test tells if the samples are from the same distribution\n",
    "<img src=\"images/bmi214_1082019_emily5.png\">\n",
    "The KS test is non parametric, it relies on rank and not on std deviation or on variance. WHy? What is the advantage\n",
    "of nonparametric tests? We converted parametric continuous data to nonparametric data by changing it to a ranking. \n",
    "One reason is when you have small sample size you dont have enough data to generate a distribution and any outliers\n",
    "could be part of a long tail which is part of the distribution but would affect mean values or parametric values and \n",
    "would indicate 2 samples are not from the same distribution but really are or vice versa. \n",
    "We are using a variation of the KS test, doing permutations to find the background distribution. \n",
    "ranked gene list is AFDEBC\n",
    "<img src=\"images/bmi214_1082019_emily6.png\">\n",
    "gene set is AD\n",
    "<img src=\"images/bmi214_1082019_emily7.png\">   \n",
    "Start at top of ranked list. Gene set is AD and A is a hit so start from 0 and add hit penalty bc it is in gene set.\n",
    "F is a miss, subtract miss penalty, -.7, D is hit add 1.4. E, B, C are misses subtract 0.7 on each. \n",
    "<img src=\"images/bmi214_1082019_emily8.png\">"
   ]
  },
  {
   "cell_type": "markdown",
   "metadata": {},
   "source": [
    "<img src=\"images/bmi214_1082019_emily9.png\">"
   ]
  },
  {
   "cell_type": "markdown",
   "metadata": {},
   "source": [
    "<h6>Permutation test</h6>\n",
    "because the genes are not indepenent and are interrelated or correlated we cant use the closed form KS test, we have \n",
    "to do the permutation test where we switch labels. Enrichment score, 2.1 is absolute value, the max; either positive or negative\n",
    "We compare the permuted to the saved first enrichment score. You choose which permuted ones are bigger than the saved\n",
    "one and divide by number of trials to get pvalue. You recalculat the ES for each permutation. If you permute it 1k times\n",
    "then the empirical pvalue is the fraction of scores that are >= the actual score. In out example if we did this 1k times\n",
    "and we see 2.2 bigger and it is the only one then that is 1/1000 for empirical pvalue!!! \n",
    "<img src=\"images/bmi214_1082019_emily10.png\">\n",
    "<img src=\"images/bmi214_1082019_emily11.png\">\n",
    "<img src=\"images/bmi214_1082019_emily12.png\">\n",
    "<img src=\"images/bmi214_1082019_emily13.png\">\n",
    "<img src=\"images/bmi214_1082019_emily14.png\">\n",
    "\n"
   ]
  },
  {
   "cell_type": "markdown",
   "metadata": {},
   "source": [
    "<img src=\"images/bmi214_1082019_emily15.png\">\n",
    "<h6>What are benefits of looking at gene sets vs individual?</h6>\n",
    "1) mreduces number of tests. \n",
    "2) more hetergeonity(what does this mean?)\n",
    "3) this is a more interpreable than individual genes. \n",
    "4) if you do at single gene, for gene set you may miss single gene. This is downside. \n",
    "A gene set approach is also done at single gene level. \n",
    "<img src=\"images/bmi214_1082019_emily16.png\">\n",
    "we started out with genes and drugs. first assignment we had to go to GEO. This is a repo of gene expression data. \n",
    "go to GEO and get all of the samples associated with particular disease of interest. What if I want to look at drug data? \n",
    "couple source of drug data sets. Have some cell in dish and you give it a drug. The cell is going to change gene expression\n",
    " and we measure!!! after drug and before drug we can compare gene expression!! There are 3 drugsets. \n",
    "    Drug matrix is a database, they took rats drugs and look at tissues. 600 compounds. 7 different tissues. \n",
    "    CMAP: cmap used 6k drugs applied to 4-5 cell lines. one is prostate, one is breast, one is leukemia, one is melanoma. \n",
    "    \n",
    "<img src=\"images/bmi214_1082019_emily17.png\">   \n",
    "    "
   ]
  },
  {
   "cell_type": "code",
   "execution_count": null,
   "metadata": {},
   "outputs": [],
   "source": [
    "<h6>Things w/CMAP</h6>\n",
    "given list of drugs, and list of disease do you find similarities between genesets. 2011 paper. Dudley and Sirota. Took\n",
    "all of the gene expression datasets who had IBS, ittitable bowel, what are drugs most opposite to teh disesase and\n",
    "pick out top drugs. one was used for IBD the second drug was an anticonvolsuant. Then they did trials on rats then \n",
    "humans and it did not work. \n",
    "L1000 LINGS dataset. 20k perturbgens,and 50 cell lines.  Over 1m columnbs. small molecule. GEO you can download this. \n",
    "instead of measuring 20k genes used correlation structure to predict structure??? These were done in cells vs. in human. Some\n",
    "limitations. "
   ]
  },
  {
   "cell_type": "code",
   "execution_count": null,
   "metadata": {},
   "outputs": [],
   "source": [
    "<h6>additional material</h6>\n",
    "http://compbio.pbworks.com/w/page/16252887/Differential%20Gene%20Expression%20and%20Hypothesis%20Testing\n",
    "Golub et al used differential gene expression to tell the difference between acute myeloid leukemia (AML) and acute lymphoblastic leukemia (ALL).\n",
    "We did something called a fold change. Find the control group and the diseased group in endometriosis patients\n",
    "and find the 1.2 fold difference in the BMP4 gene. Fold change is not the best way to detect change. Averages can be skewed by large differences between sample replicates. \n",
    "The fold change is not always a good measure of differential gene expression, especially when examining the expression of less abundant transcripts\n",
    "<img src=\"images/extra1.png\">\n",
    "The t test is a better way to tell the difference between 2 averages. The major issue with applying the t-test to microarray data is that because arrays are so expensive, \n",
    "there are relatively few replicates. \n",
    "This leads to poor estimates of variance which are easily skewed.\n",
    "<img src=\"images/extra2.png\">"
   ]
  },
  {
   "cell_type": "code",
   "execution_count": null,
   "metadata": {},
   "outputs": [],
   "source": [
    "<h6>hypothesis test, t-test and chi square test</h6>\n",
    "The one sample t test compares a sample mean to a hypothesized mean and determines the likelihood that the observed\n",
    "diffeerence between teh sample and hypothesis mean occured by chance. The chance is p-value. A pvalue of 1 is they\n",
    "are the same. A .01p value means there is a 1/100 chance such a difference would occur by chance the 2means are teh\n",
    "same. A small p value means teh sample mean is significantly different from the hypothesize value. Teh tvalue expresses\n",
    "the difference between teh mean and hypothesized value in terms of standard error. \n",
    "\n",
    "<p></p>\n",
    "Another way is to form a confidence interval around a mea. A confidence interval reports a range of values within which\n",
    "a particular value would occur if smaples were taken repeatedly from the same distribution. "
   ]
  },
  {
   "cell_type": "code",
   "execution_count": null,
   "metadata": {},
   "outputs": [],
   "source": [
    "<h6>Komogorov-Smirnov</h6>\n",
    "tests wheter the distirbuion of a continuous variable si the same for the 2 groups. It tests the null hypothesis\n",
    "that 2 distributions are teh same UNDER THE ASSUMPTION taht observations from teh 2 groups are independent of each\n",
    "other. It is calculated by comparing the 2 distributions at a number of points and then cnsidernng the max difference\n",
    "between teh 2 distributions. The actual data points are not compared but a funciton of the points are calculated and\n",
    "comapred. This tests relies on the maximum of a set of numbers and may be influencd by outliers. If there are one or 2 outliers\n",
    "the KS test may say the distribuions are teh same while the Wald-Wolfowitz uses ranks and is resistant to outliers. \n"
   ]
  },
  {
   "cell_type": "markdown",
   "metadata": {},
   "source": [
    "<h6>Sensitivity and Selectivity</h6>\n",
    "where is the most sensitive test and where is the most specific test? \n",
    "\n",
    "<img src=\"images/spec1.png\">\n",
    "<img src=\"images/spec2.png\">"
   ]
  },
  {
   "cell_type": "code",
   "execution_count": null,
   "metadata": {},
   "outputs": [],
   "source": [
    "<h6></h6>"
   ]
  }
 ],
 "metadata": {
  "kernelspec": {
   "display_name": "Python 3",
   "language": "python",
   "name": "python3"
  },
  "language_info": {
   "codemirror_mode": {
    "name": "ipython",
    "version": 3
   },
   "file_extension": ".py",
   "mimetype": "text/x-python",
   "name": "python",
   "nbconvert_exporter": "python",
   "pygments_lexer": "ipython3",
   "version": "3.7.3"
  }
 },
 "nbformat": 4,
 "nbformat_minor": 2
}
