{
 "cells": [
  {
   "cell_type": "markdown",
   "metadata": {},
   "source": [
    "<h6>Gap alignment</h6>\n",
    "when you end, if you have to make a gap to end the sequence you have the opening and extension penalaties and length\n",
    "of the sequences so you know the penalty to end in gap. \n",
    "<img src=\"images/lec3_1a.png\">\n",
    "<img src=\"images/lec3_1b.png\">\n",
    "<img src=\"images/lec3_1c.png\">\n",
    "<img src=\"images/lec3_1d.png\">\n",
    "<img src=\"images/lec3_1e.png\">\n",
    "<img src=\"images/lec3_1f.png\">\n",
    "<img src=\"images/lec3_1g.png\">\n",
    "<img src=\"images/lec3_1h.png\">\n",
    "<img src=\"images/lec3_1i.png\">\n",
    "<img src=\"images/lec3_1j.png\">\n",
    "<img src=\"images/lec3_1k.png\">\n"
   ]
  },
  {
   "cell_type": "markdown",
   "metadata": {},
   "source": [
    "<h6>Match matrix</h6>\n",
    "similar AA are getting postitive scores, ones that are dissimialar are negative. ones 0 are not similar or dissiimilar. \n",
    "C to C is 12. Very large. negative means low probability. The probabilistic interpretation for these matrices. The score\n",
    "matrix created from counting AA frequency in protein sequences, swiss-prot has protein sequences. p(i) varies from 2% to 11%\n",
    "it is not the case all 20AA are equally distributed and are in 20% of the known protein sequences. N is 0 which means the\n",
    "observe=expected so log(1)=0. For N you see what is expected by chance. What the matrix tells you is D-N is 2 and is more than\n",
    "what you would expect by chance based on prior from the database. negative means biology and evolution is actively selecting\n",
    "against these matches. R-A is -2 and not something you would see by chance and evolution selects against this. The match matrix\n",
    "has a probabilistic interpretation. \n",
    "<img src=\"images/lec3_2a.png\">\n",
    "<img src=\"images/lec3_2b.png\">\n",
    "<img src=\"images/lec3_2c.png\">\n",
    "<img src=\"images/lec3_2d.png\">\n",
    "If you want to solve for the count you can take exp of both sides to solve for q. \n",
    "<img src=\"images/lec3_2e.png\">\n"
   ]
  },
  {
   "cell_type": "markdown",
   "metadata": {},
   "source": [
    "<h6>pam250</h6>\n",
    "250 mutatoins per 100AA.2 sewquences have diverged evolutionarily st. you ger 2.5 mutations per AA. in a sequence of 100AA \n",
    "you have 2.5 mutations per position!!!!> blosum 62, sequences are 62% identical. 6.2 or 6/10 are same and 4 are different. blosum62\n",
    "they got the best results aligning the gold standard. blosum62 not structure alignment is a sequence alignment so need 62% to ensure\n",
    "correctness. wheras pam250 is lignment matrix. how to build match ,atrix with structure criteria or sequence criteria. \n",
    "<img src=\"images/lec3_3a.png\">\n",
    "<img src=\"images/lec3_3b.png\">\n",
    "<img src=\"images/lec3_3c.png\">\n",
    "<img src=\"images/lec3_3d.png\">\n",
    "alignment assumes preferences fir AA alignment is equal across sequences A and B. definitely not true but we make this assumption. \n",
    "for exampple hemiglobin needs histidine in certin location else it isnt functional. \n"
   ]
  },
  {
   "cell_type": "markdown",
   "metadata": {},
   "source": [
    "<h6>gaps D and e where do they come from?</h6>\n",
    "2 methods, a scale factor for lambda and also run blo62 vs gold standard and set. \n",
    "<img src=\"images/lec3_4a.png\">\n",
    "<img src=\"images/lec3_4b.png\">\n",
    "<img src=\"images/lec3_4c.png\">\n",
    "<img src=\"images/lec3_4d.png\">\n"
   ]
  },
  {
   "cell_type": "markdown",
   "metadata": {},
   "source": [
    "<h6>global pairwise alignment</h6>\n",
    "global alignment what is best alignment considering all of A and all of B. \n",
    "Gobal alignment has 2 flavoers, 1) includes all letters considered and endgaps included, 2) no endgaps and not all letters considered\n",
    "local: do I see subsequence? local alignment you to align the ATP gene in the example in figure below. Global would never find it. \n",
    "<img src=\"images/lec3_5a.png\">\n",
    "<img src=\"images/lec3_5b.png\">\n",
    "<img src=\"images/lec3_5c.png\">\n",
    "note you cannot do this in traceback, Ix followed by Iy. \n",
    "<img src=\"images/lec3_5d.png\">\n"
   ]
  },
  {
   "cell_type": "code",
   "execution_count": null,
   "metadata": {},
   "outputs": [],
   "source": []
  }
 ],
 "metadata": {
  "kernelspec": {
   "display_name": "Python 3",
   "language": "python",
   "name": "python3"
  },
  "language_info": {
   "codemirror_mode": {
    "name": "ipython",
    "version": 3
   },
   "file_extension": ".py",
   "mimetype": "text/x-python",
   "name": "python",
   "nbconvert_exporter": "python",
   "pygments_lexer": "ipython3",
   "version": "3.7.3"
  }
 },
 "nbformat": 4,
 "nbformat_minor": 2
}
