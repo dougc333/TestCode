{
 "cells": [
  {
   "cell_type": "markdown",
   "metadata": {},
   "source": [
    "<img src=\"images/seq1.png\">\n",
    "<img src=\"images/seq2.png\">\n",
    "\n",
    "\n",
    "<h6>Sanger sequencing</h6>\n",
    "Uses chain terminating DNA to attach to each fragment for library prep. then you read it in a gel. Problem is \n",
    "can only do 1 fragment per run. \n",
    "<img src=\"images/seq3.png\">\n"
   ]
  },
  {
   "cell_type": "markdown",
   "metadata": {},
   "source": [
    "<h6>NGS</h6>\n",
    "<img src=\"images/seq3a.png\">\n",
    "do everything in parallel. PCR to amplify and produce copies. Extend one nucleotide at a time. USe NT with flouresecnt\n",
    "market with them instead of chain terminating in Sanger. Image each step. Can get human genome done <599 compared to\n",
    "100M for sanger sequencing. Issues, sequencing error, and repeat regions. Repeating region causes problem for sequencing\n",
    "teh PCR doesnt do well on repeat areas. High GC content. Parts of genome has GC regions, not sequenced accurately. \n",
    "Why? One way to get around is \n",
    "Problems with NGS sequencing: repeat NT regions GGGGG where the same nucleotide is repeated and areas of high GC\n",
    "    content. The Human Genome has areas of high GC because it is more stable. Assume all of this is noncoding. \n",
    "\n",
    "If you ahve error .1% and you sequence 2 depth then p(error)=10^-4 for 8x depth get error 10-16. For 3b what do you need? \n",
    "Long reads like oxford nanopore has high error rate also, 10-15%!!!\n",
    "Read depth can get sensitivity to 1% with NGS and 10-15% for sanger sequencing.  \n",
    " Read depth solves 2 problems, reduces error rate as shown above and also gives you high sensitivity for detecting rare events. Single mutation.\n",
    "    <img src=\"images/seq5.png\">\n",
    "    <img src=\"images/seq6.png\">\n",
    "    <img src=\"images/seq4.png\">"
   ]
  },
  {
   "cell_type": "markdown",
   "metadata": {},
   "source": [
    "<h6>Assembly</h6>\n",
    "2 types of assembly\n",
    "Reference and denovo assembly\n",
    "reference, maps reads to known genome sequence. humans share 99.5 to 99.9% genome w otehr humans. faster cheaper, reliable\n",
    "use BOWTIE method for reference 30m reads/CPU hour. Memory efficient. How are do we get fast and memory efficient. \n",
    "Secret is Burrows Wheeler transform. Transforms string, originally used for compression. \n",
    "<img src=\"images/seq7.png\">\n",
    "\n",
    "\n",
    "<h6>BWT referecne assembly</h6>\n",
    "<img src=\"images/seq8.png\">\n",
    "<img src=\"images/seq9.png\">\n",
    "<img src=\"images/seq10.png\">\n",
    "<img src=\"images/seq11.png\">\n",
    "<img src=\"images/seq12.png\">\n",
    "<img src=\"images/seq13.png\">\n",
    "<img src=\"images/seq14.png\">\n",
    "\n",
    "\n",
    "\n",
    "\n",
    "\n",
    "\n"
   ]
  },
  {
   "cell_type": "markdown",
   "metadata": {},
   "source": [
    "<h6>Alignment to BWS matrix</h6>\n",
    "h0w to align a query AAC to the matrix? General procedure start w last character of query. C and align suffix\n",
    "to rows of the matrix. The marix is a suffix array. YOu arent storing the entire matrix. you only have the\n",
    "last column so you have to rebuild from there. Finding the row in the genome is beyond scope of class. \n",
    "<img src=\"images/seq15.png\">\n",
    "This process does not allow for mismatches. To deal wiht this, bactracking. If you get ot position if we had\n",
    "AGC and align C but there is no G; we randomly permutet the G to something else to allow continuing!! Allow max\n",
    "mismatches in query. Can also do error correction for reads. \n"
   ]
  },
  {
   "cell_type": "markdown",
   "metadata": {},
   "source": [
    "<h6>denovo assembly</h6>\n",
    "de bruijn graphs. represent genome as graph where nodes are k-1 kmers and edges are kmers. Can have loops for repeated\n",
    "regions and multiedges. assembly is path in graph. Hamiltonian walk whre you visit every node exactly once. This problem is \n",
    "np complete for large nodes. NO known solutions in polynomial time. Use eulerian walk visit each edge once. O9E) where E is edges\n",
    "in graph. Requirements of graph for eulerian walk 1) connected each node has to be connected 2) at most 2 unbalanced nodes\n",
    "which means balanced is defined where node of inedges is same as outeddges. If there are 2 unbalanced nodes you have a directed\n",
    "path or directional path. If you have no unbalanced edges you have cycle. If you have more than 2 unbalalced nodes\n",
    "you cant do eulerian path. If you have 0 unbalanced edges you have cycle. \n",
    "\n",
    "Algorithm for eulerian walk: hier holtzers algorithm. Select starting node, U. randomly walk from u until you reach\n",
    "    a node wiht no outgouing unvisited edges. If you get stuck you backtrack. call each node you arrived at vt. if vt\n",
    "    has unvisited out edges then you recurse to second step else you add vt to end of assembled sequence and go to vt-1. \n",
    "    At GA and stuck \n",
    "    <img src=\"images/seq16.png\">\n",
    "    <img src=\"images/seq17.png\">\n",
    "    <img src=\"images/seq18.png\">\n",
    "    start at GA you have no unvisited out edges. \n",
    "    backtrack through 5 and add edge. GA and edge C? \n",
    "    if stuck there backtrach throu5 and add edge. (modified). Start with GA, then the next node (5) is CG but \n",
    "    the edge to get there is C. So our sequence is GA ten we add C. after 5 we are at CGA. NExt edge is 4, node is AC but \n",
    "    edge is A. So add A, ACGA. no outgoing edges no pick 3. add A to sequence. AACGA. Now we are at node AA but we \n",
    "    have no outgoing edges so we visit loop 6 and we end up at AA agin and there are no no unvisited outgoing edges. AACGA. \n",
    "    now ewe got os. \n",
    "    \n",
    "    \n",
    "<img src=\"images/seq19.png\">\n",
    "advantages of debruijn graphs. does not require aligning all reads to other reads. If you dont do this you have\n",
    "to align reads and is too expensive. Can scale w size of genome and we can deal w repeat regions. The reason why we can \n",
    "deal with repeat regions is because of these self loops!!! Can have as many As as you want just add more loops. Does not get \n",
    "around PCR problem but you can assemble. \n",
    "Issues: 1) assume every kmer is covered. Every kmer in genome is covered. if k<length of read then the more likely\n",
    "    it will align. Small k means more likely you match but morelikely you get spurious hits. k is generally 31=51 for genome\n",
    "    alignment. Errors in reads can cause bubbles in graph. the bubbles are nondeterministc loops that result in multiple\n",
    "    assembly. You dont know which is the correct assembly. Bubbles have multiple paths, cant tell whcih one is better. \n",
    "    To avoid this issue, 1) error correct reads. 2) select a larger k. If you increase k to 5 this bubble goes away. \n",
    "<img src=\"images/seq20.png\">\n",
    "    "
   ]
  },
  {
   "cell_type": "markdown",
   "metadata": {},
   "source": [
    "<img src=\"images/seq21.png\">\n",
    "<img src=\"images/seq22.png\">\n",
    "<img src=\"images/seq23.png\">\n",
    "<img src=\"images/seq24.png\">\n",
    "<img src=\"images/seq25.png\">\n",
    "<img src=\"images/seq26.png\">\n",
    "    large k give less overlaps but get lower depth of coverage. \n",
    "    "
   ]
  },
  {
   "cell_type": "code",
   "execution_count": null,
   "metadata": {},
   "outputs": [],
   "source": []
  }
 ],
 "metadata": {
  "kernelspec": {
   "display_name": "Python 3",
   "language": "python",
   "name": "python3"
  },
  "language_info": {
   "codemirror_mode": {
    "name": "ipython",
    "version": 3
   },
   "file_extension": ".py",
   "mimetype": "text/x-python",
   "name": "python",
   "nbconvert_exporter": "python",
   "pygments_lexer": "ipython3",
   "version": "3.7.3"
  }
 },
 "nbformat": 4,
 "nbformat_minor": 2
}
