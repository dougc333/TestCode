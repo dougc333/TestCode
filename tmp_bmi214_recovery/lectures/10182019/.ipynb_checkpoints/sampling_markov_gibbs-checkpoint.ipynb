{
 "cells": [
  {
   "cell_type": "markdown",
   "metadata": {},
   "source": [
    "<img src=\"10182019_1.png\">\n",
    "why do sampling w/MC? search space too large. np complete. Sampling only solution. An approximate solution. \n",
    "Sampling; also called Monte carlo method. Learn about system; say mean or variance which exist for 1 sample and\n",
    "you can update but you dont get exact solution. \n",
    "<img src=\"10182019_2.png\">\n",
    "cant find exact solution. exampel: if rectangle with length a and b. Want to know average distance bewtten points. \n",
    "    sample points and compute mean. this is an estimate of the mean. This approximates teh exact formula for a rectangle\n",
    "    and poitns in a rectangle. This exact solution exists but for other shapes there is no exact solution. This is what\n",
    "    he means by brittle. If you change the problem a little then you dont have exact soln anymore. \n",
    "<img src=\"10182019_3.png\">\n"
   ]
  },
  {
   "cell_type": "markdown",
   "metadata": {},
   "source": [
    "Simple or crude monte carlo. Like mean distance in rectangel problem. justification is law of large numbers. As we take\n",
    "more samples we will approach true solution. \n",
    "<img src=\"10182019_4.png\">\n",
    "<img src=\"10182019_5.png\">\n",
    "markov chain assumption: next state. no memory. \n",
    "<img src=\"10182019_6.png\">\n",
    "markov chain leads to stationary distribution\n",
    "<img src=\"10182019_6a.png\">\n",
    "<img src=\"10182019_7.png\">\n",
    "MCMC. markov chain monte carlo. Goal: construct a markov chain with arbitrary stationary distribtion; Pi. Method=metropolis hastings\n",
    "    You dont have to explicitly calcuate a markov chain wiht all the states and transition probabilities because the space is so large. \n",
    "<h6>Algo Metropolis Hastings</h6>   \n",
    "1)start at random point P0 and this is random protein sequence; you can sample reject teh ones that are hard to compute and in process you approximate a \n",
    "markov chain. \n",
    "<p></p>\n",
    "2) propose update baed on proposal chain Q(Pi->). construct a Markov chain we can sample from. If we have ABCD protein \n",
    "seqyebce, we can go to any other sequence 1 letter different is proposal chain. All of these states have equal prob. \n",
    "You can make this chain and figure out probability. We chose this random and is easy to simulate this. we can see later if\n",
    "we need to reject this. Propose BBCD as sequnece hwihc is one different from ABCD. Calculate A=PBoltz(y)/PBoltz(Pi)*(Q(y->Pi)/Q(Pi->y))\n",
    "A is acceptance/rejection criteria in statistics. Problem is computing boltzman but you have ratio. We dont need a normalized boltzman\n",
    "calculation which would be difficut. \n",
    "<p></p>\n",
    "3)sample U[0,1]\n",
    "<p></p>\n",
    "4) if u<A Pi+1=y else Pi+1=Pi.A\n",
    "<img src=\"10182019_8.png\">\n",
    "what teh boltzman says is if teh energy is lower we go there. if the energy is higher then we only go there with \n",
    "some probability. \n",
    "<img src=\"10182019_9.png\">\n"
   ]
  },
  {
   "cell_type": "code",
   "execution_count": null,
   "metadata": {},
   "outputs": [],
   "source": [
    "dont need to compute Z the normalizing constant. \n",
    "<img src=\"10182019_10.png\">\n",
    "tricks to solve these problems, 1) simulated annealing. start w/high temperature so we can explore space; explore more\n",
    "lower temperature to settle to good state. maybe 10k steps do high T to explore space. 2) full conditioanl distribution\n",
    "which is P(xi|Xnoti) conditioned on all but ith component. If give letters you want to know probability of letter. \n",
    "You have probability distribiton of everything but 1 component. Why is this useful. this leads us to gibbs sampler. YOu update\n",
    "sequence 1 component at a time. then update according to fully conditional distribuiotn. this comes up in motif finding. Finding sequence\n",
    "of DNA can I find the common motif. YOu can use gibbs sampling to get this. \n",
    "<img src=\"10182019_11.png\">\n",
    "<img src=\"10182019_12.png\">\n",
    "<img src=\"10182019_13.png\">"
   ]
  },
  {
   "cell_type": "code",
   "execution_count": null,
   "metadata": {},
   "outputs": [],
   "source": []
  }
 ],
 "metadata": {
  "kernelspec": {
   "display_name": "Python 3",
   "language": "python",
   "name": "python3"
  },
  "language_info": {
   "codemirror_mode": {
    "name": "ipython",
    "version": 3
   },
   "file_extension": ".py",
   "mimetype": "text/x-python",
   "name": "python",
   "nbconvert_exporter": "python",
   "pygments_lexer": "ipython3",
   "version": "3.7.3"
  }
 },
 "nbformat": 4,
 "nbformat_minor": 2
}
