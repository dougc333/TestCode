{
 "cells": [
  {
   "cell_type": "code",
   "execution_count": null,
   "metadata": {},
   "outputs": [],
   "source": [
    "<h6>Classifier Metrics</h6>\n",
    "ML=supervised and unspervised. Supervised=labeled data. rows are proteins, drugs, columns are features. What you measured. \n",
    "If you have features and rows or entities then this is an upsupervised problem. If there are labels then this is supervised like\n",
    "0/1 for categoriacal output. Classification is an example of supervised ML. \n",
    "<img src=\"images/lec5_1a.png\">\n",
    "<img src=\"images/lec5_1b.png\">\n",
    "<img src=\"images/lec5_1c.png\">\n",
    "<img src=\"images/lec5_1d.png\">\n",
    "<img src=\"images/lec5_1e.png\">\n",
    "<img src=\"images/lec5_1f.png\">\n",
    "<img src=\"images/lec5_1g.png\">\n",
    "<img src=\"images/lec5_1h.png\">\n",
    "<img src=\"images/lec5_1i.png\">\n",
    "<img src=\"images/lec5_1j.png\">\n",
    "<img src=\"images/lec5_1k.png\">\n",
    "<img src=\"images/lec5_1l.png\">\n",
    "<img src=\"images/lec5_1m.png\">\n"
   ]
  }
 ],
 "metadata": {
  "kernelspec": {
   "display_name": "Python 3",
   "language": "python",
   "name": "python3"
  },
  "language_info": {
   "codemirror_mode": {
    "name": "ipython",
    "version": 3
   },
   "file_extension": ".py",
   "mimetype": "text/x-python",
   "name": "python",
   "nbconvert_exporter": "python",
   "pygments_lexer": "ipython3",
   "version": "3.7.3"
  }
 },
 "nbformat": 4,
 "nbformat_minor": 2
}
