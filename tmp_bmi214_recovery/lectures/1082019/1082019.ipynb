{
 "cells": [
  {
   "cell_type": "markdown",
   "metadata": {},
   "source": [
    "<img src=\"1082019_1.png\">\n",
    "<img src=\"1082019_2.png\">\n",
    "in cluster you look at GO codes and see if there is a statistically significant chance of enrichment. \n",
    "example i have 3 phosphotase GO codes in cluster of 8 genes. If I know across the human genome there is 1% phosphotase\n",
    "then random. So there is statistical significant chance this cluster is phostophase function. one way to tell if statistical\n",
    "significance is to use hypergeometric distribution. \n",
    "<img src=\"1082019_3.png\">\n",
    "<img src=\"1082019_4.png\">\n",
    "<img src=\"1082019_5.png\">\n",
    "<img src=\"1082019_6.png\">\n",
    "<img src=\"1082019_7.png\">\n",
    "<img src=\"1082019_8.png\">"
   ]
  },
  {
   "cell_type": "code",
   "execution_count": null,
   "metadata": {},
   "outputs": [],
   "source": []
  }
 ],
 "metadata": {
  "kernelspec": {
   "display_name": "Python 3",
   "language": "python",
   "name": "python3"
  },
  "language_info": {
   "codemirror_mode": {
    "name": "ipython",
    "version": 3
   },
   "file_extension": ".py",
   "mimetype": "text/x-python",
   "name": "python",
   "nbconvert_exporter": "python",
   "pygments_lexer": "ipython3",
   "version": "3.7.3"
  }
 },
 "nbformat": 4,
 "nbformat_minor": 2
}
