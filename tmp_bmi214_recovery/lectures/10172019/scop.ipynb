{
 "cells": [
  {
   "cell_type": "markdown",
   "metadata": {},
   "source": [
    "scop and protein energetics. fun protein energy function. applicaiton of force to proteins is molecular dynamics\n",
    "<img src=\"scop1.png\">\n",
    "DALI, wont get to it. We do structall. You can compare DALI vs. Structall. Review from 3d sturcall from last tue. min RMSD\n",
    "you want rmsd to be less than 4-5 angstroms. these algors have a score. the higher the score the more similar they\n",
    "are and they give a guide for 3d similarity which is basis for protein structure classificaiton. SCOP=systematic classificaiotn\n",
    "of proteins. 4 level classificaiton scheme. \n",
    "<img src=\"scop2.png\">\n",
    "scop very difficult to maintain but peole like it. why? bc the gold standard for sequnece alignment is the sturcture\n",
    "alignment and scop used to verify sequence alignment. creating ML models you can leave out data from a family and use this\n",
    "for validation or test sets so you dont have data leakage. this gives a way to separate data in different families. put\n",
    "test and training set from separate families. scop is the gold standard. \n",
    "<img src=\"scop3.png\">\n",
    "<h6>protein energetics</h6>\n",
    "biology example where there is - and + charge folded to keep the charges together in 3d for a more favorable energy configuraiton. \n",
    "he said there are knowledge based ways to get protein folding. no physics required. nature doesent go through \n",
    "each conformation and test it. If we look at numbers from ramachandran plot there were 3 points, if we take 3 positions for \n",
    "a 100 AA sequence, we have 3^100 possible conformations which cant physically be searched. too large a number. just based on teh \n",
    "numbers there have to be hints in the sequence or some annotaotin we can use as hints to help predict the 3d folded \n",
    "structure. \n",
    "<img src=\"scop4.png\">\n",
    "energy. stable systems have negative energy. the favorable unfavorable chemical reactions in H outweight the T*S term\n",
    "because the more entropy term would mean protein configurations that are not folded would be more prevelant. but from scop\n",
    "we see teh oppposite so that means the H term dominates the TS term. \n",
    "<img src=\"energy_1.png\">\n",
    "<img src=\"energy_2.png\">\n",
    "<img src=\"energy_3.png\">\n",
    "<img src=\"energy_4.png\">\n",
    "<img src=\"energy_5.png\">\n",
    "<img src=\"energy_6.png\">\n",
    "<img src=\"energy_7.png\">\n",
    "<img src=\"energy_8.png\">\n",
    "<img src=\"energy_9.png\">\n"
   ]
  },
  {
   "cell_type": "markdown",
   "metadata": {},
   "source": []
  }
 ],
 "metadata": {
  "kernelspec": {
   "display_name": "Python 3",
   "language": "python",
   "name": "python3"
  },
  "language_info": {
   "codemirror_mode": {
    "name": "ipython",
    "version": 3
   },
   "file_extension": ".py",
   "mimetype": "text/x-python",
   "name": "python",
   "nbconvert_exporter": "python",
   "pygments_lexer": "ipython3",
   "version": "3.7.3"
  }
 },
 "nbformat": 4,
 "nbformat_minor": 2
}
