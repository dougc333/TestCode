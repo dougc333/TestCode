{
 "cells": [
  {
   "cell_type": "code",
   "execution_count": null,
   "metadata": {},
   "outputs": [],
   "source": [
    "<h6>clustering and gene expression</h6>\n",
    "we have single cell transcription so we can find transcription factors or promotors for genes. Before that \n",
    "we had to do expression on populations wehre you have a collection of cells. When a transcript is available it is\n",
    "expressed, the protein exists and teh gene is turned on or expressed. \n",
    "<img src=\"1072019_1.png\">\n",
    "<img src=\"1072019_2.png\">\n",
    "<img src=\"1072019_3.png\">\n",
    "<img src=\"1072019_4.png\">\n",
    "<img src=\"1072019_5.png\">\n",
    "<img src=\"1072019_6.png\">\n",
    "<img src=\"1072019_7.png\">\n",
    "<img src=\"1072019_8.png\">\n",
    "<img src=\"1072019_9.png\">\n",
    "<img src=\"1072019_10.png\">\n",
    "<img src=\"1072019_11.png\">\n",
    "<img src=\"1072019_12.png\">\n",
    "<img src=\"1072019_13.png\">\n",
    "<img src=\"1072019_14.png\">\n",
    "<img src=\"1072019_15.png\">\n",
    "\n",
    "\n",
    "\n"
   ]
  }
 ],
 "metadata": {
  "kernelspec": {
   "display_name": "Python 3",
   "language": "python",
   "name": "python3"
  },
  "language_info": {
   "codemirror_mode": {
    "name": "ipython",
    "version": 3
   },
   "file_extension": ".py",
   "mimetype": "text/x-python",
   "name": "python",
   "nbconvert_exporter": "python",
   "pygments_lexer": "ipython3",
   "version": "3.7.3"
  }
 },
 "nbformat": 4,
 "nbformat_minor": 2
}
