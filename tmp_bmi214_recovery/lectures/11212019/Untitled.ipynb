{
 "cells": [
  {
   "cell_type": "code",
   "execution_count": null,
   "metadata": {},
   "outputs": [],
   "source": [
    "<img src=\"11212019_01.png\">\n",
    "see all species on earth populating earth as now. now are ancestors derived from human bacterial fungal ancestor. \n",
    "through spciation events some were dead ends. Every now and then we find observable from dna in fossils. \n",
    "<img src=\"11212019_02.png\">\n",
    "this tree gives us 1) lineage of species AND 2) evoluton of funtion. Say eyeballs. how did eyeballs come about? Cna look at tree\n",
    "and see what you see in tree. 3) constraings on evolution. we talked about multiple sequence alignment thre is a duality\n",
    "between MSA and trees. There are MSA methonds where better tree then better the MSA. Darwin drew first evolution tree. \n",
    "\n",
    "<img src=\"11212019_03.png\">\n",
    "algoriths to build trees:\n",
    "\n",
    "<img src=\"11212019_04.png\">\n",
    "<img src=\"11212019_05.png\">\n",
    "<img src=\"11212019_06.png\">\n",
    "<img src=\"11212019_07.png\">\n"
   ]
  }
 ],
 "metadata": {
  "kernelspec": {
   "display_name": "Python 3",
   "language": "python",
   "name": "python3"
  },
  "language_info": {
   "codemirror_mode": {
    "name": "ipython",
    "version": 3
   },
   "file_extension": ".py",
   "mimetype": "text/x-python",
   "name": "python",
   "nbconvert_exporter": "python",
   "pygments_lexer": "ipython3",
   "version": "3.6.9"
  }
 },
 "nbformat": 4,
 "nbformat_minor": 2
}
