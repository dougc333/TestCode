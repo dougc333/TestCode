{
 "cells": [
  {
   "cell_type": "code",
   "execution_count": 2,
   "metadata": {},
   "outputs": [
    {
     "name": "stdout",
     "output_type": "stream",
     "text": [
      "(8, 8)\n"
     ]
    }
   ],
   "source": [
    "import numpy as np\n",
    "\n",
    "arr = np.array([[1.0,1.0,0.8,0.7,2.0,1.9,1.5,1.6],\n",
    "                [1.2,1.1,1.0,1.1,0.6,0.7,0.5,0.7],\n",
    "                [0.5,0.6,0.4,0.7,0.1,0.2,0.2,0.3],\n",
    "                [0.7,0.4,0.7,0.9,2.2,2.0,2.0,1.3],\n",
    "                [0.2,0.4,0.3,0.2,0.3,0.2,0.5,0.4],\n",
    "                [0.9,0.7,0.9,0.5,0.1,0.5,0.2,0.2],\n",
    "                [1.3,1.1,1.0,1.3,0.9,1.5,0.7,1.0],\n",
    "                [0.1,0.3,0.5,0.1,1.4,1.9,1.6,1.7]])\n",
    "print(arr.shape)"
   ]
  },
  {
   "cell_type": "code",
   "execution_count": null,
   "metadata": {},
   "outputs": [],
   "source": [
    "mean(geneA(healthy)), mean(geneA(disease))\n"
   ]
  }
 ],
 "metadata": {
  "kernelspec": {
   "display_name": "Python 3",
   "language": "python",
   "name": "python3"
  },
  "language_info": {
   "codemirror_mode": {
    "name": "ipython",
    "version": 3
   },
   "file_extension": ".py",
   "mimetype": "text/x-python",
   "name": "python",
   "nbconvert_exporter": "python",
   "pygments_lexer": "ipython3",
   "version": "3.7.3"
  }
 },
 "nbformat": 4,
 "nbformat_minor": 2
}
