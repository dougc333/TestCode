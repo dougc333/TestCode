{
 "cells": [
  {
   "cell_type": "code",
   "execution_count": null,
   "metadata": {},
   "outputs": [],
   "source": [
    "<h6>lecture clustering</h6>\n",
    "1) what expression data is. from central dogman DNS=>mRNA is transcription. Then mRNA goes to ribosome is translates to protein. expressed means the transcripts are available fpr sequencing. the mRNA> you can sequence mRNA for population of cells or single cell. single cell more expensive. If a cell changes state we can measure via RNA> q) how to design an experiment to verify RNA editing. Would we see it via gene expression? \n",
    "\n",
    "array based cheaper before sequencinf. slide with dna fragments. array contanis dna compimentry to rna transcript. start  mrna in solution, create DNA from this and add flourophor to DNA. then you pour this solution w mRNA converted to DNA w/flourphor on top of slide. If match will bind w tags and you can see cluster. dynamic range limitations to array. cant tell if little to of a lot it saturates and you lose upper range. \n",
    "\n",
    "sequencing based is rnaSEQ. Start with reference genome. Take RNA turn into DNA dont add marker. So for g1 you will see reads. For g2 you see no reads. Alternative splicing you see exons. \n",
    "\n",
    "Data you get is table of n genes, up to 20k in human. These columns are called condition.  when first paper came out lookng at yeast genome w 4k genes. conditions expose yeast to different conditions. SO 4000 genes w 200 conditions too much to look at so they clustered the data. clustering is given objects which can be rows or columns. \n",
    "\n",
    "Gene clustering finds genes which go up together and down together so those groups are part of same process. this is called functional linkage. a hypothesis. \n",
    "\n",
    "when we did alignment and they are similar that leads to hypothesis they are homologs maybe orthologs. can transfer abnnotations w sequence alignment. gene clustering fior functional hypothesis is not mean genes are similar; they only track together and may be funnctionlly linked on same pathway. \n",
    "\n",
    "cluster conditions. we can cluster either rows or columns. say c2 and c3 are same which meand the distance measure between c2 and c3 is 0. would mean limited glucose is equivalent to heat shock. not true but that is what it would mean. \n",
    "\n",
    "can use gene expreesion in human disease. get samples w ans wo breast cancer\n",
    "conditions are people tissue. 20k human genes. lymphoma clusters nicely into non cance nd cancer. smoe genes which are correlated pre cancer become uncorrelated after cancer. \n",
    "\n",
    "ok to cluster rows and columns independently\n",
    "\n",
    "\n",
    "time series different. if you watch yeast over time then each condition. different tijme. still can cluster row and column independenty\n",
    "\n",
    "bicluster:you have different distance metric for ceratin areas of matrix not same as cluster rows and columns independently. use bicluster bc set of genes expresses in liver but not in other areas like brain or other tissue. \n",
    "\n",
    "silhouette distance: you get good cluster when you have SH =1. -1 is bad cluster. You have profile of pionts of silhouette\n",
    "    distance for the cluster points. A ring doesnt work. You have to find a different distance measure. \n",
    "<img src=\"10092019_lecture_expression.png\">\n",
    "<img src=\"10092019_lecture_expression_1.png\">\n",
    "<img src=\"10092019_lecture_expression_2.png\">\n",
    "<img src=\"10092019_lecture_expression_3.png\">\n",
    "<img src=\"10092019_lecture_expression_4.png\">\n",
    "<img src=\"10092019_lecture_expression_5.png\">\n",
    "<img src=\"10092019_lecture_expression_6.png\">\n",
    "<img src=\"10092019_lecture_expression_7.png\">\n",
    "<img src=\"10092019_lecture_expression_8.png\">\n",
    "<img src=\"10092019_lecture_expression_9.png\">\n",
    "<img src=\"10092019_lecture_expression_10.png\">\n",
    "<img src=\"10092019_lecture_expression_11.png\">\n",
    "<img src=\"10092019_lecture_expression_12.png\">\n",
    "<img src=\"10092019_lecture_expression_13.png\">\n",
    "<img src=\"10092019_lecture_expression_14.png\">\n",
    "<img src=\"10092019_lecture_expression_15.png\">\n",
    "\n",
    "\n"
   ]
  },
  {
   "cell_type": "markdown",
   "metadata": {},
   "source": []
  }
 ],
 "metadata": {
  "kernelspec": {
   "display_name": "Python 3",
   "language": "python",
   "name": "python3"
  },
  "language_info": {
   "codemirror_mode": {
    "name": "ipython",
    "version": 3
   },
   "file_extension": ".py",
   "mimetype": "text/x-python",
   "name": "python",
   "nbconvert_exporter": "python",
   "pygments_lexer": "ipython3",
   "version": "3.7.3"
  }
 },
 "nbformat": 4,
 "nbformat_minor": 2
}
