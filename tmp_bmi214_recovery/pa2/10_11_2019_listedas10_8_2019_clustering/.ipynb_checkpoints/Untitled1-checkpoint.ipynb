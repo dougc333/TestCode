{
 "cells": [
  {
   "cell_type": "code",
   "execution_count": 1,
   "metadata": {},
   "outputs": [
    {
     "ename": "SyntaxError",
     "evalue": "invalid syntax (<ipython-input-1-d8ebed365355>, line 4)",
     "output_type": "error",
     "traceback": [
      "\u001b[0;36m  File \u001b[0;32m\"<ipython-input-1-d8ebed365355>\"\u001b[0;36m, line \u001b[0;32m4\u001b[0m\n\u001b[0;31m    [1.2\t1.1\t1.0\t1.1\t0.6\t0.7\t0.5\t0.7],\u001b[0m\n\u001b[0m        \t  ^\u001b[0m\n\u001b[0;31mSyntaxError\u001b[0m\u001b[0;31m:\u001b[0m invalid syntax\n"
     ]
    }
   ],
   "source": [
    "import numpy as np\n",
    "\n",
    "arr = np.array([[1.0,1.0,0.8,0.7,2.0,1.9,1.5,1.6],\n",
    "                [1.2,1.1,1.0,1.1,0.6,0.7,0.5,0.7],\n",
    "                [0.5,0.6,0.4,0.7,0.1,0.2,0.2,0.3],\n",
    "                [0.7,0.4,0.7,0.9,2.2,2.0,2.0,1.3],\n",
    "                [0.2,0.4,0.3,0.2,0.3,0.2,0.5,0.4],\n",
    "                [0.9,0.7,0.9,0.5,0.1,0.5,0.2,0.2],\n",
    "                [1.3,1.1,1.0,1.3,0.9,1.5,0.7,1.0],\n",
    "                [0.1,0.3,0.5,0.1,1.4,1.9,1.6,1.7]])\n",
    "print(arr.shape)"
   ]
  },
  {
   "cell_type": "code",
   "execution_count": null,
   "metadata": {},
   "outputs": [],
   "source": []
  }
 ],
 "metadata": {
  "kernelspec": {
   "display_name": "Python 3",
   "language": "python",
   "name": "python3"
  },
  "language_info": {
   "codemirror_mode": {
    "name": "ipython",
    "version": 3
   },
   "file_extension": ".py",
   "mimetype": "text/x-python",
   "name": "python",
   "nbconvert_exporter": "python",
   "pygments_lexer": "ipython3",
   "version": "3.7.3"
  }
 },
 "nbformat": 4,
 "nbformat_minor": 2
}
