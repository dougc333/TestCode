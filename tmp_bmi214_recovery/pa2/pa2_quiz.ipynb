{
 "cells": [
  {
   "cell_type": "markdown",
   "metadata": {},
   "source": [
    "<img src=\"images/p2quiz_1.png\">\n",
    "total RNA"
   ]
  },
  {
   "cell_type": "markdown",
   "metadata": {},
   "source": [
    "2) BMP4\n",
    "<img src=\"images/p2quiz_2_4.png\">\n",
    "\n",
    "3) 1.21, CALCULATE TBD\n",
    "4)proliferative phase"
   ]
  },
  {
   "cell_type": "markdown",
   "metadata": {},
   "source": [
    "<img src=\"images/p2quiz_5.png\">\n",
    "<img src=\"images/p2quiz_6.png\">\n",
    "<img src=\"images/p2quiz_7.png\">\n",
    "<img src=\"images/p2quiz_8.png\">\n",
    "Sensitivity function = TP /(TP+ FN). Set high if you want to maximize Pr(disease) at expense of increasing FP. If cost of FN is \n",
    "high and you want to lower FN then set sensitivity high. The problem w/high sensitivity is you get more FP but the \n",
    "chance of FN decreases. If you set sensitivity too low then get less FP but get higher FN. Tradeoff is between higher FP or higher FN. \n",
    "If a test has high sensitivity and comes back negative then the patient is disease free. \n",
    "Selectivity function of TN/(FP+ TN). \n",
    "\n",
    "<img src=\"images/p2quiz_9.png\">\n",
    "KEGG_NEUROACTIVE_LIGAND_RECEPTOR_INTERACTION\n",
    "<img src=\"images/p2quiz_10.png\">\n",
    "cell signaling. high as way to priortize reaction over other higher up reactions. very common pathway which\n",
    "other pathways depend on. Higher concentration places priority on this process to complete or at least partially\n",
    "complete so other higher level processes can start. \n",
    "<img src=\"images/p2quiz_11.png\">\n"
   ]
  },
  {
   "cell_type": "markdown",
   "metadata": {},
   "source": [
    "<img src=\"images/p2quiz_12_14.png\">"
   ]
  },
  {
   "cell_type": "markdown",
   "metadata": {},
   "source": [
    "<img src=\"images/p2quiz_15.png\">\n",
    "miss the single gene effect and you are testing multiple hypothesis at the same time. \n",
    "<img src=\"images/p2quiz_16.png\">\n"
   ]
  },
  {
   "cell_type": "code",
   "execution_count": null,
   "metadata": {},
   "outputs": [],
   "source": []
  }
 ],
 "metadata": {
  "kernelspec": {
   "display_name": "Python 3",
   "language": "python",
   "name": "python3"
  },
  "language_info": {
   "codemirror_mode": {
    "name": "ipython",
    "version": 3
   },
   "file_extension": ".py",
   "mimetype": "text/x-python",
   "name": "python",
   "nbconvert_exporter": "python",
   "pygments_lexer": "ipython3",
   "version": "3.7.3"
  }
 },
 "nbformat": 4,
 "nbformat_minor": 2
}
