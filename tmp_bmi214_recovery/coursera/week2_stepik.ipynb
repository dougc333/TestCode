{
 "cells": [
  {
   "cell_type": "markdown",
   "metadata": {},
   "source": [
    "<img src=\"images/w2_1a.png\">\n"
   ]
  },
  {
   "cell_type": "markdown",
   "metadata": {},
   "source": [
    "<img src=\"images/w2_2a.png\">\n",
    "<img src=\"images/w2_2b.png\">\n",
    "<img src=\"images/w2_2c.png\">\n",
    "<img src=\"images/w2_2d.png\">\n",
    "<img src=\"images/w2_2e.png\">\n",
    "<img src=\"images/w2_2f.png\">\n",
    "<img src=\"images/w2_2g.png\">\n",
    "<img src=\"images/w2_2h.png\">\n",
    "<img src=\"images/w2_2i.png\">\n",
    "<img src=\"images/w2_2j.png\">\n",
    "<img src=\"images/w2_2k.png\">\n",
    "<img src=\"images/w2_2l.png\">\n",
    "<img src=\"images/w2_2m.png\">\n",
    "<img src=\"images/w2_2n.png\">"
   ]
  },
  {
   "cell_type": "markdown",
   "metadata": {},
   "source": [
    "<img src=\"images/w2_3a.png\">\n",
    "<img src=\"images/w2_3b.png\">\n",
    "<img src=\"images/w2_3c.png\">\n",
    "<img src=\"images/w2_3d.png\">\n",
    "<img src=\"images/w2_3e.png\">\n",
    "<img src=\"images/w2_3f.png\">\n",
    "<img src=\"images/w2_3g.png\">\n",
    "<img src=\"images/w2_3h.png\">\n",
    "<img src=\"images/w2_3i.png\">\n",
    "\n"
   ]
  },
  {
   "cell_type": "code",
   "execution_count": null,
   "metadata": {},
   "outputs": [],
   "source": []
  }
 ],
 "metadata": {
  "kernelspec": {
   "display_name": "Python 3",
   "language": "python",
   "name": "python3"
  },
  "language_info": {
   "codemirror_mode": {
    "name": "ipython",
    "version": 3
   },
   "file_extension": ".py",
   "mimetype": "text/x-python",
   "name": "python",
   "nbconvert_exporter": "python",
   "pygments_lexer": "ipython3",
   "version": "3.7.3"
  }
 },
 "nbformat": 4,
 "nbformat_minor": 2
}
