{
 "cells": [
  {
   "cell_type": "code",
   "execution_count": null,
   "metadata": {},
   "outputs": [],
   "source": [
    "\n",
    "bob tells emma happy and emma assumes weather sunny. if bob grumpy then emma know it is raining. \n",
    "<img src=\"images/bhmm1.png\">\n",
    "<img src=\"images/bhmm2.png\">\n",
    "now lets add probaiblities and a little more complicated. if sunny then bob happy with prob .8 and sad .2 and if raining\n",
    "bob happy .6 and grumpy .4. \n",
    "<img src=\"images/bhmm3.png\">\n",
    "\n",
    "\n",
    "<img src=\"images/bhmm4.png\">\n",
    "unlikey weather goes from sunny to rainy day after day so modify probability of sunny to rainy \n",
    "with state or HMM as shown below. \n",
    "<img src=\"images/bhmm5.png\">\n",
    "how do we find the probabilities from the observations of sunny/rainy and bob happy/sad?\n",
    "<img src=\"images/bhmm6.png\">\n",
    "the first way is number of sunny is 10 number of rainy is 5 so probability of sunny=10/15 and pr rainy is 5/15. \n",
    "if bob gave us no informatoin then we know 2/3 likely to be sunny and 1/3 rainy. \n",
    "<img src=\"images/bhmm7.png\">\n",
    "we can use transition probabliites. \n",
    "<img src=\"images/bhmm8.png\">\n",
    "<img src=\"images/bhmm9.png\">'\n",
    "the equations are s=0.8s+0.2r and r=0.2s+.6r. both of these are the same. combine w/r+s=1. (1-.8)s= .4r. .2s=.4r. s=2r\n",
    "3r=1. r=1/3 and s=2/3. this is same result as above counting observations of sunny and rainy. slide below incomplete. missing total law of \n",
    "probability. \n",
    "<img src=\"images/bhmm10.png\">\n",
    "if bob is happy today what is the probablity it is sunny or rainy? use bayes rules. \n",
    "<img src=\"images/bhmm11.png\">\n",
    "<img src=\"images/bhmm12.png\">\n",
    "<img src=\"images/bhmm13.png\">\n",
    "<img src=\"images/bhmm14.png\">\n",
    "if for 3 days bob is happy, grumpy, happy what was the weather? \n",
    "\n"
   ]
  },
  {
   "cell_type": "code",
   "execution_count": null,
   "metadata": {},
   "outputs": [],
   "source": []
  }
 ],
 "metadata": {
  "kernelspec": {
   "display_name": "Python 3",
   "language": "python",
   "name": "python3"
  },
  "language_info": {
   "codemirror_mode": {
    "name": "ipython",
    "version": 3
   },
   "file_extension": ".py",
   "mimetype": "text/x-python",
   "name": "python",
   "nbconvert_exporter": "python",
   "pygments_lexer": "ipython3",
   "version": "3.7.3"
  }
 },
 "nbformat": 4,
 "nbformat_minor": 2
}
