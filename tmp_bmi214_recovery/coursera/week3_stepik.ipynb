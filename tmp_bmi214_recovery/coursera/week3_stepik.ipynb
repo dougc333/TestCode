{
 "cells": [
  {
   "cell_type": "markdown",
   "metadata": {},
   "source": [
    "<img src=\"images/w3_1a.png\">\n",
    "<img src=\"images/w3_1b.png\">\n",
    "<img src=\"images/w3_1c.png\">\n",
    "<img src=\"images/w3_1d.png\">\n",
    "<img src=\"images/w3_1e.png\">\n",
    "<img src=\"images/w3_1f.png\">\n",
    "<img src=\"images/w3_1g.png\">\n",
    "<img src=\"images/w3_1h.png\">\n",
    "<img src=\"images/w3_1i.png\">\n",
    "<img src=\"images/w3_1j.png\">\n",
    "<img src=\"images/w3_1k.png\">\n",
    "<img src=\"images/w3_1l.png\">"
   ]
  },
  {
   "cell_type": "markdown",
   "metadata": {},
   "source": [
    "<img src=\"images/w3_2a.png\">\n",
    "<img src=\"images/w3_2b.png\">\n",
    "<img src=\"images/w3_2c.png\">\n",
    "<img src=\"images/w3_2d.png\">\n",
    "<img src=\"images/w3_2e.png\">\n",
    "<img src=\"images/w3_2f.png\">\n",
    "<img src=\"images/w3_2g.png\">\n",
    "<img src=\"images/w3_2h.png\">\n",
    "<img src=\"images/w3_2i.png\">\n",
    "<img src=\"images/w3_2j.png\">\n",
    "<img src=\"images/w3_2k.png\">\n",
    "<img src=\"images/w3_2l.png\">\n",
    "<img src=\"images/w3_2m.png\">\n",
    "<img src=\"images/w3_2n.png\">\n",
    "<img src=\"images/w3_2o.png\">\n",
    "<img src=\"images/w3_2p.png\">\n",
    "<img src=\"images/w3_2q.png\">\n",
    "<img src=\"images/w3_2r.png\">\n",
    "<img src=\"images/w3_2s.png\">\n",
    "<img src=\"images/w3_2t.png\">\n",
    "<img src=\"images/w3_2u.png\">\n",
    "<img src=\"images/w3_2v.png\">\n",
    "<img src=\"images/w3_2w.png\">\n",
    "<img src=\"images/w3_2x.png\">\n"
   ]
  },
  {
   "cell_type": "markdown",
   "metadata": {},
   "source": [
    "<img src=\"images/w3_3a.png\">\n",
    "<img src=\"images/w3_3b.png\">\n",
    "<img src=\"images/w3_3c.png\">\n",
    "<img src=\"images/w3_3d.png\">\n",
    "<img src=\"images/w3_3e.png\">\n",
    "<img src=\"images/w3_3f.png\">\n",
    "<img src=\"images/w3_3g.png\">\n",
    "<img src=\"images/w3_3h.png\">\n",
    "<img src=\"images/w3_3i.png\">\n",
    "<img src=\"images/w3_3j.png\">\n",
    "<img src=\"images/w3_3k.png\">"
   ]
  },
  {
   "cell_type": "code",
   "execution_count": null,
   "metadata": {},
   "outputs": [],
   "source": []
  }
 ],
 "metadata": {
  "kernelspec": {
   "display_name": "Python 3",
   "language": "python",
   "name": "python3"
  },
  "language_info": {
   "codemirror_mode": {
    "name": "ipython",
    "version": 3
   },
   "file_extension": ".py",
   "mimetype": "text/x-python",
   "name": "python",
   "nbconvert_exporter": "python",
   "pygments_lexer": "ipython3",
   "version": "3.7.3"
  }
 },
 "nbformat": 4,
 "nbformat_minor": 2
}
