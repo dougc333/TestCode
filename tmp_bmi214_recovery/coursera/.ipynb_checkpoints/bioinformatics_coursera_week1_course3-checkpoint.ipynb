{
 "cells": [
  {
   "cell_type": "code",
   "execution_count": null,
   "metadata": {},
   "outputs": [],
   "source": [
    "nonribosomal protein synthesis uses a protein called nonribosomal protein synthesase or NRTP. \n",
    "<img src=\"week1/w1a.png\">\n",
    "There is a 600 amino acid area in the NRTP called the adentylation domain. The syntheis of a AA in the adentylation domain\n",
    "occurs 1 AA at a time. Tyrocidine is 10 AA long, we know it is synthesized in bacilli and then we know in the adentelyation domain\n",
    "these 10 AA are created. What parts of the adentelyation domain produce these 10AA for tyrocidine? \n",
    "<img src=\"week1/w1b.png\">\n"
   ]
  },
  {
   "cell_type": "code",
   "execution_count": null,
   "metadata": {},
   "outputs": [],
   "source": []
  }
 ],
 "metadata": {
  "kernelspec": {
   "display_name": "Python 3",
   "language": "python",
   "name": "python3"
  },
  "language_info": {
   "codemirror_mode": {
    "name": "ipython",
    "version": 3
   },
   "file_extension": ".py",
   "mimetype": "text/x-python",
   "name": "python",
   "nbconvert_exporter": "python",
   "pygments_lexer": "ipython3",
   "version": "3.7.3"
  }
 },
 "nbformat": 4,
 "nbformat_minor": 2
}
