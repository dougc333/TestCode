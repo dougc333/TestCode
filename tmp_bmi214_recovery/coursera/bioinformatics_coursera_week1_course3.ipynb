{
 "cells": [
  {
   "cell_type": "markdown",
   "metadata": {},
   "source": [
    "nonribosomal protein synthesis uses a protein called nonribosomal protein synthesase or NRTP. \n",
    "<img src=\"week1/w1a.png\">\n",
    "There is a 600 amino acid area in the NRTP called the adentylation domain. The syntheis of a AA in the adentylation domain\n",
    "occurs 1 AA at a time. Tyrocidine is 10 AA long, we know it is synthesized in bacilli and then we know in the adentelyation domain\n",
    "these 10 AA are created. What parts of the adentelyation domain produce these 10AA for tyrocidine? \n",
    "<img src=\"week1/w1b.png\">\n",
    "<img src=\"week1/w1c.png\">\n",
    "<img src=\"week1/w1d.png\">\n",
    "<img src=\"week1/w1e.png\">\n",
    "<img src=\"week1/w1f.png\">\n",
    "<img src=\"week1/w1g.png\">\n",
    "<img src=\"week1/w1h.png\">\n",
    "<img src=\"week1/w1i.png\">\n",
    "<img src=\"week1/w1j.png\">\n",
    "<img src=\"week1/w1k.png\">"
   ]
  },
  {
   "cell_type": "markdown",
   "metadata": {},
   "source": [
    "<img src=\"week1/w1_2a.png\">\n",
    "<img src=\"week1/w1_2b.png\">\n",
    "<img src=\"week1/w1_2c.png\">\n",
    "<img src=\"week1/w1_2d.png\">\n",
    "<img src=\"week1/w1_2e.png\">\n",
    "<img src=\"week1/w1_2f.png\">\n",
    "<img src=\"week1/w1_2g.png\">\n"
   ]
  },
  {
   "cell_type": "markdown",
   "metadata": {},
   "source": [
    "<img src=\"week1/w1_3a.png\">\n",
    "<img src=\"week1/w1_3b.png\">\n",
    "<img src=\"week1/w1_3c.png\">\n",
    "<img src=\"week1/w1_3d.png\">\n",
    "<img src=\"week1/w1_3e.png\">\n",
    "<img src=\"week1/w1_3f.png\">\n",
    "<img src=\"week1/w1_3g.png\">\n",
    "<img src=\"week1/w1_3h.png\">\n",
    "<img src=\"week1/w1_3i.png\">\n",
    "<img src=\"week1/w1_3j.png\">\n",
    "<img src=\"week1/w1_3k.png\">\n",
    "<img src=\"week1/w1_3l.png\">\n",
    "<img src=\"week1/w1_3m.png\">\n",
    "<img src=\"week1/w1_3n.png\">\n",
    "<img src=\"week1/w1_3o.png\">\n",
    "<img src=\"week1/w1_3p.png\">\n",
    "<img src=\"week1/w1_3q.png\">\n"
   ]
  },
  {
   "cell_type": "code",
   "execution_count": null,
   "metadata": {},
   "outputs": [],
   "source": [
    "<img src=\"week1/w1_4a.png\">\n",
    "<img src=\"week1/w1_4b.png\">\n",
    "<img src=\"week1/w1_4c.png\">\n"
   ]
  },
  {
   "cell_type": "code",
   "execution_count": null,
   "metadata": {},
   "outputs": [],
   "source": []
  },
  {
   "cell_type": "code",
   "execution_count": null,
   "metadata": {},
   "outputs": [],
   "source": []
  },
  {
   "cell_type": "markdown",
   "metadata": {},
   "source": [
    "\n",
    "<img src=\"week1/w1_quiz1a.png\">\n",
    "<img src=\"week1/w1_quiz1b.png\">\n",
    "<img src=\"week1/w1_quiz1c.png\">\n",
    "<img src=\"week1/w1_quiz1d.png\">\n",
    "<img src=\"week1/w1_quiz1e.png\">\n"
   ]
  },
  {
   "cell_type": "code",
   "execution_count": null,
   "metadata": {},
   "outputs": [],
   "source": []
  }
 ],
 "metadata": {
  "kernelspec": {
   "display_name": "Python 3",
   "language": "python",
   "name": "python3"
  },
  "language_info": {
   "codemirror_mode": {
    "name": "ipython",
    "version": 3
   },
   "file_extension": ".py",
   "mimetype": "text/x-python",
   "name": "python",
   "nbconvert_exporter": "python",
   "pygments_lexer": "ipython3",
   "version": "3.7.3"
  }
 },
 "nbformat": 4,
 "nbformat_minor": 2
}
