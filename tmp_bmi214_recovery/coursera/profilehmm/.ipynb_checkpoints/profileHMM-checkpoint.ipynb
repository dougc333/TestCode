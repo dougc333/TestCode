{
 "cells": [
  {
   "cell_type": "code",
   "execution_count": null,
   "metadata": {},
   "outputs": [],
   "source": [
    "\n",
    "First remove the 2 columns which have more insertions than a certain threshold. In this case the threshold is 1 and\n",
    "we remove all columns where there are 2 or 3 insertions. This gives us alignment* as seen in the second alignment. \n",
    "<img src=\"images/profileHMM1.png\">\n",
    "wecan constuct a profile of this alignment then HMM. The profile is the probability of each AA. in column has a probability\n",
    "of the AA. in the first column only A so A has 1. second column there are C, F, D and there are 2/4 C and 1/4 F and 1/4 D. \n",
    "All of the column probabilities have to sum to 1. \n",
    "<img src=\"images/profileHMM2.png\">\n",
    "Each emission probability isgiven by the transition probability matrix circled in blue. That says the D has a 25% probability after\n",
    "the first A. So we know the probability of a sequence bc we can calculate the probablity of each consecutive AA for any of hte\n",
    "sequences in the alignment. \n",
    "<img src=\"images/profileHMM3.png\">\n",
    "how to model insertions? \n",
    "<img src=\"images/profileHMM4.png\">how to model insertions? one example is to add insertion states\n",
    "<img src=\"images/profileHMM5.png\">\n",
    "howa bout deletions> \n",
    "<img src=\"images/profileHMM6.png\">\n",
    "deletions you can add a transition to another state forward. how many edges? one to each one? runnint time of viterbi is same as number of edges multipleid by number of emitted symobls. There is better\n",
    "way, this means there are more edges and slows down the algo. \n",
    "<img src=\"images/profileHMM7.png\">\n",
    "we can add a deletion state to reduce the number of edges and speed up the viterbi algo. \n",
    "<img src=\"images/profileHMM8.png\">\n",
    "The corresponding states w/protein A__AFFDF. The 2 deletions transition to top from M1.M1 to deletion to next deletion then back to A.  \n",
    "are there missing edges? yes, the edges between insertion and deletion states. \n",
    "<img src=\"images/profileHMM9.png\">\n",
    " Add the start and stop sates and edges between insertion and deletion. Whaere are the transition and emission\n",
    "    probabiliies or matrices? Where do we put them? \n",
    "<img src=\"images/profileHMM10.png\">\n",
    "\n",
    "<img src=\"images/profileHMM11.png\">\n",
    "how do we get the hidden paths. The top row is ACDEFACADF. we are still deleting the columns with insetions\n",
    "greater than 1, the 2 shaded columns. The deleted columns AC become 2 insertions instead. This is called a hidden\n",
    "path not a viterbi graph. \n",
    "<img src=\"images/profileHMM12.png\">\n",
    "the 3 paths for 3 sequences are shown below. There are 5 but we show only3. \n",
    "<img src=\"images/profileHMM13.png\">\n",
    "how to compute the transition probabilities? \n",
    "<img src=\"images/profileHMM14.png\">\n",
    "lets look at a single node, m5. If we look at all 5 graphs we see\n",
    "only 4 of the sequences have m5. \n",
    "<img src=\"images/profileHMM15.png\">\n",
    "we can see 4 transitons leaving node or from M5, 3 leave m5 into I5. one leaves m5 into M6. The 5th graph has 0 \n",
    "m5 transition bc there are 5 graphs but 4 use m5. the 0 into D6 from m4.   \n",
    "<img src=\"images/profileHMM16.png\">\n",
    "this works as shown below\n",
    "<img src=\"images/profileHMM17.png\">\n",
    "what aobut emission probs? Take second node. We know the second column is CF_CD. There are 4 AA, 2 C, 1 F, 1D, 1_.\n",
    "emission(A)=0, emission(C)=1/4, emission(F)=1/4. emission(D)=1/4, emission(E)=0, \n",
    "<img src=\"images/profileHMM18.png\">\n",
    "forbidden transitions. most of the possible transitions are empty. this shows the allowed transitions. for exampel\n",
    "start can only go to M1. M1 ccan go to M2 and D2. The grey is allowed the clear is forbidden. there are many 0s in the \n",
    "gray cells. the 0s are indicating the number of pseudocounts. adding pseucocount for every grey cell. finding motifs in dna. \n",
    "\n",
    "\n",
    "\n",
    "\n",
    "\n",
    "\n"
   ]
  },
  {
   "cell_type": "code",
   "execution_count": null,
   "metadata": {},
   "outputs": [],
   "source": []
  }
 ],
 "metadata": {
  "kernelspec": {
   "display_name": "Python 3",
   "language": "python",
   "name": "python3"
  },
  "language_info": {
   "codemirror_mode": {
    "name": "ipython",
    "version": 3
   },
   "file_extension": ".py",
   "mimetype": "text/x-python",
   "name": "python",
   "nbconvert_exporter": "python",
   "pygments_lexer": "ipython3",
   "version": "3.7.3"
  }
 },
 "nbformat": 4,
 "nbformat_minor": 2
}
