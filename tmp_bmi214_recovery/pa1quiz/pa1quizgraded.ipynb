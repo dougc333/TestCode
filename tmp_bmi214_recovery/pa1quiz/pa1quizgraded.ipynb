{
 "cells": [
  {
   "cell_type": "markdown",
   "metadata": {},
   "source": [
    "<img src=\"graded/p1quiz_01.png\">\n",
    "<img src=\"graded/p1quiz_02.png\">\n",
    "<img src=\"graded/p1quiz_03.png\">\n",
    "<img src=\"graded/p1quiz_04.png\">\n",
    "<img src=\"graded/p1quiz_05.png\">\n",
    "<img src=\"graded/p1quiz_06.png\">\n",
    "<img src=\"graded/p1quiz_07.png\">\n",
    "<img src=\"graded/p1quiz_08.png\">\n",
    "<img src=\"graded/p1quiz_09.png\">\n"
   ]
  },
  {
   "cell_type": "markdown",
   "metadata": {},
   "source": [
    "<img src=\"graded/p1quiz_10.png\">\n",
    "<img src=\"graded/p1quiz_11.png\">\n",
    "<img src=\"graded/p1quiz_12.png\">\n",
    "<img src=\"graded/p1quiz_13.png\">\n",
    "<img src=\"graded/p1quiz_14.png\">\n",
    "<img src=\"graded/p1quiz_15.png\">\n",
    "<img src=\"graded/p1quiz_16.png\">\n",
    "<img src=\"graded/p1quiz_17.png\">\n",
    "<img src=\"graded/p1quiz_18.png\">\n",
    "<img src=\"graded/p1quiz_19.png\">"
   ]
  },
  {
   "cell_type": "markdown",
   "metadata": {},
   "source": [
    "<img src=\"graded/p1quiz_20.png\">\n",
    "<img src=\"graded/p1quiz_21.png\">\n",
    "<img src=\"graded/p1quiz_22.png\">\n",
    "<img src=\"graded/p1quiz_23.png\">\n",
    "<img src=\"graded/p1quiz_24.png\">\n",
    "<img src=\"graded/p1quiz_25.png\">\n",
    "<img src=\"graded/p1quiz_26.png\">\n",
    "<img src=\"graded/p1quiz_27.png\">\n",
    "<img src=\"graded/p1quiz_28.png\">\n",
    "<img src=\"graded/p1quiz_29.png\">\n"
   ]
  },
  {
   "cell_type": "markdown",
   "metadata": {},
   "source": [
    "<img src=\"graded/p1quiz_30.png\">\n",
    "<img src=\"graded/p1quiz_31.png\">\n",
    "<img src=\"graded/p1quiz_32.png\">\n",
    "<img src=\"graded/p1quiz_33.png\">\n",
    "<img src=\"graded/p1quiz_34.png\">\n",
    "<img src=\"graded/p1quiz_35.png\">\n",
    "<img src=\"graded/p1quiz_36.png\">\n",
    "<img src=\"graded/p1quiz_37.png\">\n",
    "<img src=\"graded/p1quiz_38.png\">\n",
    "<img src=\"graded/p1quiz_39.png\">\n"
   ]
  },
  {
   "cell_type": "code",
   "execution_count": null,
   "metadata": {},
   "outputs": [],
   "source": []
  }
 ],
 "metadata": {
  "kernelspec": {
   "display_name": "Python 3",
   "language": "python",
   "name": "python3"
  },
  "language_info": {
   "codemirror_mode": {
    "name": "ipython",
    "version": 3
   },
   "file_extension": ".py",
   "mimetype": "text/x-python",
   "name": "python",
   "nbconvert_exporter": "python",
   "pygments_lexer": "ipython3",
   "version": "3.6.9"
  }
 },
 "nbformat": 4,
 "nbformat_minor": 2
}
