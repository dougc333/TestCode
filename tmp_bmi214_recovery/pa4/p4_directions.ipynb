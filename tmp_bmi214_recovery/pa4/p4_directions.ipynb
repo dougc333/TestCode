{
 "cells": [
  {
   "cell_type": "markdown",
   "metadata": {},
   "source": [
    "<img src=\"project4_1.png\">\n",
    "<img src=\"project4_2.png\">\n",
    "<img src=\"project4_3.png\">\n",
    "<img src=\"project4_4.png\">\n",
    "<img src=\"project4_5.png\">\n",
    "<img src=\"project4_6.png\">\n",
    "<img src=\"project4_7.png\">\n",
    "<img src=\"project4_8.png\">\n",
    "<img src=\"project4_9.png\">"
   ]
  },
  {
   "cell_type": "code",
   "execution_count": null,
   "metadata": {},
   "outputs": [],
   "source": []
  }
 ],
 "metadata": {
  "kernelspec": {
   "display_name": "Python 3",
   "language": "python",
   "name": "python3"
  },
  "language_info": {
   "codemirror_mode": {
    "name": "ipython",
    "version": 3
   },
   "file_extension": ".py",
   "mimetype": "text/x-python",
   "name": "python",
   "nbconvert_exporter": "python",
   "pygments_lexer": "ipython3",
   "version": "3.6.9"
  }
 },
 "nbformat": 4,
 "nbformat_minor": 2
}
