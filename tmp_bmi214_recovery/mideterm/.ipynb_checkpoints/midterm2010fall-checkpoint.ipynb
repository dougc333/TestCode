{
 "cells": [
  {
   "cell_type": "markdown",
   "metadata": {},
   "source": [
    "<img src=\"midterm_01.png\">\n",
    "<img src=\"midterm_02.png\">\n",
    "<img src=\"midterm_03.png\">\n",
    "<img src=\"midterm_04.png\">\n",
    "<img src=\"midterm_05.png\">\n",
    "<img src=\"midterm_06.png\">\n",
    "<img src=\"midterm_07.png\">\n",
    "<img src=\"midterm_08.png\">\n",
    "<img src=\"midterm_09.png\">\n",
    "<img src=\"midterm_10.png\">\n",
    "<img src=\"midterm_11.png\">\n",
    "\n"
   ]
  },
  {
   "cell_type": "code",
   "execution_count": null,
   "metadata": {},
   "outputs": [],
   "source": [
    "<img src=\"midterm_12.png\">\n",
    "<img src=\"midterm_13.png\">\n",
    "<img src=\"midterm_14.png\">\n",
    "<img src=\"midterm_15.png\">\n",
    "<img src=\"midterm_16.png\">\n",
    "<img src=\"midterm_17.png\">\n",
    "<img src=\"midterm_18.png\">\n",
    "<img src=\"midterm_19.png\">\n",
    "<img src=\"midterm_20.png\">"
   ]
  },
  {
   "cell_type": "code",
   "execution_count": null,
   "metadata": {},
   "outputs": [],
   "source": [
    "<img src=\"midterm_21.png\">\n",
    "<img src=\"midterm_22.png\">\n",
    "<img src=\"midterm_23.png\">\n",
    "<img src=\"midterm_24.png\">\n",
    "<img src=\"midterm_25.png\">\n",
    "<img src=\"midterm_26.png\">\n",
    "<img src=\"midterm_27.png\">\n",
    "<img src=\"midterm_28.png\">\n",
    "<img src=\"midterm_29.png\">"
   ]
  },
  {
   "cell_type": "code",
   "execution_count": null,
   "metadata": {},
   "outputs": [],
   "source": [
    "<img src=\"midterm_30.png\">\n",
    "<img src=\"midterm_31.png\">\n",
    "<img src=\"midterm_32.png\">\n",
    "<img src=\"midterm_33.png\">\n",
    "<img src=\"midterm_34.png\">\n",
    "<img src=\"midterm_35.png\">\n",
    "<img src=\"midterm_36.png\">\n",
    "<img src=\"midterm_37.png\">\n",
    "<img src=\"midterm_38.png\">\n",
    "<img src=\"midterm_39.png\">"
   ]
  },
  {
   "cell_type": "code",
   "execution_count": null,
   "metadata": {},
   "outputs": [],
   "source": [
    "<img src=\"midterm_41.png\">\n",
    "<img src=\"midterm_42.png\">\n",
    "<img src=\"midterm_43.png\">\n",
    "<img src=\"midterm_44.png\">\n",
    "<img src=\"midterm_45.png\">\n",
    "<img src=\"midterm_46.png\">\n",
    "<img src=\"midterm_47.png\">\n",
    "<img src=\"midterm_48.png\">\n",
    "<img src=\"midterm_49.png\">\n"
   ]
  }
 ],
 "metadata": {
  "kernelspec": {
   "display_name": "Python 3",
   "language": "python",
   "name": "python3"
  },
  "language_info": {
   "codemirror_mode": {
    "name": "ipython",
    "version": 3
   },
   "file_extension": ".py",
   "mimetype": "text/x-python",
   "name": "python",
   "nbconvert_exporter": "python",
   "pygments_lexer": "ipython3",
   "version": "3.7.3"
  }
 },
 "nbformat": 4,
 "nbformat_minor": 2
}
