{
 "cells": [
  {
   "cell_type": "markdown",
   "metadata": {},
   "source": [
    "<img src=\"project3_01.png\">\n",
    "<img src=\"project3_02.png\">\n",
    "<img src=\"project3_03.png\">\n",
    "<img src=\"project3_04.png\">\n",
    "<img src=\"project3_05.png\">\n",
    "<img src=\"project3_06.png\">"
   ]
  },
  {
   "cell_type": "markdown",
   "metadata": {},
   "source": [
    "<img src=\"project3_07.png\">\n",
    "<img src=\"project3_08.png\">\n",
    "<img src=\"project3_09.png\">\n",
    "<img src=\"project3_10.png\">"
   ]
  },
  {
   "cell_type": "markdown",
   "metadata": {},
   "source": [
    "<img src=\"project3_11.png\">\n",
    "<img src=\"project3_12.png\">\n",
    "<img src=\"project3_13.png\">\n",
    "<img src=\"project3_14.png\">\n",
    "<img src=\"project3_15.png\">"
   ]
  },
  {
   "cell_type": "markdown",
   "metadata": {},
   "source": [
    "<img src=\"project3_16.png\">\n",
    "<img src=\"project3_17.png\">\n",
    "<img src=\"project3_18.png\">\n",
    "<img src=\"project3_19.png\">\n",
    "<img src=\"project3_20.png\">"
   ]
  },
  {
   "cell_type": "markdown",
   "metadata": {},
   "source": [
    "<img src=\"project3_21.png\">\n",
    "<img src=\"project3_22.png\">\n",
    "<img src=\"project3_23.png\">\n",
    "<img src=\"project3_24.png\">\n",
    "<img src=\"project3_25.png\">\n"
   ]
  },
  {
   "cell_type": "code",
   "execution_count": null,
   "metadata": {},
   "outputs": [],
   "source": []
  }
 ],
 "metadata": {
  "kernelspec": {
   "display_name": "Python 3",
   "language": "python",
   "name": "python3"
  },
  "language_info": {
   "codemirror_mode": {
    "name": "ipython",
    "version": 3
   },
   "file_extension": ".py",
   "mimetype": "text/x-python",
   "name": "python",
   "nbconvert_exporter": "python",
   "pygments_lexer": "ipython3",
   "version": "3.7.3"
  }
 },
 "nbformat": 4,
 "nbformat_minor": 2
}
