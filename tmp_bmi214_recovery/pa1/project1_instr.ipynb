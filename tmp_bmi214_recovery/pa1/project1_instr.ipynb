{
 "cells": [
  {
   "cell_type": "markdown",
   "metadata": {},
   "source": [
    "<img src=\"project1_instr_images/project1_01.png\">\n",
    "<img src=\"project1_instr_images/project1_02.png\">\n",
    "<img src=\"project1_instr_images/project1_03.png\">\n",
    "<img src=\"project1_instr_images/project1_04.png\">\n",
    "<img src=\"project1_instr_images/project1_05.png\">\n",
    "<img src=\"project1_instr_images/project1_06.png\">"
   ]
  },
  {
   "cell_type": "markdown",
   "metadata": {},
   "source": [
    "<img src=\"project1_instr_images/project1_07.png\">\n",
    "<img src=\"project1_instr_images/project1_08.png\">\n",
    "<img src=\"project1_instr_images/project1_09.png\">\n",
    "<img src=\"project1_instr_images/project1_10.png\">\n",
    "<img src=\"project1_instr_images/project1_11.png\">\n",
    "<img src=\"project1_instr_images/project1_12.png\">\n"
   ]
  },
  {
   "cell_type": "code",
   "execution_count": null,
   "metadata": {},
   "outputs": [],
   "source": []
  }
 ],
 "metadata": {
  "kernelspec": {
   "display_name": "Python 3",
   "language": "python",
   "name": "python3"
  },
  "language_info": {
   "codemirror_mode": {
    "name": "ipython",
    "version": 3
   },
   "file_extension": ".py",
   "mimetype": "text/x-python",
   "name": "python",
   "nbconvert_exporter": "python",
   "pygments_lexer": "ipython3",
   "version": "3.7.3"
  }
 },
 "nbformat": 4,
 "nbformat_minor": 2
}
