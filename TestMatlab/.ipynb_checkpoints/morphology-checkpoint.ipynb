{
 "cells": [
  {
   "cell_type": "code",
   "execution_count": 24,
   "metadata": {
    "collapsed": false
   },
   "outputs": [],
   "source": [
    "#first gradient approaches\n",
    "# sobel, prewitt, roberts\n",
    "from PIL import Image\n",
    "from skimage.filters import roberts, sobel, scharr, prewitt\n",
    "from matplotlib import pyplot as plt\n",
    "\n",
    "img_camera = Image.open('/Users/dc/TestCode/TestMatlab/cameraman.tif')\n",
    "\n",
    "edge_sobel = sobel(img_camera)\n",
    "edge_roberts = roberts(img_camera)\n",
    "edge_scharr = scharr(img_camera)\n",
    "edge_prewitt = prewitt(img_camera)\n",
    "\n",
    "fig, (ax0, ax1, ax2, ax3 ) = plt.subplots(ncols=4, sharex=True, sharey=True, subplot_kw={'adjustable':'box-forced'})\n",
    "\n",
    "ax0.imshow(edge_roberts, cmap=plt.cm.gray)\n",
    "ax0.set_title('Roberts Edge Detection')\n",
    "ax0.axis('off')\n",
    "\n",
    "ax1.imshow(edge_sobel, cmap=plt.cm.gray)\n",
    "ax1.set_title('Sobel Edge Detection')\n",
    "ax1.axis('off')\n",
    "\n",
    "ax2.imshow(edge_scharr, cmap=plt.cm.gray)\n",
    "ax2.set_title('Scharr Edge Detection')\n",
    "ax2.axis('off')\n",
    "\n",
    "ax3.imshow(edge_prewitt, cmap=plt.cm.gray)\n",
    "ax3.set_title('Prewitt Edge Detection')\n",
    "ax3.axis('off')\n",
    "\n",
    "plt.show()\n",
    "#plt.tight_layout()\n",
    "\n",
    "#error check\n",
    "#diff = edge_scharr - edge_prewitt, this is mostly 0. Data dependent, see difference with more diagonal data\n"
   ]
  },
  {
   "cell_type": "code",
   "execution_count": null,
   "metadata": {
    "collapsed": true
   },
   "outputs": [],
   "source": [
    "#laplacian, 2dimensional differentiation operator\n",
    "#use for edge/blob detection\n",
    "\n",
    "\n",
    "\n",
    "\n",
    "\n",
    "# laplacian edge\n",
    "#laplacian blob\n",
    "\n",
    "\n",
    "\n",
    "\n",
    "\n",
    "\n"
   ]
  },
  {
   "cell_type": "code",
   "execution_count": null,
   "metadata": {
    "collapsed": true
   },
   "outputs": [],
   "source": [
    "#http://mccormickml.com/2013/02/27/laplacian-of-gaussian-marr-hildreth-edge-detector/\n",
    "#TBD class has noise demo on 4 algorithms where last one is best for video\n",
    "\n",
    "\n",
    "\n",
    "\n",
    "\n"
   ]
  },
  {
   "cell_type": "code",
   "execution_count": 36,
   "metadata": {
    "collapsed": false
   },
   "outputs": [],
   "source": [
    "#canny most resistant to noise compared to other 1d gradient methods\n",
    "import numpy as np\n",
    "from scipy import ndimage as ndi\n",
    "from skimage import feature\n",
    "from skimage.filters import roberts, sobel, scharr, prewitt\n",
    "\n",
    "im = np.zeros((128, 128))\n",
    "im[32:-32, 32:-32] = 1\n",
    "\n",
    "im = ndi.rotate(im, 15, mode='constant')\n",
    "im = ndi.gaussian_filter(im, 4) \n",
    "im += 0.2 * np.random.random(im.shape)\n",
    "\n",
    "\n",
    "# Compute the Canny filter for two values of sigma\n",
    "edges1 = feature.canny(im)\n",
    "edges2 = feature.canny(im, sigma=3)\n",
    "\n",
    "sobel=sobel(im)\n",
    "prewitt = prewitt(im)\n",
    "roberts = roberts(im)\n",
    "\n",
    "fig, (ax1, ax2, ax3) = plt.subplots(nrows=1, ncols=3, figsize=(8, 3), sharex=True, sharey=True)\n",
    "fig1, (ax11, ax12, ax13, ax14) = plt.subplots(nrows=1, ncols=4, figsize=(8, 3), sharex=True, sharey=True)\n",
    "\n",
    "ax1.imshow(im, cmap=plt.cm.jet)\n",
    "ax1.axis('off')\n",
    "ax1.set_title('noisy image', fontsize=20)\n",
    "\n",
    "ax2.imshow(edges1, cmap=plt.cm.gray)\n",
    "ax2.axis('off')\n",
    "ax2.set_title('Canny filter, $\\sigma=1$', fontsize=20)\n",
    "\n",
    "ax3.imshow(edges2, cmap=plt.cm.gray)\n",
    "ax3.axis('off')\n",
    "ax3.set_title('Canny filter, $\\sigma=3$', fontsize=20)\n",
    "\n",
    "fig.subplots_adjust(wspace=0.02, hspace=0.02, top=0.9,\n",
    "                    bottom=0.02, left=0.02, right=0.98)\n",
    "\n",
    "ax11.imshow(im, cmap=plt.cm.jet)\n",
    "ax11.axis('off')\n",
    "ax11.set_title('noisy image', fontsize=20)\n",
    "\n",
    "ax12.imshow(sobel, cmap=plt.cm.gray)\n",
    "ax12.axis('off')\n",
    "ax12.set_title('Sobel filter',  fontsize=20)\n",
    "\n",
    "ax13.imshow(roberts, cmap=plt.cm.gray)\n",
    "ax13.axis('off')\n",
    "ax13.set_title('Prewitt filter',  fontsize=20)\n",
    "\n",
    "ax14.imshow(roberts, cmap=plt.cm.gray)\n",
    "ax14.axis('off')\n",
    "ax14.set_title('Roberts filter',  fontsize=20)\n",
    "\n",
    "\n",
    "fig1.subplots_adjust(wspace=0.02, hspace=0.02, top=0.9,\n",
    "                    bottom=0.02, left=0.02, right=0.98)\n",
    "\n",
    "#add modifications for figure inline to python workbook\n",
    "\n",
    "plt.show()\n",
    "\n",
    "\n"
   ]
  },
  {
   "cell_type": "markdown",
   "metadata": {},
   "source": [
    "#### from PIL import Image\n",
    "\n",
    "img = Image.open('/Users/dc/TestCode/TestMatlab/cell.tif')\n",
    "img.show(img)"
   ]
  },
  {
   "cell_type": "code",
   "execution_count": 11,
   "metadata": {
    "collapsed": false
   },
   "outputs": [],
   "source": [
    "from scipy import ndimage\n",
    "import numpy\n",
    "\n",
    "dx = ndimage.sobel(img, 0)\n",
    "dy = ndimage.sobel(img,1)\n",
    "mag = numpy.hypot(dx,dy)\n",
    "mag *= 255.0 / numpy.max(mag)\n",
    "scipy.misc.imsave('sobel.tiff', mag)\n",
    "\n",
    "img_sobel=Image.open('sobel.tiff')\n",
    "img_sobel.show(img_sobel)\n",
    "\n",
    "\n",
    "#add the .5 fudge factor, image not same as in matlab\n",
    "\n",
    "\n"
   ]
  },
  {
   "cell_type": "code",
   "execution_count": null,
   "metadata": {
    "collapsed": true
   },
   "outputs": [],
   "source": []
  }
 ],
 "metadata": {
  "kernelspec": {
   "display_name": "Python 2",
   "language": "python",
   "name": "python2"
  },
  "language_info": {
   "codemirror_mode": {
    "name": "ipython",
    "version": 2
   },
   "file_extension": ".py",
   "mimetype": "text/x-python",
   "name": "python",
   "nbconvert_exporter": "python",
   "pygments_lexer": "ipython2",
   "version": "2.7.11"
  }
 },
 "nbformat": 4,
 "nbformat_minor": 0
}
