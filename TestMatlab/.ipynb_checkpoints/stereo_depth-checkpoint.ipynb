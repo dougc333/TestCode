{
 "cells": [
  {
   "cell_type": "markdown",
   "metadata": {},
   "source": [
    "<h3>Camera Calibration and computation of P</h3>\n",
    "<p>Reference:R.\tHartley\tand\tA.\tZisserman.\tMul(ple\tView\tGeometry\tin\tComputer\t\n",
    "Vision</p>\n",
    "\n",
    "\n",
    "\n"
   ]
  },
  {
   "cell_type": "markdown",
   "metadata": {},
   "source": [
    "<h3>Stereo Vision</h3>\n",
    "<h4>Similar Triangles and Projections</h4>\n",
    "Assuming no radial/xx distortion, projective geometry with similar triangles\n",
    "<p>Convention: the image is in front of the PP plane to make the math easier, no inversion or rotation from R<->L </p>\n",
    "<p>The projection equation below </p>\n",
    "\n",
    "<img src='png_ipython_notebook/COP.png' style=\"width: 50%; height: 50%\"/>\n",
    "<img src='png_ipython_notebook/projequation.png' />\n",
    "\n",
    "\n",
    "#<h4>Projection equation matrix multiplication</h4>\n",
    "#<p>We can turn the calculation of the projection equation into a matrix multiplication</p>\n",
    "\n",
    "\n",
    "<h4>Stereo Camera Geometry</h4>\n",
    "<img src='png_ipython_notebook/stereo1.png' style=\"width: 50%; height: 50%\"/>\n",
    "<img src='png_ipython_notebook/stereo2.png' style=\"width: 50%; height: 50%\"/>\n",
    "<img src='png_ipython_notebook/stereo3.png' style=\"width: 50%; height: 50%\"/>\n",
    "The yellow and blue similar triangles produce the disparity equations\n",
    "<img src = 'png_ipython_notebook/equation_sim_triangle_stereo.png' style=\"width: 25%; height: 25%\"/ />\n",
    "<img src='png_ipython_notebook/disparity.png' style=\"width: 50%; height: 50%\"/ />\n",
    "\n",
    "<h4>Fundamental Matrix</h4>\n",
    "<p>F is independent of the scene</p>"
   ]
  },
  {
   "cell_type": "code",
   "execution_count": null,
   "metadata": {
    "collapsed": false
   },
   "outputs": [],
   "source": [
    "import cv2\n",
    "import  matplotlib.pyplot as plt\n",
    "\n",
    "#TBD add code to replicate disparity w/different distance measures\n",
    "\n",
    "left_img = cv2.imread('scene_left.png')\n",
    "right_img = cv2.imread('scene_right.png')\n",
    "grey_left = cv2.cvtColor(left_img,  cv2.COLOR_BGR2GRAY);\n",
    "grey_right = cv2.cvtColor(right_img,  cv2.COLOR_BGR2GRAY);\n",
    "stereo = cv2.StereoBM(cv2.STEREO_BM_BASIC_PRESET,ndisparities=16, SADWindowSize=15)\n",
    "disparity = stereo.compute(grey_left,grey_right)\n",
    "plt.imshow(disparity,'gray')\n",
    "plt.show()"
   ]
  },
  {
   "cell_type": "code",
   "execution_count": null,
   "metadata": {
    "collapsed": false
   },
   "outputs": [],
   "source": [
    "import cv2\n",
    "\n",
    "\n",
    "#this is not stable\n",
    "cam = cv2.VideoCapture(1)\n",
    "while True:\n",
    "    ret_val, img = cam.read() \n",
    "    #img = cv2.flip(img, 1)\n",
    "    cv2.imshow('ZED', img)\n",
    "    if cv2.waitKey(1) == 27: \n",
    "        break  # esc to quit\n",
    "\n",
    "\n",
    "cv2.destroyAllWindows()\n",
    "\n",
    "\n",
    "\n",
    "\n",
    "\n",
    "\n"
   ]
  },
  {
   "cell_type": "code",
   "execution_count": null,
   "metadata": {
    "collapsed": true
   },
   "outputs": [],
   "source": []
  }
 ],
 "metadata": {
  "kernelspec": {
   "display_name": "Python 2",
   "language": "python",
   "name": "python2"
  },
  "language_info": {
   "codemirror_mode": {
    "name": "ipython",
    "version": 2
   },
   "file_extension": ".py",
   "mimetype": "text/x-python",
   "name": "python",
   "nbconvert_exporter": "python",
   "pygments_lexer": "ipython2",
   "version": "2.7.11"
  }
 },
 "nbformat": 4,
 "nbformat_minor": 1
}
