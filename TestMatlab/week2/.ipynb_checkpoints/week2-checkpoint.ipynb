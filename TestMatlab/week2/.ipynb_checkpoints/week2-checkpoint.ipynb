{
 "cells": [
  {
   "cell_type": "code",
   "execution_count": null,
   "metadata": {
    "collapsed": true
   },
   "outputs": [],
   "source": [
    "#notes: pick markdown cell type\n",
    "#to insert image use <img src='test.png'> and click the run cell then the image is loaded"
   ]
  },
  {
   "cell_type": "markdown",
   "metadata": {},
   "source": [
    "<img src='w2_1.png'>"
   ]
  },
  {
   "cell_type": "markdown",
   "metadata": {},
   "source": [
    "ANS: LPF"
   ]
  },
  {
   "cell_type": "markdown",
   "metadata": {},
   "source": [
    "<img src=\"w2_2.png\">"
   ]
  },
  {
   "cell_type": "markdown",
   "metadata": {},
   "source": [
    "[-1 -1 -1; -1 9 -1; -1 -1 -1] is the HPF"
   ]
  },
  {
   "cell_type": "markdown",
   "metadata": {},
   "source": [
    "<img src='w2_3.png'>"
   ]
  },
  {
   "cell_type": "code",
   "execution_count": 13,
   "metadata": {
    "collapsed": false
   },
   "outputs": [
    {
     "name": "stdout",
     "output_type": "stream",
     "text": [
      "[[ 1  3  5  3]\n",
      " [ 1  7 14  8]\n",
      " [ 0  4 15 11]\n",
      " [ 0  0  6  6]]\n"
     ]
    }
   ],
   "source": [
    "import numpy as np\n",
    "from scipy import signal\n",
    "from scipy import misc\n",
    "\n",
    "x=np.matrix([[1, 2, 3 ], [0, 4, 5], [0, 0, 6]])\n",
    "y=np.matrix([[1, 1], [1, 1]])\n",
    "\n",
    "z=signal.convolve2d(x,y)\n",
    "print z"
   ]
  },
  {
   "cell_type": "markdown",
   "metadata": {},
   "source": [
    "<img src='w2_4.png'>"
   ]
  },
  {
   "cell_type": "markdown",
   "metadata": {
    "collapsed": true
   },
   "source": [
    "True"
   ]
  },
  {
   "cell_type": "markdown",
   "metadata": {},
   "source": [
    "<img src='w2_5.png'>"
   ]
  },
  {
   "cell_type": "markdown",
   "metadata": {},
   "source": [
    "The first one is true; assuming the input follows superposition and scaling\n",
    "Second one is false\n",
    "Third is false b/c y=x**h and if x is 0 then y is 0 regardless of h\n",
    "Fourth is false b/c y=x**h. If y(n1,n2)=0 then h(s)=0 or null function then y is always 0 regardless of x. "
   ]
  },
  {
   "cell_type": "markdown",
   "metadata": {},
   "source": [
    "<img src='w2_6.png'>"
   ]
  },
  {
   "cell_type": "code",
   "execution_count": 19,
   "metadata": {
    "collapsed": false
   },
   "outputs": [
    {
     "name": "stdout",
     "output_type": "stream",
     "text": [
      "[[ 1  3  5  3]\n",
      " [ 5 12 16  9]\n",
      " [11 24 28 15]\n",
      " [ 7 15 17  9]]\n"
     ]
    }
   ],
   "source": [
    "#This is tricky, use a test case. \n",
    "x=np.matrix([[1,2,3],[4,5,6],[7,8,9]])\n",
    "y=np.matrix([[1,1],[1,1]])\n",
    "\n",
    "#x size =3x3; y size=[2x2] P1-1=3, P2-1=2, P1=4, P2=3\n",
    "\n",
    "#The convolution of x**y: \n",
    "z=signal.convolve2d(x,y)\n",
    "print z\n",
    "\n",
    "#the Z size is 4x4 so the areas outside this are 0\n",
    "#the minimum is x dimension is 5 and y dimension is 5\n",
    "#P1=4, P2=3, P1+P2=7-2=5 whic\n",
    "\n",
    "\n",
    "\n",
    "\n",
    "\n"
   ]
  },
  {
   "cell_type": "markdown",
   "metadata": {},
   "source": []
  }
 ],
 "metadata": {
  "kernelspec": {
   "display_name": "Python 2",
   "language": "python",
   "name": "python2"
  },
  "language_info": {
   "codemirror_mode": {
    "name": "ipython",
    "version": 2
   },
   "file_extension": ".py",
   "mimetype": "text/x-python",
   "name": "python",
   "nbconvert_exporter": "python",
   "pygments_lexer": "ipython2",
   "version": "2.7.11"
  }
 },
 "nbformat": 4,
 "nbformat_minor": 0
}
