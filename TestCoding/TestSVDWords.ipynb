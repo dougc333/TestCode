{
 "cells": [
  {
   "cell_type": "code",
   "execution_count": 2,
   "metadata": {
    "collapsed": false
   },
   "outputs": [
    {
     "name": "stdout",
     "output_type": "stream",
     "text": [
      "num: -0.524124930174\n",
      "num: -0.572859144537\n",
      "num: -0.594438071132\n",
      "num: 0.630120663563\n",
      "num: -0.256274004778\n",
      "num: 0.274017533217\n",
      "num: -0.285637407541\n",
      "num: -0.247912130379\n",
      "num: -0.193139313084\n",
      "num: 0.0338495047559\n",
      "num: -0.30513468365\n",
      "num: -0.293988989917\n",
      "num: -0.18248983735\n",
      "num: -0.161027766821\n"
     ]
    }
   ],
   "source": [
    "#svd example\n",
    "import numpy as np\n",
    "import matplotlib.pyplot  as plt\n",
    "from scipy  import linalg as la\n",
    "\n",
    "fig = plt.figure()\n",
    "ax = fig.add_subplot(111)\n",
    "ax.set_xlim(-1,1)\n",
    "ax.set_ylim(-1,1)\n",
    "\n",
    "words=[\"I\",\"like\", \"enjoy\",\"deep\",\"learning\",\"NLP\",\"flying\"]\n",
    "X = np.array([[0,2,1,0,0,0,0,0],\n",
    "              [2,0,0,1,0,1,0,0],\n",
    "              [1,0,0,0,0,0,1,0],\n",
    "              [0,1,0,0,1,0,0,0],\n",
    "              [0,0,0,1,0,0,0,1],\n",
    "              [0,1,0,0,0,0,0,1],\n",
    "              [0,0,1,0,0,0,0,1],\n",
    "              [0,0,0,0,1,1,1,0]])\n",
    "U,s,Vh = la.svd(X,full_matrices=False)\n",
    "for i in xrange(len(words)):\n",
    "    print \"num:\",U[i,0]\n",
    "    print \"num:\",U[i,1]\n",
    "    ax.text(U[i,0],U[i,1],words[i])\n",
    "plt.show()"
   ]
  },
  {
   "cell_type": "code",
   "execution_count": null,
   "metadata": {
    "collapsed": true
   },
   "outputs": [],
   "source": [
    "#now compute this for the database. Try a few terms from the database\n",
    "#what happens if there are no eigenvectors? all orthogonal\n",
    "X = np.array([[0,1,0],\n",
    "              [1,0,0],\n",
    "              [0,0,0])\n"
   ]
  }
 ],
 "metadata": {
  "kernelspec": {
   "display_name": "Python 2",
   "language": "python",
   "name": "python2"
  },
  "language_info": {
   "codemirror_mode": {
    "name": "ipython",
    "version": 2
   },
   "file_extension": ".py",
   "mimetype": "text/x-python",
   "name": "python",
   "nbconvert_exporter": "python",
   "pygments_lexer": "ipython2",
   "version": "2.7.11"
  }
 },
 "nbformat": 4,
 "nbformat_minor": 0
}
