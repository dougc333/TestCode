{
 "cells": [
  {
   "cell_type": "code",
   "execution_count": null,
   "metadata": {
    "collapsed": true
   },
   "outputs": [],
   "source": [
    "Hinton Coursera class examples"
   ]
  },
  {
   "cell_type": "code",
   "execution_count": 24,
   "metadata": {
    "collapsed": false
   },
   "outputs": [
    {
     "data": {
      "image/png": "[encoded data removed]",
      "text/plain": [
       "<matplotlib.figure.Figure at 0x110d7cf10>"
      ]
     },
     "metadata": {},
     "output_type": "display_data"
    }
   ],
   "source": [
    "%matplotlib inline\n",
    "\n",
    "import matplotlib.pyplot as plt\n",
    "import numpy as np\n",
    "from sympy.functions.special.delta_functions import Heaviside\n",
    "\n",
    "plt.xlabel(\"x\")\n",
    "plt.ylabel(\"y\")\n",
    "x=np.arange(0,10)\n",
    "#weight =1;can add multiple lines w colors and b=0\n",
    "y=3*x\n",
    "line=plt.plot(x,y)\n",
    "plt.setp(line, color='r', linewidth=2.0)\n",
    "plt.show()"
   ]
  },
  {
   "cell_type": "code",
   "execution_count": 31,
   "metadata": {
    "collapsed": false
   },
   "outputs": [
    {
     "ename": "SyntaxError",
     "evalue": "invalid syntax (<ipython-input-31-a6b07d25d20c>, line 1)",
     "output_type": "error",
     "traceback": [
      "\u001b[0;36m  File \u001b[0;32m\"<ipython-input-31-a6b07d25d20c>\"\u001b[0;36m, line \u001b[0;32m1\u001b[0m\n\u001b[0;31m    heaviside = lambda x: 0.5 if x == 0\u001b[0m\n\u001b[0m                                        ^\u001b[0m\n\u001b[0;31mSyntaxError\u001b[0m\u001b[0;31m:\u001b[0m invalid syntax\n"
     ]
    }
   ],
   "source": [
    "#MINST logistic regression"
   ]
  },
  {
   "cell_type": "code",
   "execution_count": 32,
   "metadata": {
    "collapsed": false
   },
   "outputs": [
    {
     "ename": "SyntaxError",
     "evalue": "invalid syntax (<ipython-input-32-38650e526d45>, line 4)",
     "output_type": "error",
     "traceback": [
      "\u001b[0;36m  File \u001b[0;32m\"<ipython-input-32-38650e526d45>\"\u001b[0;36m, line \u001b[0;32m4\u001b[0m\n\u001b[0;31m    neg_correct_ind = setdiff(1:size(neg_examples,1),mistakes0);\u001b[0m\n\u001b[0m                               ^\u001b[0m\n\u001b[0;31mSyntaxError\u001b[0m\u001b[0;31m:\u001b[0m invalid syntax\n"
     ]
    }
   ],
   "source": [
    "f = figure(1);\n",
    "clf(f);\n",
    "\n",
    "neg_correct_ind = setdiff(1:size(neg_examples,1),mistakes0);\n",
    "pos_correct_ind = setdiff(1:size(pos_examples,1),mistakes1);\n",
    "\n",
    "subplot(2,2,1);\n",
    "hold on;\n",
    "if (~isempty(neg_examples))\n",
    "\tplot(neg_examples(neg_correct_ind,1),neg_examples(neg_correct_ind,2),'og','markersize',20);\n",
    "end\n",
    "if (~isempty(pos_examples))\n",
    "\tplot(pos_examples(pos_correct_ind,1),pos_examples(pos_correct_ind,2),'sg','markersize',20);\n",
    "end\n",
    "if (size(mistakes0,1) > 0)\n",
    "\tplot(neg_examples(mistakes0,1),neg_examples(mistakes0,2),'or','markersize',20);\n",
    "end\n",
    "if (size(mistakes1,1) > 0)\n",
    "\tplot(pos_examples(mistakes1,1),pos_examples(mistakes1,2),'sr','markersize',20);\n",
    "end\n",
    "title('Classifier');\n",
    "\n",
    "%In order to plot the decision line, we just need to get two points.\n",
    "plt([-5,5],[(-w(end)+5*w(1))/w(2),(-w(end)-5*w(1))/w(2)],'k')\n",
    "xlim([-1,1]);\n",
    "ylim([-1,1]);\n",
    "hold off;\n",
    "\n",
    "subplot(2,2,2);\n",
    "plot(0:length(num_err_history)-1,num_err_history);\n",
    "xlim([-1,max(15,length(num_err_history))]);\n",
    "ylim([0,size(neg_examples,1)+size(pos_examples,1)+1]);\n",
    "title('Number of errors');\n",
    "xlabel('Iteration');\n",
    "ylabel('Number of errors');\n",
    "\n",
    "subplot(2,2,3);\n",
    "plot(0:length(w_dist_history)-1,w_dist_history);\n",
    "xlim([-1,max(15,length(num_err_history))]);\n",
    "ylim([0,15]);\n",
    "title('Distance')\n",
    "xlabel('Iteration');\n",
    "ylabel('Distance');"
   ]
  },
  {
   "cell_type": "code",
   "execution_count": null,
   "metadata": {
    "collapsed": true
   },
   "outputs": [],
   "source": []
  }
 ],
 "metadata": {
  "celltoolbar": "Slideshow",
  "kernelspec": {
   "display_name": "Python 2",
   "language": "python",
   "name": "python2"
  },
  "language_info": {
   "codemirror_mode": {
    "name": "ipython",
    "version": 2
   },
   "file_extension": ".py",
   "mimetype": "text/x-python",
   "name": "python",
   "nbconvert_exporter": "python",
   "pygments_lexer": "ipython2",
   "version": "2.7.11"
  }
 },
 "nbformat": 4,
 "nbformat_minor": 0
}
