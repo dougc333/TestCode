{
 "cells": [
  {
   "cell_type": "code",
   "execution_count": 1,
   "metadata": {
    "collapsed": false
   },
   "outputs": [
    {
     "name": "stdout",
     "output_type": "stream",
     "text": [
      "line:ferrous sulfate (slow fe po)\n",
      "ferrous sulfate slow fe po\n"
     ]
    }
   ],
   "source": [
    "import sqlite3\n",
    "import re\n",
    "\n",
    "\n",
    "#measure recall & numResults per query term with first term\n",
    "#only do this for terms which have 0 results if we have results dont mess with it\n",
    "#as we add terms what is the recall? \n",
    "#ignores abbreviations add in PO abbreviations as test case for test case. Look at small subset of PO terms\n",
    "#\n",
    "for line in open(\"/Users/dc/TestCode/TestCoding/nomatch.csv\"):\n",
    "    print \"line:%s\" % line.lower().split(\"|\")[0]\n",
    "    foo = re.sub(r\"[()]\",\"\",line.lower().split(\"|\")[0])\n",
    "    print foo\n",
    "    break"
   ]
  },
  {
   "cell_type": "code",
   "execution_count": null,
   "metadata": {
    "collapsed": true
   },
   "outputs": [],
   "source": []
  }
 ],
 "metadata": {
  "kernelspec": {
   "display_name": "Python 2",
   "language": "python",
   "name": "python2"
  },
  "language_info": {
   "codemirror_mode": {
    "name": "ipython",
    "version": 2
   },
   "file_extension": ".py",
   "mimetype": "text/x-python",
   "name": "python",
   "nbconvert_exporter": "python",
   "pygments_lexer": "ipython2",
   "version": "2.7.11"
  }
 },
 "nbformat": 4,
 "nbformat_minor": 0
}
