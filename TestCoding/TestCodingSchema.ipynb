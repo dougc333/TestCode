{
 "cells": [
  {
   "cell_type": "markdown",
   "metadata": {
    "collapsed": true
   },
   "source": [
    "# Second Iteration. Lost work with Pineapple app. \n",
    "- correlate potential for error in coding\n",
    "- different types of errors:\n",
    "  \n",
    "- Correlate tables for coding names,\n",
    "- allergies/immunizations\n",
    "- allergies/medications\n",
    "- allergies/problems\n",
    "- allergies/procedures\n",
    "- immunizations/medications\n",
    "- immunizations/problems\n",
    "- immunizations/procedures\n",
    "- medications/problems\n",
    "- medications/procedures\n",
    "- problems/procedures"
   ]
  },
  {
   "cell_type": "code",
   "execution_count": 3,
   "metadata": {
    "collapsed": false
   },
   "outputs": [
    {
     "name": "stdout",
     "output_type": "stream",
     "text": [
      "allergies/immunizations (21824,)\n",
      "allergies/medications (493351,)\n",
      "allergies/problems (206289,)\n",
      "allergies/procedures (30299,)\n",
      "immunizations/medications (106688,)\n",
      "immunizations/problems (48044,)\n",
      "immunizations/procedures (11734,)\n",
      "medications/problems (1085533,)\n",
      "medications/procedures (954396,)\n",
      "problems/procedures (74378,)\n"
     ]
    }
   ],
   "source": [
    "# get counts for above\n",
    "import sqlite3\n",
    "conn = sqlite3.connect(\"/Users/dc/TestCode/TestCoding/clinical.sqlite\")\n",
    "c=conn.cursor()\n",
    "c.execute(\"select count(allergies.user_id ) from allergies inner join immunizations where allergies.user_id=immunizations.user_id;\")\n",
    "print \"allergies/immunizations\",c.fetchone()\n",
    "c.execute(\"select count(allergies.user_id ) from allergies inner join medications where allergies.user_id=medications.user_id;\")\n",
    "print \"allergies/medications\",c.fetchone()\n",
    "c.execute(\"select count(allergies.user_id ) from allergies inner join problems where allergies.user_id=problems.user_id;\")\n",
    "print \"allergies/problems\",c.fetchone()\n",
    "c.execute(\"select count(allergies.user_id ) from allergies inner join procedures where allergies.user_id=procedures.user_id;\")\n",
    "print \"allergies/procedures\",c.fetchone()\n",
    "c.execute(\"select count(immunizations.user_id ) from immunizations inner join medications where immunizations.user_id=medications.user_id;\")\n",
    "print \"immunizations/medications\",c.fetchone()\n",
    "c.execute(\"select count(immunizations.user_id ) from immunizations inner join problems where immunizations.user_id=problems.user_id;\")\n",
    "print \"immunizations/problems\",c.fetchone()\n",
    "c.execute(\"select count(immunizations.user_id ) from immunizations inner join procedures where immunizations.user_id=procedures.user_id;\")\n",
    "print \"immunizations/procedures\",c.fetchone()\n",
    "c.execute(\"select count(medications.user_id ) from medications inner join problems where medications.user_id=problems.user_id;\")\n",
    "print \"medications/problems\",c.fetchone()\n",
    "c.execute(\"select count(medications.user_id ) from medications inner join procedures where medications.user_id=procedures.user_id;\")\n",
    "print \"medications/procedures\",c.fetchone()\n",
    "c.execute(\"select count(problems.user_id ) from problems inner join procedures where problems.user_id=procedures.user_id;\")\n",
    "print \"problems/procedures\",c.fetchone()\n",
    "c.close()"
   ]
  },
  {
   "cell_type": "code",
   "execution_count": null,
   "metadata": {
    "collapsed": true,
    "slideshow": {
     "slide_type": "slide"
    }
   },
   "outputs": [],
   "source": [
    "The 3 highest counts are:\n",
    "    allergies/medications (493351,)\n",
    "    medications/problems (1085533,)\n",
    "    medications/procedures (954396,)\n",
    "The key seems to be medications since these are in all 3 of the subsets. We can correlate medications to see the match\n",
    "Show examples of the data\n"
   ]
  },
  {
   "cell_type": "code",
   "execution_count": 16,
   "metadata": {
    "collapsed": false,
    "slideshow": {
     "slide_type": "-"
    }
   },
   "outputs": [
    {
     "name": "stdout",
     "output_type": "stream",
     "text": [
      "(u'2037', u'1307662', u'Lactose', u'133470', u'Lisdexamfetamine Dimesylate 60 Mg Po Caps')\n",
      "(u'2037', u'1307662', u'Lactose', u'133470', u'Lisdexamfetamine Dimesylate 60 Mg Po Caps')\n"
     ]
    }
   ],
   "source": [
    "# correlate the data fields in the 2 tables\n",
    "import sqlite3\n",
    "conn = sqlite3.connect(\"/Users/dc/TestCode/TestCoding/clinical.sqlite\")\n",
    "c=conn.cursor()\n",
    "#\n",
    "c.execute(\"select allergies.user_id, allergies.code, allergies.code_name, medications.code, medications.code_name from allergies inner join medications on allergies.user_id=medications.user_id;\")\n",
    "for xrange in (1,100):\n",
    "    print c.fetchone()\n",
    "#end allergies/medication\n"
   ]
  },
  {
   "cell_type": "code",
   "execution_count": 12,
   "metadata": {
    "collapsed": false
   },
   "outputs": [
    {
     "name": "stdout",
     "output_type": "stream",
     "text": [
      "(u'2037', u'64572001', u'Disease', u'133470', u'Lisdexamfetamine Dimesylate 60 Mg Po Caps')\n",
      "(u'2037', u'64572001', u'Disease', u'133470', u'Lisdexamfetamine Dimesylate 60 Mg Po Caps')\n",
      "(u'2037', u'64572001', u'Disease', u'133470', u'Lisdexamfetamine Dimesylate 60 Mg Po Caps')\n"
     ]
    }
   ],
   "source": [
    "c.execute(\"select problems.user_id, problems.code, problems.code_name, medications.code, medications.code_name from problems inner join medications on problems.user_id=medications.user_id;\")\n",
    "#for xrange in (1,10):\n",
    "    print c.fetchall()\n"
   ]
  },
  {
   "cell_type": "code",
   "execution_count": 13,
   "metadata": {
    "collapsed": false
   },
   "outputs": [
    {
     "name": "stdout",
     "output_type": "stream",
     "text": [
      "(u'579', u'93306', u'ECHOCARDIOGRAM ADULT COMPLETE W CLR/ DOPP WAVEFORM', u'0093-0657-01', u'Calcitriol 0.25 McG Po Caps')\n",
      "(u'579', u'93306', u'ECHOCARDIOGRAM ADULT COMPLETE W CLR/ DOPP WAVEFORM', u'101016', u'Potassium Citrate-Citric Acid 3300-1002 Mg Po Pack')\n",
      "(u'579', u'93306', u'ECHOCARDIOGRAM ADULT COMPLETE W CLR/ DOPP WAVEFORM', u'101016', u'Potassium Citrate-Citric Acid 3300-1002 Mg Po Pack')\n"
     ]
    }
   ],
   "source": [
    "c.execute(\"select procedures.user_id, procedures.code, procedures.code_name, medications.code, medications.code_name from procedures inner join medications on procedures.user_id=medications.user_id;\")\n",
    "print c.fetchone()\n",
    "for xrange in (1,10):\n",
    "    print c.fetchone()\n",
    "\n",
    "c.close()"
   ]
  },
  {
   "cell_type": "code",
   "execution_count": null,
   "metadata": {
    "collapsed": true
   },
   "outputs": [],
   "source": [
    "The objectID can be used to remove duplicate entries. For example there are multiple listings for lactose allergy with\n",
    "the same objectID. We dont need all the listings. \n"
   ]
  },
  {
   "cell_type": "code",
   "execution_count": 41,
   "metadata": {
    "button": false,
    "collapsed": false,
    "deletable": true,
    "new_sheet": false,
    "run_control": {
     "read_only": false
    }
   },
   "outputs": [
    {
     "name": "stdout",
     "output_type": "stream",
     "text": [
      "--------------------start QC tables for 1 user-----------------------------\n",
      "quality check 1 user in tables\n",
      "num allergies for 2037: (9,)\n",
      "  allergies for 2037: [(u'2037', u'Lactose', u'1307662', u'Lactose', u'rxnorm', u'extracted', u'56fc2d041470c312002acb5a'), (u'2037', u'Lactose', u'3SY5LH9PMK', u'null', u'fdauniqueingredientidentifier(unii)', u'extracted', u'56fc2d041470c312002acb5a'), (u'2037', u'Lactose', u'EWQ57Q8I5X', u'null', u'fdauniqueingredientidentifier(unii)', u'extracted', u'56fc2d041470c312002acb5a'), (u'2037', u'Lactose', u'J2B2A4N98G', u'null', u'fdauniqueingredientidentifier(unii)', u'extracted', u'56fc2d041470c312002acb5a'), (u'2037', u'Lactose', u'6211', u'null', u'rxnorm', u'extracted', u'56fc2d041470c312002acb5a'), (u'2037', u'Lactose', u'1305527', u'null', u'rxnorm', u'extracted', u'56fc2d041470c312002acb5a'), (u'2037', u'Lactose', u'N0000023146', u'Lactose', u'ndfrt', u'inferred', u'56fc2d041470c312002acb5a'), (u'2037', u'Lactose', u'N0000006601', u'null', u'ndfrt', u'inferred', u'56fc2d041470c312002acb5a'), (u'2037', u'Lactose', u'N0000146181', u'null', u'ndfrt', u'inferred', u'56fc2d041470c312002acb5a')]\n",
      "num immunizations for 2037: (1,)\n",
      "  immunizations for 2037: [(u'2037', u'INFLUENZA QUADRIVALENT (IM) PF 3 YRS & GREATER', u'150', u'INFLUENZA QUADRIVALENT (IM) PF 3 YRS & GREATER', u'cvx', u'extracted', u'56fbdb584e5de91300678003')]\n",
      "num problems for 2037: (13,)\n",
      "  problems for 2037: [(u'2037', u'Disease', u'64572001', u'Disease', u'snomedct', u'extracted', u'56fc2d041470c312002acb6a'), (u'2037', u'ADD (attention deficit disorder)', u'406506008', u'ADD (attention deficit disorder)', u'snomedct', u'extracted', u'56fbdb584e5de91300678029'), (u'2037', u'ADD (attention deficit disorder)', u'314.00', u'ADD (attention deficit disorder)', u'icd9cm', u'extracted', u'56fbdb584e5de91300678029'), (u'2037', u'ADD (attention deficit disorder)', u'F90.0', u'ADD (attention deficit disorder)', u'icd10cm', u'extracted', u'56fbdb584e5de91300678029'), (u'2037', u'Acute maxillary sinusitis', u'68272006', u'Acute maxillary sinusitis', u'snomedct', u'extracted', u'56fbdb584e5de91300678025'), (u'2037', u'Acute maxillary sinusitis', u'461.0', u'Acute maxillary sinusitis', u'icd9cm', u'extracted', u'56fbdb584e5de91300678025'), (u'2037', u'Acute maxillary sinusitis', u'J01.00', u'Acute maxillary sinusitis', u'icd10cm', u'extracted', u'56fbdb584e5de91300678025'), (u'2037', u'Sore throat', u'267102003', u'Sore throat', u'snomedct', u'extracted', u'56fbdb584e5de9130067801b'), (u'2037', u'Sore throat', u'462', u'Sore throat', u'icd9cm', u'extracted', u'56fbdb584e5de9130067801b'), (u'2037', u'Sore throat', u'J02.9', u'Sore throat', u'icd10cm', u'extracted', u'56fbdb584e5de9130067801b'), (u'2037', u'Exposure to hepatitis C', u'444491009', u'Exposure to hepatitis C', u'snomedct', u'extracted', u'56fbdb584e5de91300678005'), (u'2037', u'Exposure to hepatitis C', u'V01.79', u'Exposure to hepatitis C', u'icd9cm', u'extracted', u'56fbdb584e5de91300678005'), (u'2037', u'Exposure to hepatitis C', u'Z20.5', u'Exposure to hepatitis C', u'icd10cm', u'extracted', u'56fbdb584e5de91300678005')]\n",
      "num procedures for 2037: (0,)\n",
      "  procedures for 2037: []\n",
      "---------------------end QC tables for 1 user------------------------------\n",
      "---------------start QC join on the ID in the last column------------------\n",
      "[]\n",
      "[]\n",
      "[]\n",
      "[]\n",
      "---------------end QC join on the ID in the last column--------------------\n"
     ]
    }
   ],
   "source": [
    "import sqlite3\n",
    "conn = sqlite3.connect(\"/Users/dc/TestCode/TestCoding/clinical.sqlite\")\n",
    "c=conn.cursor()\n",
    "print \"--------------------start QC tables for 1 user-----------------------------\"\n",
    "print \"quality check 1 user in tables\"\n",
    "c.execute(\"select count(*) from allergies where allergies.user_id='2037';\")\n",
    "print \"num allergies for 2037:\",c.fetchone()\n",
    "c.execute(\"select * from allergies where allergies.user_id='2037';\")\n",
    "print \"  allergies for 2037:\", c.fetchall()\n",
    "\n",
    "c.execute(\"select count(*) from immunizations where immunizations.user_id='2037';\")\n",
    "print \"num immunizations for 2037:\",c.fetchone()\n",
    "c.execute(\"select * from immunizations where immunizations.user_id='2037';\")\n",
    "print \"  immunizations for 2037:\",c.fetchall()\n",
    "\n",
    "c.execute(\"select count(*) from problems where problems.user_id='2037';\")\n",
    "print \"num problems for 2037:\",c.fetchone()\n",
    "c.execute(\"select * from problems where problems.user_id='2037';\")\n",
    "print \"  problems for 2037:\",c.fetchall()\n",
    "\n",
    "c.execute(\"select count(*) from procedures where procedures.user_id='2037';\")\n",
    "print \"num procedures for 2037:\",c.fetchone()\n",
    "c.execute(\"select * from procedures where procedures.user_id='2037';\")\n",
    "print \"  procedures for 2037:\",c.fetchall()\n",
    "\n",
    "print \"---------------------end QC tables for 1 user------------------------------\"\n",
    "\n",
    "print \"---------------start QC join on the ID in the last column------------------\"\n",
    "c.execute(\"select allergies.allergy_object_id from allergies inner join immunizations on allergies.allergy_object_id=immunizations.immunization_object_id; \")\n",
    "print c.fetchall()\n",
    "c.execute(\"select allergies.allergy_object_id from allergies inner join medications on allergies.allergy_object_id=medications.medication_object_id; \")\n",
    "print c.fetchall()\n",
    "c.execute(\"select allergies.allergy_object_id from allergies inner join problems on allergies.allergy_object_id=problems.problem_object_id; \")\n",
    "print c.fetchall()\n",
    "c.execute(\"select allergies.allergy_object_id from allergies inner join procedures on allergies.allergy_object_id=procedures.procedure_object_id; \")\n",
    "print c.fetchall()\n",
    "print \"---------------end QC join on the ID in the last column--------------------\"\n",
    "\n"
   ]
  },
  {
   "cell_type": "code",
   "execution_count": null,
   "metadata": {
    "button": false,
    "collapsed": true,
    "deletable": true,
    "new_sheet": false,
    "run_control": {
     "read_only": false
    }
   },
   "outputs": [],
   "source": [
    "import sqlite3\n",
    "conn = sqlite3.connect(\"/Users/dc/TestCode/TestCoding/clinical.sqlite\")\n",
    "c=conn.cursor()\n",
    "c.execute(\"select count(allergies.user_id) from allergies inner join immunizations on allergies.user_id=immunizations.user_id;\")\n",
    "print \"num common allergies && immunizations:\",c.fetchall()\n",
    "c.execute(\"select count(allergies.user_id) from allergies inner join medications on allergies.user_id=medications.user_id;\")\n",
    "print \"num common allergies && medications:\",c.fetchall()\n",
    "c.execute(\"select count(allergies.user_id) from allergies inner join problems on allergies.user_id=problems.user_id;\")\n",
    "print \"num common allergies && problems:\",c.fetchall()\n",
    "c.execute(\"select count(allergies.user_id) from allergies inner join procedures on allergies.user_id=procedures.user_id;\")\n",
    "print \"num common allergies && procedures:\",c.fetchall()\n",
    "\n",
    "print(\"--------------------------\")\n",
    "c.execute(\"select count(allergies.user_id) from allergies inner join immunizations on allergies.user_id='2037' & immunizations.user_id='2037';\")\n",
    "print \"num in cross product:\",c.fetchone()\n",
    "print \"\"\n",
    "c.execute(\"select allergies.user_id,allergies.code,allergies.code_name, immunizations.code, immunizations.code_name from allergies inner join immunizations on allergies.user_id=immunizations.user_id;\")\n",
    "#print \"num common allergies && immunizations:\",c.fetchall(\n",
    "c.close()"
   ]
  }
 ],
 "metadata": {
  "kernelspec": {
   "display_name": "Python 2",
   "language": "python",
   "name": "python2"
  },
  "language_info": {
   "codemirror_mode": {
    "name": "ipython",
    "version": 2
   },
   "file_extension": ".py",
   "mimetype": "text/x-python",
   "name": "python",
   "nbconvert_exporter": "python",
   "pygments_lexer": "ipython2",
   "version": "2.7.11"
  }
 },
 "nbformat": 4,
 "nbformat_minor": 0
}
