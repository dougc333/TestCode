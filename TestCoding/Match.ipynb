{
 "cells": [
  {
   "cell_type": "code",
   "execution_count": 8,
   "metadata": {
    "collapsed": false
   },
   "outputs": [
    {
     "name": "stdout",
     "output_type": "stream",
     "text": [
      "(657,)\n",
      "657\n",
      "Ferrous Sulfate (SLOW FE PO)|null\n",
      "\n"
     ]
    }
   ],
   "source": [
    "#find terms which have no code from table medications\n",
    "import sqlite3\n",
    "\n",
    "conn=sqlite3.connect(\"/Users/dc/TestCode/TestCoding/clinical.sqlite\")\n",
    "c = conn.cursor()\n",
    "c.execute(\"select count(code) from medications where code_system_name=\\\"rxnorm\\\" and code not in(select DISTINCT(RXCUI) from rxnconso)\")\n",
    "print c.fetchone()\n",
    "\n",
    "f=open(\"/Users/dc/TestCode/TestCoding/nomatch.csv\", \"r\")\n",
    "queries=[]\n",
    "for readline in f:\n",
    "    queries.append(readline)\n",
    "    \n",
    "print len(queries)\n",
    "print queries[0]"
   ]
  },
  {
   "cell_type": "code",
   "execution_count": 31,
   "metadata": {
    "collapsed": false
   },
   "outputs": [
    {
     "name": "stdout",
     "output_type": "stream",
     "text": [
      "Ferrous Sulfate (SLOW FE PO)|null\n",
      "\n",
      "processing query:ferrous sulfate\n",
      "processBase q:select * from lookup where name like '%ferrous sulfate%'\n",
      "num baseResult: 1039\n",
      "found paren numBaseResult:1039\n",
      "finding best match in processParen:SLOW FE PO\n",
      "query before clean punct:SLOW FE PO\n",
      "clean punct:slow fe po\n",
      "abbrev:slow fe oral\n"
     ]
    },
    {
     "ename": "TypeError",
     "evalue": "not all arguments converted during string formatting",
     "output_type": "error",
     "traceback": [
      "\u001b[0;31m---------------------------------------------------------------------------\u001b[0m",
      "\u001b[0;31mTypeError\u001b[0m                                 Traceback (most recent call last)",
      "\u001b[0;32m<ipython-input-31-65f1919c7d1f>\u001b[0m in \u001b[0;36m<module>\u001b[0;34m()\u001b[0m\n\u001b[1;32m     67\u001b[0m \u001b[0;34m\u001b[0m\u001b[0m\n\u001b[1;32m     68\u001b[0m \u001b[0mm\u001b[0m \u001b[0;34m=\u001b[0m \u001b[0mMatch\u001b[0m\u001b[0;34m(\u001b[0m\u001b[0;34m)\u001b[0m\u001b[0;34m\u001b[0m\u001b[0m\n\u001b[0;32m---> 69\u001b[0;31m \u001b[0mm\u001b[0m\u001b[0;34m.\u001b[0m\u001b[0mtest\u001b[0m\u001b[0;34m(\u001b[0m\u001b[0;34m)\u001b[0m\u001b[0;34m\u001b[0m\u001b[0m\n\u001b[0m",
      "\u001b[0;32m<ipython-input-31-65f1919c7d1f>\u001b[0m in \u001b[0;36mtest\u001b[0;34m(self)\u001b[0m\n\u001b[1;32m     63\u001b[0m         \u001b[0;32mfor\u001b[0m \u001b[0mreadline\u001b[0m \u001b[0;32min\u001b[0m \u001b[0mf\u001b[0m\u001b[0;34m:\u001b[0m\u001b[0;34m\u001b[0m\u001b[0m\n\u001b[1;32m     64\u001b[0m             \u001b[0;32mprint\u001b[0m \u001b[0mreadline\u001b[0m\u001b[0;34m\u001b[0m\u001b[0m\n\u001b[0;32m---> 65\u001b[0;31m             \u001b[0mself\u001b[0m\u001b[0;34m.\u001b[0m\u001b[0mprocessQuery\u001b[0m\u001b[0;34m(\u001b[0m\u001b[0mreadline\u001b[0m\u001b[0;34m)\u001b[0m\u001b[0;34m\u001b[0m\u001b[0m\n\u001b[0m\u001b[1;32m     66\u001b[0m             \u001b[0;32mbreak\u001b[0m\u001b[0;34m\u001b[0m\u001b[0m\n\u001b[1;32m     67\u001b[0m \u001b[0;34m\u001b[0m\u001b[0m\n",
      "\u001b[0;32m<ipython-input-31-65f1919c7d1f>\u001b[0m in \u001b[0;36mprocessQuery\u001b[0;34m(self, query)\u001b[0m\n\u001b[1;32m     16\u001b[0m             \u001b[0mself\u001b[0m\u001b[0;34m.\u001b[0m\u001b[0mprocessBase\u001b[0m\u001b[0;34m(\u001b[0m\u001b[0mquery\u001b[0m\u001b[0;34m[\u001b[0m\u001b[0;36m0\u001b[0m\u001b[0;34m:\u001b[0m\u001b[0mfindParen\u001b[0m\u001b[0;34m]\u001b[0m\u001b[0;34m)\u001b[0m\u001b[0;34m\u001b[0m\u001b[0m\n\u001b[1;32m     17\u001b[0m             \u001b[0;32mprint\u001b[0m \u001b[0;34m\"found paren numBaseResult:%d\"\u001b[0m \u001b[0;34m%\u001b[0m \u001b[0mlen\u001b[0m\u001b[0;34m(\u001b[0m\u001b[0mself\u001b[0m\u001b[0;34m.\u001b[0m\u001b[0mbaseResult\u001b[0m\u001b[0;34m)\u001b[0m\u001b[0;34m\u001b[0m\u001b[0m\n\u001b[0;32m---> 18\u001b[0;31m             \u001b[0mself\u001b[0m\u001b[0;34m.\u001b[0m\u001b[0mparenResult\u001b[0m \u001b[0;34m=\u001b[0m \u001b[0mself\u001b[0m\u001b[0;34m.\u001b[0m\u001b[0mprocessParen\u001b[0m\u001b[0;34m(\u001b[0m\u001b[0mquery\u001b[0m\u001b[0;34m[\u001b[0m\u001b[0mfindParen\u001b[0m\u001b[0;34m+\u001b[0m\u001b[0;36m1\u001b[0m\u001b[0;34m:\u001b[0m\u001b[0mquery\u001b[0m\u001b[0;34m.\u001b[0m\u001b[0mfind\u001b[0m\u001b[0;34m(\u001b[0m\u001b[0;34m\")\"\u001b[0m\u001b[0;34m)\u001b[0m\u001b[0;34m]\u001b[0m\u001b[0;34m)\u001b[0m\u001b[0;34m\u001b[0m\u001b[0m\n\u001b[0m\u001b[1;32m     19\u001b[0m         \u001b[0;32melse\u001b[0m\u001b[0;34m:\u001b[0m\u001b[0;34m\u001b[0m\u001b[0m\n\u001b[1;32m     20\u001b[0m             \u001b[0mself\u001b[0m\u001b[0;34m.\u001b[0m\u001b[0mbaseResult\u001b[0m \u001b[0;34m=\u001b[0m \u001b[0mself\u001b[0m\u001b[0;34m.\u001b[0m\u001b[0mprocessBase\u001b[0m\u001b[0;34m(\u001b[0m\u001b[0mquery\u001b[0m\u001b[0;34m)\u001b[0m\u001b[0;34m\u001b[0m\u001b[0m\n",
      "\u001b[0;32m<ipython-input-31-65f1919c7d1f>\u001b[0m in \u001b[0;36mprocessParen\u001b[0;34m(self, query)\u001b[0m\n\u001b[1;32m     37\u001b[0m         \u001b[0mterms\u001b[0m \u001b[0;34m=\u001b[0m \u001b[0mself\u001b[0m\u001b[0;34m.\u001b[0m\u001b[0mcleanQuery\u001b[0m\u001b[0;34m(\u001b[0m\u001b[0mquery\u001b[0m\u001b[0;34m)\u001b[0m\u001b[0;34m.\u001b[0m\u001b[0msplit\u001b[0m\u001b[0;34m(\u001b[0m\u001b[0;34m)\u001b[0m\u001b[0;34m\u001b[0m\u001b[0m\n\u001b[1;32m     38\u001b[0m         \u001b[0;32mfor\u001b[0m \u001b[0mres\u001b[0m \u001b[0;32min\u001b[0m \u001b[0mself\u001b[0m\u001b[0;34m.\u001b[0m\u001b[0mbaseResult\u001b[0m\u001b[0;34m:\u001b[0m\u001b[0;34m\u001b[0m\u001b[0m\n\u001b[0;32m---> 39\u001b[0;31m             \u001b[0;32mprint\u001b[0m \u001b[0;34m\"finding best match set processing:%s\"\u001b[0m \u001b[0;34m%\u001b[0m \u001b[0mres\u001b[0m\u001b[0;34m\u001b[0m\u001b[0m\n\u001b[0m\u001b[1;32m     40\u001b[0m             \u001b[0mbigset\u001b[0m \u001b[0;34m=\u001b[0m \u001b[0mset\u001b[0m\u001b[0;34m(\u001b[0m\u001b[0mres\u001b[0m\u001b[0;34m.\u001b[0m\u001b[0msplit\u001b[0m\u001b[0;34m(\u001b[0m\u001b[0;34m)\u001b[0m\u001b[0;34m)\u001b[0m\u001b[0;34m\u001b[0m\u001b[0m\n\u001b[1;32m     41\u001b[0m             \u001b[0mlittleSet\u001b[0m \u001b[0;34m=\u001b[0m \u001b[0mset\u001b[0m\u001b[0;34m(\u001b[0m\u001b[0mterms\u001b[0m\u001b[0;34m)\u001b[0m\u001b[0;34m\u001b[0m\u001b[0m\n",
      "\u001b[0;31mTypeError\u001b[0m: not all arguments converted during string formatting"
     ]
    }
   ],
   "source": [
    "\n",
    "import sqlite3\n",
    "import re\n",
    "\n",
    "class Match(object):\n",
    "    \n",
    "    def init(self):\n",
    "        self.conn = sqlite3.connect('/Users/dc/TestCode/TestCoding/clinical.sqlite')\n",
    "        self.c=conn.cursor()\n",
    "        self.baseResult = []\n",
    "        self.ParenResult = []\n",
    "        self.matchResult= []\n",
    "        \n",
    "    def processQuery(self,query):\n",
    "        findParen = query.find(\"(\")\n",
    "        if findParen != -1:\n",
    "            self.processBase(query[0:findParen])\n",
    "            print \"found paren numBaseResult:%d\" % len(self.baseResult) \n",
    "            self.processParen(query[findParen+1:query.find(\")\")])\n",
    "        else:\n",
    "            self.baseResult = self.processBase(query)\n",
    "            \n",
    "        \n",
    "    def processBase(self,query):\n",
    "        cleanQ = self.cleanBaseQuery(query)\n",
    "        print \"processing query:%s\" % cleanQ\n",
    "        q = \"select * from lookup where name like \\'%\"+cleanQ+\"%\\'\"\n",
    "        print \"processBase q:%s\" % q\n",
    "        c.execute(q)\n",
    "        self.baseResult = c.fetchall()\n",
    "        print \"num baseResult:\" , len(self.baseResult)\n",
    "        \n",
    "    def processParen(self,query):\n",
    "        \"\"\"\n",
    "        using ferrous sulfate example the paren terms are a separate set and have to\n",
    "        be anded with the original terms\n",
    "        \"\"\"\n",
    "        print \"finding best match in processParen:%s\" % query\n",
    "        terms = self.cleanQuery(query).split()\n",
    "        c.execute(\"\")\n",
    "        self.parenResult=c.fetchall()\n",
    "        for res in self.baseResult:\n",
    "            print \"finding best match set processing:%s\" % res\n",
    "            bigset = set(res.split())\n",
    "            littleSet = set(terms)\n",
    "            print \"bigset:\" , bigset\n",
    "            print \"little set:\", littleset\n",
    "            print littleSet.issubset(bigset)\n",
    "            \n",
    "            \n",
    "    def cleanBaseQuery(self, query):\n",
    "        return query.lower().strip()\n",
    "            \n",
    "    def cleanQuery(self,query):\n",
    "        \"\"\"\n",
    "        this will end up becoming list of queries PO->oral, pill, etc...\n",
    "        \"\"\"\n",
    "        print \"query before clean punct:%s\" % query\n",
    "        cleanPunct = re.sub(\"-\",\" \",query.lower())\n",
    "        print \"clean punct:%s\" % cleanPunct\n",
    "        abbrev = re.sub(\"po\",\"oral\",cleanPunct)\n",
    "        print \"abbrev:%s\" % abbrev\n",
    "        return abbrev\n",
    "    \n",
    "    def test(self):\n",
    "        f = open(\"/Users/dc/TestCode/TestCoding/nomatch.csv\")\n",
    "        for readline in f:\n",
    "            print readline\n",
    "            self.processQuery(readline)\n",
    "            break\n",
    "        \n",
    "m = Match()\n",
    "m.test()\n"
   ]
  },
  {
   "cell_type": "code",
   "execution_count": null,
   "metadata": {
    "collapsed": true
   },
   "outputs": [],
   "source": []
  }
 ],
 "metadata": {
  "kernelspec": {
   "display_name": "Python 2",
   "language": "python",
   "name": "python2"
  },
  "language_info": {
   "codemirror_mode": {
    "name": "ipython",
    "version": 2
   },
   "file_extension": ".py",
   "mimetype": "text/x-python",
   "name": "python",
   "nbconvert_exporter": "python",
   "pygments_lexer": "ipython2",
   "version": "2.7.11"
  }
 },
 "nbformat": 4,
 "nbformat_minor": 0
}
