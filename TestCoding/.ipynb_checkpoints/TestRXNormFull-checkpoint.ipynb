{
 "cells": [
  {
   "cell_type": "code",
   "execution_count": null,
   "metadata": {
    "collapsed": true
   },
   "outputs": [],
   "source": [
    "Create dictionary of terms. Based on table rxnconso. Exists as dict.csv\n",
    "select STR,RXCUI from rxnconso;\n",
    "import into table lookup\n",
    "test lookup accuracy rates"
   ]
  },
  {
   "cell_type": "code",
   "execution_count": 8,
   "metadata": {
    "collapsed": false
   },
   "outputs": [
    {
     "name": "stdout",
     "output_type": "stream",
     "text": [
      "351648\n"
     ]
    }
   ],
   "source": [
    "#test reading rxterms into database, \n",
    "import sqlite3\n",
    "conn = sqlite3.connect('/Users/dc/TestCode/TestCoding/clinical.sqlite')\n",
    "c=conn.cursor()\n",
    "c.execute('select distinct(RXCUI) from rxnconso;')\n",
    "numRXN = c.fetchall()\n",
    "print len(numRXN)\n",
    "\n"
   ]
  },
  {
   "cell_type": "code",
   "execution_count": null,
   "metadata": {
    "collapsed": true
   },
   "outputs": [],
   "source": []
  }
 ],
 "metadata": {
  "celltoolbar": "Slideshow",
  "kernelspec": {
   "display_name": "Python 2",
   "language": "python",
   "name": "python2"
  },
  "language_info": {
   "codemirror_mode": {
    "name": "ipython",
    "version": 2
   },
   "file_extension": ".py",
   "mimetype": "text/x-python",
   "name": "python",
   "nbconvert_exporter": "python",
   "pygments_lexer": "ipython2",
   "version": "2.7.11"
  }
 },
 "nbformat": 4,
 "nbformat_minor": 0
}
