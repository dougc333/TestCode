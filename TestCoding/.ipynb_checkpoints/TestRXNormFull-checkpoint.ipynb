{
 "cells": [
  {
   "cell_type": "code",
   "execution_count": null,
   "metadata": {
    "collapsed": true
   },
   "outputs": [],
   "source": [
    "Create dictionary of terms. Based on table rxnconso"
   ]
  },
  {
   "cell_type": "code",
   "execution_count": 1,
   "metadata": {
    "collapsed": false
   },
   "outputs": [
    {
     "name": "stdout",
     "output_type": "stream",
     "text": [
      "351648\n"
     ]
    }
   ],
   "source": [
    "#test reading rxterms into database, \n",
    "import sqlite3\n",
    "conn = sqlite3.connect('/Users/dc/TestCode/TestCoding/clinical.sqlite')\n",
    "c=conn.cursor()\n",
    "c.execute('select distinct(RXCUI) from rxnconso;')\n",
    "numRXN = c.fetchall()\n",
    "print len(numRXN)\n",
    "\n"
   ]
  },
  {
   "cell_type": "code",
   "execution_count": null,
   "metadata": {
    "collapsed": false,
    "slideshow": {
     "slide_type": "notes"
    }
   },
   "outputs": [],
   "source": [
    "f=open(\"/Users/dc/TestCode/TestCoding/dict.csv\",\"w\")\n",
    "for rxn in numRXN:\n",
    "    c.execute(\"select DISTINCT(STR) from rxnconso where RXCUI='%s'\" % rxn[0])\n",
    "    synonymsList = c.fetchall()\n",
    "    f.write(rxn[0])\n",
    "    f.write(\"\\t\")\n",
    "    for syn in synonymsList:\n",
    "        f.write(syn[0])\n",
    "        f.write(\",\")\n",
    "    f.write(\"\\n\")\n",
    "    f.write(\"\\n\")\n",
    "f.close()\n",
    "    "
   ]
  },
  {
   "cell_type": "code",
   "execution_count": 6,
   "metadata": {
    "collapsed": false,
    "slideshow": {
     "slide_type": "-"
    }
   },
   "outputs": [
    {
     "ename": "OperationalError",
     "evalue": "no such table: rxconso",
     "output_type": "error",
     "traceback": [
      "\u001b[0;31m---------------------------------------------------------------------------\u001b[0m",
      "\u001b[0;31mOperationalError\u001b[0m                          Traceback (most recent call last)",
      "\u001b[0;32m<ipython-input-6-a1f9fef76617>\u001b[0m in \u001b[0;36m<module>\u001b[0;34m()\u001b[0m\n\u001b[0;32m----> 1\u001b[0;31m \u001b[0mc\u001b[0m\u001b[0;34m.\u001b[0m\u001b[0mexecute\u001b[0m\u001b[0;34m(\u001b[0m\u001b[0;34m\"select medication_name, medication_code from medications where medication_code not in(select DISTINCT(RXCUI) from rxconso);\"\u001b[0m\u001b[0;34m)\u001b[0m\u001b[0;34m\u001b[0m\u001b[0m\n\u001b[0m\u001b[1;32m      2\u001b[0m \u001b[0mnumNotMatch\u001b[0m\u001b[0;34m=\u001b[0m\u001b[0mc\u001b[0m\u001b[0;34m.\u001b[0m\u001b[0mfetchone\u001b[0m\u001b[0;34m(\u001b[0m\u001b[0;34m)\u001b[0m\u001b[0;34m\u001b[0m\u001b[0m\n\u001b[1;32m      3\u001b[0m \u001b[0;32mprint\u001b[0m \u001b[0mnumNotMatch\u001b[0m\u001b[0;34m\u001b[0m\u001b[0m\n",
      "\u001b[0;31mOperationalError\u001b[0m: no such table: rxconso"
     ]
    }
   ],
   "source": [
    "#dictionay created. create reverse index. This may not work given size of memory. \n",
    "#create database table with dict.csv and do looksups w/database of strings\n",
    "#create table( name text, rxcui text)\n"
   ]
  },
  {
   "cell_type": "code",
   "execution_count": null,
   "metadata": {
    "collapsed": true
   },
   "outputs": [],
   "source": []
  }
 ],
 "metadata": {
  "celltoolbar": "Slideshow",
  "kernelspec": {
   "display_name": "Python 2",
   "language": "python",
   "name": "python2"
  },
  "language_info": {
   "codemirror_mode": {
    "name": "ipython",
    "version": 2
   },
   "file_extension": ".py",
   "mimetype": "text/x-python",
   "name": "python",
   "nbconvert_exporter": "python",
   "pygments_lexer": "ipython2",
   "version": "2.7.11"
  }
 },
 "nbformat": 4,
 "nbformat_minor": 0
}
