{
 "cells": [
  {
   "cell_type": "code",
   "execution_count": 2,
   "metadata": {
    "collapsed": false
   },
   "outputs": [
    {
     "name": "stdout",
     "output_type": "stream",
     "text": [
      "(21457,)\n"
     ]
    }
   ],
   "source": [
    "#test reading rxterms into database, \n",
    "import sqlite3\n",
    "conn = sqlite3.connect('/Users/dc/Downloads/RxTerms201604/rxterms.db')\n",
    "c=conn.cursor()\n",
    "c.execute('select count(*) from rxterms;')\n",
    "numRows = c.fetchone()\n",
    "print numRows\n",
    "\n",
    "#test values in allergies\n",
    "connAllergies = sqlite3.connect('/Users/dc/Downloads/clinical.sqlite')\n",
    "cursorAllergies=connAllergies.cursor()\n",
    "cursorAllergies.execute('')\n"
   ]
  },
  {
   "cell_type": "code",
   "execution_count": null,
   "metadata": {
    "collapsed": true
   },
   "outputs": [],
   "source": []
  },
  {
   "cell_type": "code",
   "execution_count": null,
   "metadata": {
    "collapsed": true
   },
   "outputs": [],
   "source": []
  }
 ],
 "metadata": {
  "kernelspec": {
   "display_name": "Python 2",
   "language": "python",
   "name": "python2"
  },
  "language_info": {
   "codemirror_mode": {
    "name": "ipython",
    "version": 2
   },
   "file_extension": ".py",
   "mimetype": "text/x-python",
   "name": "python",
   "nbconvert_exporter": "python",
   "pygments_lexer": "ipython2",
   "version": "2.7.11"
  }
 },
 "nbformat": 4,
 "nbformat_minor": 0
}
