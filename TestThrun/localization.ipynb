{
 "cells": [
  {
   "cell_type": "markdown",
   "metadata": {},
   "source": [
    "</h4>Localization</h4>\n"
   ]
  },
  {
   "cell_type": "code",
   "execution_count": 47,
   "metadata": {
    "collapsed": false
   },
   "outputs": [
    {
     "name": "stdout",
     "output_type": "stream",
     "text": [
      "i: 0\n",
      "i-U-1 3  i-U: 4  i-U+1 0\n",
      "i+1 % len(p): 1\n",
      "i: 1\n",
      "i-U-1 4  i-U: 0  i-U+1 1\n",
      "i+1 % len(p): 2\n",
      "i: 2\n",
      "i-U-1 0  i-U: 1  i-U+1 2\n",
      "i+1 % len(p): 3\n",
      "setting undershoot/overshoot\n",
      "undershoot i-1: 1\n",
      "undershoot q[i-1]: 0.1\n",
      "setting overshoot:(i+1)%len(p) 3\n",
      "q[(i+1)%len(p)]: 0.1\n",
      "i: 3\n",
      "i-U-1 1  i-U: 2  i-U+1 3\n",
      "i+1 % len(p): 4\n",
      "setting undershoot/overshoot\n",
      "undershoot i-1: 2\n",
      "undershoot q[i-1]: 0.1\n",
      "setting overshoot:(i+1)%len(p) 4\n",
      "q[(i+1)%len(p)]: 0.1\n",
      "i: 4\n",
      "i-U-1 2  i-U: 3  i-U+1 4\n",
      "i+1 % len(p): 0\n",
      "[0.0, 0.1, 0.9, 0.9, 0.1]\n"
     ]
    }
   ],
   "source": [
    "p=[0, 1, 1, 0, 0]\n",
    "world=['green', 'red', 'red', 'green', 'green']\n",
    "measurements = ['red', 'green']\n",
    "pHit = 0.6\n",
    "pMiss = 0.2\n",
    "pExact = 0.8\n",
    "pOvershoot = 0.1\n",
    "pUndershoot = 0.1\n",
    "\n",
    "def sense(p, Z):\n",
    "    q=[]\n",
    "    for i in range(len(p)):\n",
    "        print 'i:',i\n",
    "        hit = (Z == world[i])\n",
    "        print '   p[i]:',p[i],\" hit:\",hit,\" pHit:\",pHit, \"1-hit\", 1-hit, \"pMiss:\", pMiss\n",
    "        print '   hit*pHit:', hit*pHit, '(1-hit)pMiss:', (1-hit)*pMiss\n",
    "        q.append(p[i] * (hit * pHit + (1-hit) * pMiss))\n",
    "    print 'before normalizattion q:', q \n",
    "    s = sum(q)\n",
    "    for i in range(len(q)):\n",
    "        q[i] = q[i] / s\n",
    "    print 'normalized q:', q\n",
    "    return q\n",
    "\n",
    "def move(p, U):\n",
    "    q = []\n",
    "    for i in range(len(p)):\n",
    "        q.append(0)\n",
    "    for i in range(len(p)):\n",
    "        #print \"i:\",i\n",
    "        #print 'i-U-1',(i-U-1)%len(p),' i-U:',(i-U)%len(p),' i-U+1', (i-U+1)%len(p)\n",
    "        #print 'i+1 % len(p):',(i+1)%len(p)\n",
    "        q[i]=q[i]+(p[(i-U)%len(p)]*pExact)\n",
    "        if(p[(i-U)%len(p)]==1):\n",
    "            #print 'setting undershoot/overshoot'\n",
    "            #print 'undershoot i-1:', i-1\n",
    "            q[i-1]= q[i-1] + pUndershoot\n",
    "            #print 'undershoot q[i-1]:', pUndershoot\n",
    "            #print 'setting overshoot:(i+1)%len(p)',(i+1)%len(p)\n",
    "            q[(i+1)%len(p)]= q[(i+1)%len(p)] + pOvershoot\n",
    "            #print 'q[(i+1)%len(p)]:',q[(i+1)%len(p)]\n",
    "            #print 'q:',q\n",
    "    return q\n",
    "    \n",
    "print move(p, 1)\n"
   ]
  },
  {
   "cell_type": "code",
   "execution_count": 45,
   "metadata": {
    "collapsed": false
   },
   "outputs": [
    {
     "name": "stdout",
     "output_type": "stream",
     "text": [
      "i: 0\n",
      "i-U-1 2  i-U: 3  i-U+1 4\n",
      "i+1 % len(p): 1\n",
      "i: 1\n",
      "i-U-1 3  i-U: 4  i-U+1 0\n",
      "i+1 % len(p): 2\n",
      "i: 2\n",
      "i-U-1 4  i-U: 0  i-U+1 1\n",
      "i+1 % len(p): 3\n",
      "i: 3\n",
      "i-U-1 0  i-U: 1  i-U+1 2\n",
      "i+1 % len(p): 4\n",
      "setting undershoot/overshoot\n",
      "undershoot i-1: 2\n",
      "undershoot q[i-1]: 0.1\n",
      "setting overshoot:(i+1)%len(p) 4\n",
      "q[(i+1)%len(p)]: 0.1\n",
      "q: [0.0, 0.0, 0.1, 0.8, 0.1]\n",
      "i: 4\n",
      "i-U-1 1  i-U: 2  i-U+1 3\n",
      "i+1 % len(p): 0\n",
      "[0.0, 0.0, 0.1, 0.8, 0.1]\n"
     ]
    }
   ],
   "source": [
    "print move(p, 2)\n"
   ]
  },
  {
   "cell_type": "code",
   "execution_count": 46,
   "metadata": {
    "collapsed": false
   },
   "outputs": [
    {
     "name": "stdout",
     "output_type": "stream",
     "text": [
      "i: 0\n",
      "i-U-1 1  i-U: 2  i-U+1 3\n",
      "i+1 % len(p): 1\n",
      "i: 1\n",
      "i-U-1 2  i-U: 3  i-U+1 4\n",
      "i+1 % len(p): 2\n",
      "i: 2\n",
      "i-U-1 3  i-U: 4  i-U+1 0\n",
      "i+1 % len(p): 3\n",
      "i: 3\n",
      "i-U-1 4  i-U: 0  i-U+1 1\n",
      "i+1 % len(p): 4\n",
      "i: 4\n",
      "i-U-1 0  i-U: 1  i-U+1 2\n",
      "i+1 % len(p): 0\n",
      "setting undershoot/overshoot\n",
      "undershoot i-1: 3\n",
      "undershoot q[i-1]: 0.1\n",
      "setting overshoot:(i+1)%len(p) 0\n",
      "q[(i+1)%len(p)]: 0.1\n",
      "q: [0.1, 0.0, 0.0, 0.1, 0.8]\n",
      "[0.1, 0.0, 0.0, 0.1, 0.8]\n"
     ]
    }
   ],
   "source": [
    "print move(p, 3)"
   ]
  },
  {
   "cell_type": "code",
   "execution_count": null,
   "metadata": {
    "collapsed": true
   },
   "outputs": [],
   "source": []
  }
 ],
 "metadata": {
  "anaconda-cloud": {},
  "kernelspec": {
   "display_name": "Python [Root]",
   "language": "python",
   "name": "Python [Root]"
  },
  "language_info": {
   "codemirror_mode": {
    "name": "ipython",
    "version": 2
   },
   "file_extension": ".py",
   "mimetype": "text/x-python",
   "name": "python",
   "nbconvert_exporter": "python",
   "pygments_lexer": "ipython2",
   "version": "2.7.12"
  }
 },
 "nbformat": 4,
 "nbformat_minor": 0
}
