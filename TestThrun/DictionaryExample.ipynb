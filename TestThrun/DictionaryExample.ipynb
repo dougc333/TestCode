{
 "cells": [
  {
   "cell_type": "code",
   "execution_count": 36,
   "metadata": {
    "collapsed": false
   },
   "outputs": [],
   "source": [
    "#print count_words(\"betty bought a bit of butter but the butter was bitter\",3)\n",
    "#Output:\n",
    "\n",
    "#[('butter', 2), ('a', 1), ('betty', 1)]\n",
    "\n",
    "import operator\n",
    "from operator import attrgetter\n",
    "from operator import itemgetter\n",
    "\n",
    "def count_words(s,n):\n",
    "    #build dictionary\n",
    "    words = s.split()\n",
    "    d = {}\n",
    "    for w in words:\n",
    "        #print \"processing:\", w\n",
    "        if w not in d:\n",
    "            d[w]=1\n",
    "        else:\n",
    "            d[w]=d[w]+1\n",
    "    #dictionary done, iterate through and get counts <n\n",
    "    print d\n",
    "    sortMe = []\n",
    "    for key in d:\n",
    "        if d[key] < n:\n",
    "            sortMe.append(key)\n",
    "    #print \"list of keys <n:\",sortMe\n",
    "    #sort by value of key first\n",
    "    tuples = sorted(d.items(), key=operator.itemgetter(1,0))\n",
    "    #print \"sorted: \",tuples\n",
    "    #find largest key\n",
    "    largestKey = tuples[len(tuples)-1][1]\n",
    "    listReverse = []\n",
    "    for x in range(largestKey,0,-1):\n",
    "        for t in tuples:\n",
    "            if t[1]==x:\n",
    "                listReverse.append(t)\n",
    "    final_ans = listReverse[:n]\n",
    "    print \"final_ans:\", final_ans\n",
    "    count_words('betty bought a bit of butter but the butter was bitter',3)"
   ]
  },
  {
   "cell_type": "code",
   "execution_count": null,
   "metadata": {
    "collapsed": true
   },
   "outputs": [],
   "source": []
  }
 ],
 "metadata": {
  "kernelspec": {
   "display_name": "Python [Root]",
   "language": "python",
   "name": "Python [Root]"
  },
  "language_info": {
   "codemirror_mode": {
    "name": "ipython",
    "version": 2
   },
   "file_extension": ".py",
   "mimetype": "text/x-python",
   "name": "python",
   "nbconvert_exporter": "python",
   "pygments_lexer": "ipython2",
   "version": "2.7.12"
  }
 },
 "nbformat": 4,
 "nbformat_minor": 0
}
