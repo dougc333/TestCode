{
 "cells": [
  {
   "cell_type": "code",
   "execution_count": 11,
   "metadata": {
    "collapsed": false
   },
   "outputs": [
    {
     "name": "stdout",
     "output_type": "stream",
     "text": [
      "[12.4, 1.6]\n"
     ]
    }
   ],
   "source": [
    "def update(mean1, var1, mean2, var2):\n",
    "    new_mean = (mean2*var1+mean1*var2)/(var1+var2)\n",
    "    new_var =1/(1.0/var1 + 1.0/var2)\n",
    "    return [new_mean, new_var]\n",
    "\n",
    "print update(10.,8.,13., 2.)\n",
    "\n"
   ]
  },
  {
   "cell_type": "code",
   "execution_count": 9,
   "metadata": {
    "collapsed": false
   },
   "outputs": [
    {
     "name": "stdout",
     "output_type": "stream",
     "text": [
      "update [4.998000799680128, 3.9984006397441023]\n",
      "predict: [5.998000799680128, 5.998400639744102]\n",
      "update [5.999200191953932, 2.399744061425258]\n",
      "predict: [6.999200191953932, 4.399744061425258]\n",
      "update [6.999619127420922, 2.0951800575117594]\n",
      "predict: [8.999619127420921, 4.09518005751176]\n",
      "update [8.999811802788143, 2.0235152416216957]\n",
      "predict: [9.999811802788143, 4.023515241621696]\n",
      "update [9.999906177177365, 2.0058615808441944]\n",
      "predict: [10.999906177177365, 4.005861580844194]\n",
      "[10.999906177177365, 4.005861580844194]\n"
     ]
    }
   ],
   "source": [
    "#test program for update/predict with uncertainity\n",
    "\n",
    "def update(mean1, var1, mean2, var2):\n",
    "    new_mean = float(var2 * mean1 + var1 * mean2) / (var1 + var2)\n",
    "    new_var = 1./(1./var1 + 1./var2)\n",
    "    return [new_mean, new_var]\n",
    "\n",
    "def predict(mean1, var1, mean2, var2):\n",
    "    new_mean = mean1 + mean2\n",
    "    new_var = var1 + var2\n",
    "    return [new_mean, new_var]\n",
    "\n",
    "measurements = [5., 6., 7., 9., 10.]\n",
    "motion = [1., 1., 2., 1., 1.]\n",
    "measurement_sig = 4.\n",
    "motion_sig = 2.\n",
    "mu = 0.\n",
    "sig = 10000.\n",
    "\n",
    "#Please print out ONLY the final values of the mean\n",
    "#and the variance in a list [mu, sig]. \n",
    "\n",
    "# Insert code here\n",
    "for x in range(len(measurements)):\n",
    "    mu,sig = update(measurements[x], measurement_sig,mu,sig)\n",
    "    #print \"update\",[mu,sig]\n",
    "    mu, sig = predict(motion[x], motion_sig,mu, sig )\n",
    "    #print \"predict:\", [mu,sig]\n",
    "print [mu, sig]"
   ]
  },
  {
   "cell_type": "code",
   "execution_count": null,
   "metadata": {
    "collapsed": true
   },
   "outputs": [],
   "source": []
  }
 ],
 "metadata": {
  "kernelspec": {
   "display_name": "Python 2",
   "language": "python",
   "name": "python2"
  },
  "language_info": {
   "codemirror_mode": {
    "name": "ipython",
    "version": 2
   },
   "file_extension": ".py",
   "mimetype": "text/x-python",
   "name": "python",
   "nbconvert_exporter": "python",
   "pygments_lexer": "ipython2",
   "version": "2.7.11"
  }
 },
 "nbformat": 4,
 "nbformat_minor": 1
}
