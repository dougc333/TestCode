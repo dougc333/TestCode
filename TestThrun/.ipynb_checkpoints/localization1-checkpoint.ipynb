{
 "cells": [
  {
   "cell_type": "code",
   "execution_count": null,
   "metadata": {
    "collapsed": true
   },
   "outputs": [],
   "source": [
    "<h4>Localization Motion<h4>\n",
    "We start with the simplest example where we assume a distribution of where robot is then write a functin move(p,U) \n",
    "which moves the robot to the right U spaces. This is an exact motion. There is no probability of undershoot or \n",
    "overshoot. if the robot moves over the end of the p vector, it cycles around to the beginning. "
   ]
  },
  {
   "cell_type": "code",
   "execution_count": 5,
   "metadata": {
    "collapsed": false
   },
   "outputs": [
    {
     "name": "stdout",
     "output_type": "stream",
     "text": [
      "[0, 0, 1, 0, 0]\n"
     ]
    }
   ],
   "source": [
    "#Program a function that returns a new distribution \n",
    "#q, shifted to the right by U units. If U=0, q should \n",
    "#be the same as p.\n",
    "\n",
    "p=[0, 1, 0, 0, 0]\n",
    "world=['green', 'red', 'red', 'green', 'green']\n",
    "measurements = ['red', 'green']\n",
    "pHit = 0.6\n",
    "pMiss = 0.2\n",
    "\n",
    "def sense(p, Z):\n",
    "    q=[]\n",
    "    for i in range(len(p)):\n",
    "        hit = (Z == world[i])\n",
    "        q.append(p[i] * (hit * pHit + (1-hit) * pMiss))\n",
    "    s = sum(q)\n",
    "    for i in range(len(q)):\n",
    "        q[i] = q[i] / s\n",
    "    return q\n",
    "\n",
    "def move(p, U):\n",
    "    #\n",
    "    q=p[-U:] + p[:-U]\n",
    "    return q\n",
    "\n",
    "print move(p, 1)\n"
   ]
  },
  {
   "cell_type": "code",
   "execution_count": null,
   "metadata": {
    "collapsed": true
   },
   "outputs": [],
   "source": [
    "<h4>Exact motion above</h4>\n",
    "The move(p,1) function shifts the probability distribution to the right.\n"
   ]
  },
  {
   "cell_type": "code",
   "execution_count": 4,
   "metadata": {
    "collapsed": false
   },
   "outputs": [
    {
     "ename": "SyntaxError",
     "evalue": "invalid syntax (<ipython-input-4-5ba21af4be4f>, line 1)",
     "output_type": "error",
     "traceback": [
      "\u001b[0;36m  File \u001b[0;32m\"<ipython-input-4-5ba21af4be4f>\"\u001b[0;36m, line \u001b[0;32m1\u001b[0m\n\u001b[0;31m    </h4>Localization Movement</h4>\u001b[0m\n\u001b[0m    ^\u001b[0m\n\u001b[0;31mSyntaxError\u001b[0m\u001b[0;31m:\u001b[0m invalid syntax\n"
     ]
    }
   ],
   "source": [
    "</h4>Probabilitic Movement</h4>\n",
    "This example introduces the probabilistic move function. We are given a vector p \n",
    "which is the probability distribution vector return a probability distribution with undershoot/overshoot.  \n",
    "\n",
    "The function move(p,1) uses vector p as the location vector\n",
    "and says move to the right 1 square. We introduce probability of undershoot and overshoot so\n",
    "there is P(.8) of moving 1 square to the right and pOvershoot/pUndershoot of landing in square after/before the \n",
    "next square. move(p,2) would move 2 squares to the right with p(.8) and pOvershoot/pUndershoot. Each move would change\n",
    "the probability distribution. "
   ]
  },
  {
   "cell_type": "code",
   "execution_count": null,
   "metadata": {
    "collapsed": true
   },
   "outputs": [],
   "source": [
    "<><>"
   ]
  },
  {
   "cell_type": "code",
   "execution_count": 1,
   "metadata": {
    "collapsed": false
   },
   "outputs": [
    {
     "name": "stdout",
     "output_type": "stream",
     "text": [
      "[0.0, 0.1, 0.9, 0.9, 0.1]\n"
     ]
    }
   ],
   "source": [
    "p=[0, 1, 1, 0, 0]\n",
    "world=['green', 'red', 'red', 'green', 'green']\n",
    "measurements = ['red', 'green']\n",
    "pHit = 0.6\n",
    "pMiss = 0.2\n",
    "pExact = 0.8\n",
    "pOvershoot = 0.1\n",
    "pUndershoot = 0.1\n",
    "\n",
    "def sense(p, Z):\n",
    "    q=[]\n",
    "    for i in range(len(p)):\n",
    "        print 'i:',i\n",
    "        hit = (Z == world[i])\n",
    "        print '   p[i]:',p[i],\" hit:\",hit,\" pHit:\",pHit, \"1-hit\", 1-hit, \"pMiss:\", pMiss\n",
    "        print '   hit*pHit:', hit*pHit, '(1-hit)pMiss:', (1-hit)*pMiss\n",
    "        q.append(p[i] * (hit * pHit + (1-hit) * pMiss))\n",
    "    print 'before normalizattion q:', q \n",
    "    s = sum(q)\n",
    "    for i in range(len(q)):\n",
    "        q[i] = q[i] / s\n",
    "    print 'normalized q:', q\n",
    "    return q\n",
    "\n",
    "def move(p, U):\n",
    "    q = []\n",
    "    for i in range(len(p)):\n",
    "        q.append(0)\n",
    "    for i in range(len(p)):\n",
    "        q[i]=q[i]+(p[(i-U)%len(p)]*pExact)\n",
    "        if(p[(i-U)%len(p)]==1):\n",
    "            q[i-1]= q[i-1] + pUndershoot\n",
    "            q[(i+1)%len(p)]= q[(i+1)%len(p)] + pOvershoot\n",
    "    return q\n",
    "    \n",
    "print move(p, 1)\n"
   ]
  },
  {
   "cell_type": "code",
   "execution_count": 2,
   "metadata": {
    "collapsed": false
   },
   "outputs": [
    {
     "name": "stdout",
     "output_type": "stream",
     "text": [
      "[0.1, 0.0, 0.1, 0.9, 0.9]\n"
     ]
    }
   ],
   "source": [
    "print move(p, 2)\n"
   ]
  },
  {
   "cell_type": "code",
   "execution_count": 3,
   "metadata": {
    "collapsed": false
   },
   "outputs": [
    {
     "name": "stdout",
     "output_type": "stream",
     "text": [
      "[0.9, 0.1, 0.0, 0.1, 0.9]\n"
     ]
    }
   ],
   "source": [
    "print move(p, 3)"
   ]
  },
  {
   "cell_type": "code",
   "execution_count": null,
   "metadata": {
    "collapsed": true
   },
   "outputs": [],
   "source": []
  }
 ],
 "metadata": {
  "anaconda-cloud": {},
  "kernelspec": {
   "display_name": "Python [Root]",
   "language": "python",
   "name": "Python [Root]"
  },
  "language_info": {
   "codemirror_mode": {
    "name": "ipython",
    "version": 2
   },
   "file_extension": ".py",
   "mimetype": "text/x-python",
   "name": "python",
   "nbconvert_exporter": "python",
   "pygments_lexer": "ipython2",
   "version": "2.7.12"
  }
 },
 "nbformat": 4,
 "nbformat_minor": 0
}
