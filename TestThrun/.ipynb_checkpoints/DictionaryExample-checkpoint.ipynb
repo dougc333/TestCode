{
 "cells": [
  {
   "cell_type": "code",
   "execution_count": 31,
   "metadata": {
    "collapsed": false
   },
   "outputs": [
    {
     "name": "stdout",
     "output_type": "stream",
     "text": [
      "processing: betty\n",
      "processing: bought\n",
      "processing: a\n",
      "processing: bit\n",
      "processing: of\n",
      "processing: butter\n",
      "processing: but\n",
      "processing: the\n",
      "processing: butter\n",
      "processing: was\n",
      "processing: bitter\n",
      "{'a': 1, 'butter': 2, 'bitter': 1, 'of': 1, 'but': 1, 'betty': 1, 'bit': 1, 'was': 1, 'the': 1, 'bought': 1}\n",
      "list of keys <n: ['a', 'butter', 'bitter', 'of', 'but', 'betty', 'bit', 'was', 'the', 'bought']\n",
      "sorted:  [('a', 1), ('betty', 1), ('bit', 1), ('bitter', 1), ('bought', 1), ('but', 1), ('of', 1), ('the', 1), ('was', 1), ('butter', 2)]\n",
      "largestKey: 2\n",
      "2\n",
      "1\n",
      "x 1 procssing tuple: ('a', 1)\n",
      "x 1 procssing tuple: ('betty', 1)\n",
      "x 1 procssing tuple: ('bit', 1)\n",
      "x 1 procssing tuple: ('bitter', 1)\n",
      "x 1 procssing tuple: ('bought', 1)\n",
      "x 1 procssing tuple: ('but', 1)\n",
      "x 1 procssing tuple: ('of', 1)\n",
      "x 1 procssing tuple: ('the', 1)\n",
      "x 1 procssing tuple: ('was', 1)\n",
      "listReverse: [('a', 1), ('betty', 1), ('bit', 1), ('bitter', 1), ('bought', 1), ('but', 1), ('of', 1), ('the', 1), ('was', 1)]\n"
     ]
    }
   ],
   "source": [
    "#print count_words(\"betty bought a bit of butter but the butter was bitter\",3)\n",
    "#Output:\n",
    "\n",
    "#[('butter', 2), ('a', 1), ('betty', 1)]\n",
    "\n",
    "import operator\n",
    "from operator import attrgetter\n",
    "from operator import itemgetter\n",
    "\n",
    "def count_words(s,n):\n",
    "    #build dictionary\n",
    "    words = s.split()\n",
    "    d = {}\n",
    "    for w in words:\n",
    "        print \"processing:\", w\n",
    "        if w not in d:\n",
    "            d[w]=1\n",
    "        else:\n",
    "            d[w]=d[w]+1\n",
    "    #dictionary done, iterate through and get counts <n\n",
    "    print d\n",
    "    sortMe = []\n",
    "    for key in d:\n",
    "        if d[key] < n:\n",
    "            sortMe.append(key)\n",
    "    print \"list of keys <n:\",sortMe\n",
    "    #sort by value of key first\n",
    "    tuples = sorted(d.items(), key=operator.itemgetter(1,0))\n",
    "    print \"sorted: \",tuples\n",
    "    #find largest key\n",
    "    largestKey = tuples.pop()[1]\n",
    "    print \"largestKey:\", largestKey\n",
    "    listReverse = []\n",
    "    for x in range(largestKey,0,-1):\n",
    "        print x\n",
    "        for t in tuples:\n",
    "            if t[1]==x:\n",
    "                print \"x\", x, \"procssing tuple:\", t\n",
    "                listReverse.append(t)\n",
    "    print \"listReverse:\", listReverse\n",
    "count_words('betty bought a bit of butter but the butter was bitter',3)"
   ]
  },
  {
   "cell_type": "code",
   "execution_count": null,
   "metadata": {
    "collapsed": true
   },
   "outputs": [],
   "source": []
  }
 ],
 "metadata": {
  "kernelspec": {
   "display_name": "Python [Root]",
   "language": "python",
   "name": "Python [Root]"
  },
  "language_info": {
   "codemirror_mode": {
    "name": "ipython",
    "version": 2
   },
   "file_extension": ".py",
   "mimetype": "text/x-python",
   "name": "python",
   "nbconvert_exporter": "python",
   "pygments_lexer": "ipython2",
   "version": "2.7.12"
  }
 },
 "nbformat": 4,
 "nbformat_minor": 0
}
