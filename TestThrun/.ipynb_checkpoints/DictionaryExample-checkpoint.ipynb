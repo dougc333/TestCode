{
 "cells": [
  {
   "cell_type": "code",
   "execution_count": null,
   "metadata": {
    "collapsed": true
   },
   "outputs": [],
   "source": [
    "#print count_words(\"betty bought a bit of butter but the butter was bitter\",3)\n",
    "#Output:\n",
    "\n",
    "#[('butter', 2), ('a', 1), ('betty', 1)]\n",
    "\n",
    "\n",
    "\n",
    "def count_words(s,n):\n",
    "    #build dictionary\n",
    "    words = s.split()\n",
    "    d = {}\n",
    "    for w in words:\n",
    "        if w not in w:\n",
    "            d[w]=1\n",
    "        else:\n",
    "            d[w,d[w]+1]\n",
    "    #dictionary done, iterate through and get counts <n\n",
    "    "
   ]
  }
 ],
 "metadata": {
  "kernelspec": {
   "display_name": "Python [Root]",
   "language": "python",
   "name": "Python [Root]"
  },
  "language_info": {
   "codemirror_mode": {
    "name": "ipython",
    "version": 2
   },
   "file_extension": ".py",
   "mimetype": "text/x-python",
   "name": "python",
   "nbconvert_exporter": "python",
   "pygments_lexer": "ipython2",
   "version": "2.7.12"
  }
 },
 "nbformat": 4,
 "nbformat_minor": 0
}
