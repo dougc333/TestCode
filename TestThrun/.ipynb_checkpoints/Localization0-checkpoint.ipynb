{
 "cells": [
  {
   "cell_type": "markdown",
   "metadata": {},
   "source": [
    "<h4>Localization Goal</h4>\n",
    "\n",
    "This is a 4 step process\n",
    "\n",
    "1) assume a robot and a world with 3 doors. Assume a uniform probability distribution, the robot can be anywhere\n",
    "in this world. \n",
    "\n",
    "2) calculate the posterior distribution. It looks with a sensor and can sense where a door is. The robot knows when \n",
    "it is next to a door. Given this sensing, this transforms the uniform probability distribution to the posterior dist. \n",
    "For the 3 locations near doors there is an increased belief if the robot is near the door. This is a graph of \n",
    "prob from sensor vs. position. The sensors could be errorneous so there is a small probability where there is no door. \n",
    "\n",
    "3) calcuate the prior. After moving some distance to the right, the probablity distribution \n",
    "shifts to the right. We shift the probability to the right after movement using convolution. The peak values of the \n",
    "probability in this graph is less than the posterior graph above. \n",
    "\n",
    "4) if we sense again prior to the second measurement. Assuming we are next to a door and it sees a green square in the \n",
    "sensor. We get a single bump which indicates we are near door 2 with the highest probability. At this point the robot\n",
    "has localized itself \n",
    "\n",
    "<img src=\"localgoal.png\" height=\"200\" width=\"400\">\n"
   ]
  },
  {
   "cell_type": "code",
   "execution_count": null,
   "metadata": {
    "collapsed": true
   },
   "outputs": [],
   "source": [
    "<h4>Sensing</h4>\n",
    "We now develop how to calculate the posterior distribution via a sense function in python. \n",
    "\n",
    "We introduce a world of 5 spaces for the robot which are colored red/green. \n",
    "\n",
    "<img src=\"sense1.png\" height=\"200\" width=\"400\">\n",
    "\n",
    "We assume a uniform probability distribution first of where each cell has uniform probability of p(.2). \n",
    "This is the maximum confusion state. Assume the map has 2 red cells and 3 green cells. \n",
    "Assuming the robot sees red and is trying to figure out where it is on the map, how does this sensor affect the\n",
    "probability distribution? \n",
    "If it sees red, multiply the p(square) by .6 if not by .2. We are calculating the posterior distribution with \n",
    "this operation. \n",
    "\n",
    ".6*.2 = .12\n",
    ".2*.2 = .04\n",
    "\n",
    "Note the sum of these are not 1; (.04) + (.12) + (.12) + (.04)+ (.04) = .36. \n",
    "To normalize so the sum of probabilities sum to 1; \n",
    "divide each entry by the sum: 3(.04/.36) + 2*(.12/.36) = 1.0\n",
    "\n",
    "Define a function sense which outputs the normalized probability distribution given \n",
    "pHit, pMiss which is the .6/.2 ratio above and\n",
    "Z='red' which is what the robot is looking for \n",
    "and world=['Green','Red','Red','Green','Green']. If the robot sees red as the output of the sensor calculate the \n",
    "normalized probability distribution: "
   ]
  },
  {
   "cell_type": "code",
   "execution_count": 4,
   "metadata": {
    "collapsed": false
   },
   "outputs": [
    {
     "name": "stdout",
     "output_type": "stream",
     "text": [
      "[0.1111111111111111, 0.3333333333333332, 0.3333333333333332, 0.1111111111111111, 0.1111111111111111]\n"
     ]
    }
   ],
   "source": [
    "#Modify your code so that it normalizes the output for \n",
    "#the function sense. This means that the entries in q \n",
    "#should sum to one.\n",
    "\n",
    "p=[0.2, 0.2, 0.2, 0.2, 0.2]\n",
    "world=['green', 'red', 'red', 'green', 'green']\n",
    "Z = 'red'\n",
    "pHit = 0.6\n",
    "pMiss = 0.2\n",
    "\n",
    "def sense(p, Z):\n",
    "    q=[]\n",
    "    for i in range(len(p)):\n",
    "        hit = (Z == world[i])\n",
    "        q.append(p[i] * (hit * pHit + (1-hit) * pMiss))\n",
    "    q=[ x/sum(q) for x in q]\n",
    "    return q\n",
    "print sense(p,Z)"
   ]
  },
  {
   "cell_type": "code",
   "execution_count": null,
   "metadata": {
    "collapsed": true
   },
   "outputs": [],
   "source": [
    "<h4>Robot posterior distribution after single measurement of red or green</h4>\n",
    "Run the above function with Z='red' or Z='green'\n",
    "\n",
    "<img src=\"sense2.png\" height=200, width=\"400\">\n",
    "\n",
    "note the picture looks like .111 where the squares are green and .333 where the squares are red. \n",
    "Modify the code to take a list or measurements and compute the probability distribution after a sequence \n",
    "of measurements. "
   ]
  },
  {
   "cell_type": "code",
   "execution_count": 5,
   "metadata": {
    "collapsed": false
   },
   "outputs": [
    {
     "name": "stdout",
     "output_type": "stream",
     "text": [
      "[0.20000000000000004, 0.19999999999999996, 0.19999999999999996, 0.20000000000000004, 0.20000000000000004]\n"
     ]
    }
   ],
   "source": [
    "#Modify the code so that it updates the probability twice\n",
    "#and gives the posterior distribution after both \n",
    "#measurements are incorporated. Make sure that your code \n",
    "#allows for any sequence of measurement of any length.\n",
    "\n",
    "p=[0.2, 0.2, 0.2, 0.2, 0.2]\n",
    "world=['green', 'red', 'red', 'green', 'green']\n",
    "measurements = ['red', 'green']\n",
    "pHit = 0.6\n",
    "pMiss = 0.2\n",
    "\n",
    "def sense(p, Z):\n",
    "    q=[]\n",
    "    for i in range(len(p)):\n",
    "        hit = (Z == world[i])\n",
    "        q.append(p[i] * (hit * pHit + (1-hit) * pMiss))\n",
    "    s = sum(q)\n",
    "    for i in range(len(q)):\n",
    "        q[i] = q[i] / s\n",
    "    return q\n",
    "#\n",
    "#ADD YOUR CODE HERE\n",
    "#\n",
    "for x in measurements:\n",
    "    p = sense(p,x)\n",
    "print p"
   ]
  },
  {
   "cell_type": "code",
   "execution_count": null,
   "metadata": {
    "collapsed": true
   },
   "outputs": [],
   "source": [
    "<h4>note on probability distribution after series of measurements<h4>\n",
    "The probability becomes uniform. We have not shifted the probabbility distribution to the \n",
    "right after movement. "
   ]
  }
 ],
 "metadata": {
  "kernelspec": {
   "display_name": "Python [Root]",
   "language": "python",
   "name": "Python [Root]"
  },
  "language_info": {
   "codemirror_mode": {
    "name": "ipython",
    "version": 2
   },
   "file_extension": ".py",
   "mimetype": "text/x-python",
   "name": "python",
   "nbconvert_exporter": "python",
   "pygments_lexer": "ipython2",
   "version": "2.7.12"
  }
 },
 "nbformat": 4,
 "nbformat_minor": 0
}
