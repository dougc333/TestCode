{
 "cells": [
  {
   "cell_type": "code",
   "execution_count": 35,
   "metadata": {
    "collapsed": false
   },
   "outputs": [
    {
     "name": "stderr",
     "output_type": "stream",
     "text": [
      "/Users/dc/venv/lib/python2.7/site-packages/matplotlib/font_manager.py:273: UserWarning: Matplotlib is building the font cache using fc-list. This may take a moment.\n",
      "  warnings.warn('Matplotlib is building the font cache using fc-list. This may take a moment.')\n"
     ]
    }
   ],
   "source": [
    "import cv2\n",
    "import numpy as np\n",
    "import matplotlib.pyplot as plt\n",
    "from scipy import signal\n",
    "from scipy import misc"
   ]
  },
  {
   "cell_type": "code",
   "execution_count": 43,
   "metadata": {
    "collapsed": false
   },
   "outputs": [
    {
     "name": "stdout",
     "output_type": "stream",
     "text": [
      "[[ 0  0  1  0  0]\n",
      " [ 0  0 -2  0  0]\n",
      " [ 0  0  2  0  0]\n",
      " [ 0  0 -2  0  0]\n",
      " [ 0  0  1  0  0]]\n",
      "\n"
     ]
    },
    {
     "data": {
      "image/png": "[encoded data removed]",
      "text/plain": [
       "<matplotlib.figure.Figure at 0x10cdd4c50>"
      ]
     },
     "metadata": {},
     "output_type": "display_data"
    },
    {
     "name": "stdout",
     "output_type": "stream",
     "text": [
      "\n",
      "[[ 0  0  0  0  0]\n",
      " [ 0  1 -2  1  0]\n",
      " [ 0  0  0  0  0]\n",
      " [ 0  1 -2  1  0]\n",
      " [ 0  0  0  0  0]]\n",
      "\n",
      "[[0 0 0 1 0]\n",
      " [0 0 2 0 0]\n",
      " [0 1 0 1 0]\n",
      " [0 0 2 0 0]\n",
      " [0 1 0 0 0]]\n",
      "\n",
      "[[ 0  1  0  0  0]\n",
      " [ 0  0 -2  0  0]\n",
      " [ 0  1  0  1  0]\n",
      " [ 0  0 -2  0  0]\n",
      " [ 0  0  0  1  0]]\n"
     ]
    }
   ],
   "source": [
    "#detect 1 pixel vertical gap\n",
    "vert_line = np.array([[0,1,0],[0,0,0],[0,1,0]])\n",
    "vert_line_5 = np.array([[0,0,1,0,0],[0,0,1,0,0],[0,0,0,0,0],[0,0,1,0,0],[0,0,1,0,0]])\n",
    "\n",
    "op1 = np.array([[0,1,0],\n",
    "                [0,-2,0],\n",
    "                [0,1,0]])\n",
    "op2 = np.array([[0,0,0],\n",
    "                [1,-2,1],\n",
    "                [0,0,0]])\n",
    "op3 = np.array([[0,0,1],\n",
    "                [0,2,0],\n",
    "                [1,0,0]])\n",
    "op4 = np.array([[1,0,0],\n",
    "                [0,-2,0],\n",
    "                [0,0,1]])\n",
    "\n",
    "\n",
    "#res_op1 = np.convolve(vert_line_5,op1)\n",
    "y1 = signal.convolve2d(vert_line,op1)\n",
    "print y1\n",
    "print\n",
    "plt.plot(y1[:,2])\n",
    "plt.ylabel('column 2')\n",
    "plt.show()\n",
    "print\n",
    "print signal.convolve2d(vert_line,op2)\n",
    "print\n",
    "print signal.convolve2d(vert_line,op3)\n",
    "print\n",
    "print signal.convolve2d(vert_line,op4)\n",
    "\n",
    "\n"
   ]
  },
  {
   "cell_type": "code",
   "execution_count": null,
   "metadata": {
    "collapsed": true
   },
   "outputs": [],
   "source": []
  }
 ],
 "metadata": {
  "kernelspec": {
   "display_name": "Python 2",
   "language": "python",
   "name": "python2"
  },
  "language_info": {
   "codemirror_mode": {
    "name": "ipython",
    "version": 2
   },
   "file_extension": ".py",
   "mimetype": "text/x-python",
   "name": "python",
   "nbconvert_exporter": "python",
   "pygments_lexer": "ipython2",
   "version": "2.7.11"
  }
 },
 "nbformat": 4,
 "nbformat_minor": 0
}
