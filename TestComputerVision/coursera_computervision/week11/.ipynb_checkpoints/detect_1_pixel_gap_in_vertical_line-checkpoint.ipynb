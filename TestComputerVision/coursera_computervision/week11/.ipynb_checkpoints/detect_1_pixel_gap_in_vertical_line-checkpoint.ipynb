{
 "cells": [
  {
   "cell_type": "code",
   "execution_count": 9,
   "metadata": {
    "collapsed": true
   },
   "outputs": [],
   "source": [
    "import cv2\n",
    "import numpy as np\n",
    "import matplotlib as plt\n",
    "from scipy import signal\n",
    "from scipy import misc"
   ]
  },
  {
   "cell_type": "code",
   "execution_count": 17,
   "metadata": {
    "collapsed": false
   },
   "outputs": [
    {
     "ename": "NameError",
     "evalue": "name 'op5' is not defined",
     "output_type": "error",
     "traceback": [
      "\u001b[0;31m---------------------------------------------------------------------------\u001b[0m",
      "\u001b[0;31mNameError\u001b[0m                                 Traceback (most recent call last)",
      "\u001b[0;32m<ipython-input-17-f442d96065b5>\u001b[0m in \u001b[0;36m<module>\u001b[0;34m()\u001b[0m\n\u001b[1;32m     22\u001b[0m \u001b[0msignal\u001b[0m\u001b[0;34m.\u001b[0m\u001b[0mconvolve2d\u001b[0m\u001b[0;34m(\u001b[0m\u001b[0mvert_line\u001b[0m\u001b[0;34m,\u001b[0m\u001b[0mop3\u001b[0m\u001b[0;34m)\u001b[0m\u001b[0;34m\u001b[0m\u001b[0m\n\u001b[1;32m     23\u001b[0m \u001b[0msignal\u001b[0m\u001b[0;34m.\u001b[0m\u001b[0mconvolve2d\u001b[0m\u001b[0;34m(\u001b[0m\u001b[0mvert_line\u001b[0m\u001b[0;34m,\u001b[0m\u001b[0mop4\u001b[0m\u001b[0;34m)\u001b[0m\u001b[0;34m\u001b[0m\u001b[0m\n\u001b[0;32m---> 24\u001b[0;31m \u001b[0msignal\u001b[0m\u001b[0;34m.\u001b[0m\u001b[0mconvolve2d\u001b[0m\u001b[0;34m(\u001b[0m\u001b[0mvert_line\u001b[0m\u001b[0;34m,\u001b[0m\u001b[0mop5\u001b[0m\u001b[0;34m)\u001b[0m\u001b[0;34m\u001b[0m\u001b[0m\n\u001b[0m\u001b[1;32m     25\u001b[0m \u001b[0;34m\u001b[0m\u001b[0m\n",
      "\u001b[0;31mNameError\u001b[0m: name 'op5' is not defined"
     ]
    }
   ],
   "source": [
    "#detect 1 pixel vertical gap\n",
    "vert_line = np.array([[0,1,0],[0,0,0],[0,1,0]])\n",
    "vert_line_5 = np.array([[0,0,1,0,0],[0,0,1,0,0],[0,0,0,0,0],[0,0,1,0,0],[0,0,1,0,0]])\n",
    "\n",
    "op1 = np.array([[0,1,0],\n",
    "                [0,-2,0],\n",
    "                [0,1,0]])\n",
    "op2 = np.array([[0,0,0],\n",
    "                [1,-2,1],\n",
    "                [0,0,0]])\n",
    "op3 = np.array([[0,0,1],\n",
    "                [0,2,0],\n",
    "                [1,0,0]])\n",
    "op4 = np.array([[1,0,0],\n",
    "                [0,-2,0],\n",
    "                [0,0,1]])\n",
    "\n",
    "\n",
    "#res_op1 = np.convolve(vert_line_5,op1)\n",
    "signal.convolve2d(vert_line,op1)\n",
    "signal.convolve2d(vert_line,op2)\n",
    "signal.convolve2d(vert_line,op3)\n",
    "signal.convolve2d(vert_line,op4)\n",
    "\n",
    "\n"
   ]
  },
  {
   "cell_type": "code",
   "execution_count": null,
   "metadata": {
    "collapsed": true
   },
   "outputs": [],
   "source": []
  }
 ],
 "metadata": {
  "kernelspec": {
   "display_name": "Python 2",
   "language": "python",
   "name": "python2"
  },
  "language_info": {
   "codemirror_mode": {
    "name": "ipython",
    "version": 2
   },
   "file_extension": ".py",
   "mimetype": "text/x-python",
   "name": "python",
   "nbconvert_exporter": "python",
   "pygments_lexer": "ipython2",
   "version": "2.7.11"
  }
 },
 "nbformat": 4,
 "nbformat_minor": 0
}
