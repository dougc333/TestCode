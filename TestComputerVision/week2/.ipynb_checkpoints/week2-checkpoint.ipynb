{
 "cells": [
  {
   "cell_type": "code",
   "execution_count": null,
   "metadata": {
    "collapsed": true
   },
   "outputs": [],
   "source": [
    "#notes: pick markdown cell type\n",
    "#to insert image use <img src='test.png'> and click the run cell then the image is loaded"
   ]
  },
  {
   "cell_type": "markdown",
   "metadata": {},
   "source": [
    "<img src='w2_1.png'>"
   ]
  },
  {
   "cell_type": "markdown",
   "metadata": {},
   "source": [
    "ANS: LPF"
   ]
  },
  {
   "cell_type": "markdown",
   "metadata": {},
   "source": [
    "<img src=\"w2_2.png\">"
   ]
  },
  {
   "cell_type": "markdown",
   "metadata": {},
   "source": [
    "[-1 -1 -1; -1 9 -1; -1 -1 -1] is the HPF"
   ]
  },
  {
   "cell_type": "markdown",
   "metadata": {},
   "source": [
    "<img src='w2_3.png'>"
   ]
  },
  {
   "cell_type": "code",
   "execution_count": 13,
   "metadata": {
    "collapsed": false
   },
   "outputs": [
    {
     "name": "stdout",
     "output_type": "stream",
     "text": [
      "[[ 1  3  5  3]\n",
      " [ 1  7 14  8]\n",
      " [ 0  4 15 11]\n",
      " [ 0  0  6  6]]\n"
     ]
    }
   ],
   "source": [
    "import numpy as np\n",
    "from scipy import signal\n",
    "from scipy import misc\n",
    "\n",
    "x=np.matrix([[1, 2, 3 ], [0, 4, 5], [0, 0, 6]])\n",
    "y=np.matrix([[1, 1], [1, 1]])\n",
    "\n",
    "z=signal.convolve2d(x,y)\n",
    "print z"
   ]
  },
  {
   "cell_type": "markdown",
   "metadata": {},
   "source": [
    "<img src='w2_4.png'>"
   ]
  },
  {
   "cell_type": "markdown",
   "metadata": {
    "collapsed": true
   },
   "source": [
    "True"
   ]
  },
  {
   "cell_type": "markdown",
   "metadata": {},
   "source": [
    "<img src='w2_5.png'>"
   ]
  },
  {
   "cell_type": "markdown",
   "metadata": {},
   "source": [
    "The first one is true; assuming the input follows superposition and scaling\n",
    "Second one is false\n",
    "Third is false b/c y=x**h and if x is 0 then y is 0 regardless of h\n",
    "Fourth is false b/c y=x**h. If y(n1,n2)=0 then h(s)=0 or null function then y is always 0 regardless of x. "
   ]
  },
  {
   "cell_type": "markdown",
   "metadata": {},
   "source": [
    "<img src='w2_6.png'>"
   ]
  },
  {
   "cell_type": "code",
   "execution_count": 19,
   "metadata": {
    "collapsed": false
   },
   "outputs": [
    {
     "name": "stdout",
     "output_type": "stream",
     "text": [
      "[[ 1  3  5  3]\n",
      " [ 5 12 16  9]\n",
      " [11 24 28 15]\n",
      " [ 7 15 17  9]]\n"
     ]
    }
   ],
   "source": [
    "#This is tricky, use a test case. \n",
    "x=np.matrix([[1,2,3],[4,5,6],[7,8,9]])\n",
    "y=np.matrix([[1,1],[1,1]])\n",
    "\n",
    "#x size =3x3; y size=[2x2] P1-1=3, P2-1=2, P1=4, P2=3\n",
    "\n",
    "#The convolution of x**y: \n",
    "z=signal.convolve2d(x,y)\n",
    "print z\n",
    "\n",
    "#the Z size is 4x4 so the areas outside this are 0\n",
    "#the minimum is x dimension is 5 and y dimension is 5\n",
    "#P1=4, P2=3, P1+P2-2=7-2=5 so answer is last choice above \n"
   ]
  },
  {
   "cell_type": "markdown",
   "metadata": {},
   "source": [
    "<img src='w2_7.png'>"
   ]
  },
  {
   "cell_type": "code",
   "execution_count": 11,
   "metadata": {
    "collapsed": false
   },
   "outputs": [
    {
     "name": "stdout",
     "output_type": "stream",
     "text": [
      "(359, 479)\n",
      "120.000000\n",
      "[[ 0.11111111  0.11111111  0.11111111]\n",
      " [ 0.11111111  0.11111111  0.11111111]\n",
      " [ 0.11111111  0.11111111  0.11111111]]\n",
      "53.8888888889\n",
      "(359, 479)\n",
      "66.1111111111\n",
      "(359, 479)\n",
      "28.1492628127\n"
     ]
    }
   ],
   "source": [
    "from matplotlib import pyplot as plt\n",
    "import numpy as np\n",
    "import scipy.misc\n",
    "from scipy import signal\n",
    "\n",
    "f = scipy.misc.imread('/Users/dc/TestCode/TestMatlab/computervision/updownsample.jpg')\n",
    "print np.shape(f)\n",
    "#plt.imshow(f)\n",
    "#displays in another window\n",
    "#plt.show()\n",
    "\n",
    "img = f.astype(np.double)\n",
    "print \"%f\" % f[0,0]\n",
    "\n",
    "lpf=np.matrix([[1/9.,1/9.,1/9.],[1/9.,1/9.,1/9.],[1/9.,1/9.,1/9.]])\n",
    "print lpf\n",
    "z=signal.convolve2d(f,lpf,mode='same')\n",
    "print z[0,0]\n",
    "\n",
    "n=np.shape(z)\n",
    "print  n\n",
    "#the instructions may be incorrect, 255 is for gray scale but we converted to double\n",
    "diff = np.subtract(f,z)\n",
    "print diff[0,0]\n",
    "diff_squared = np.square(diff)\n",
    "print np.shape(diff_squared)\n",
    "\n",
    "MSE = (np.sum(diff_squared))*1/(n[0]*n[1])\n",
    "print 10*np.log10(255/MSE)\n",
    "\n"
   ]
  },
  {
   "cell_type": "markdown",
   "metadata": {
    "collapsed": true
   },
   "source": [
    "<img src='w2_8.png'>"
   ]
  },
  {
   "cell_type": "code",
   "execution_count": 28,
   "metadata": {
    "collapsed": false
   },
   "outputs": [
    {
     "name": "stdout",
     "output_type": "stream",
     "text": [
      "137.0\n",
      "f_shape:256 256\n",
      "lpf_shape:5 5\n",
      "1.77777777778\n",
      "[[  3.16049383e+00   1.96544444e+03   8.66967901e+03 ...,   3.01279012e+03\n",
      "    4.41000000e+02   2.18382716e+02]\n",
      " [  1.81097531e+03   1.06319012e+04   2.78148272e+04 ...,   8.30123457e+03\n",
      "    2.14677778e+03   9.40444444e+02]\n",
      " [  7.24390123e+03   2.69324568e+04   5.69087531e+04 ...,   1.55140864e+04\n",
      "    6.74223457e+03   4.25393827e+03]\n",
      " ..., \n",
      " [  2.81493827e+02   1.00277778e+03   2.42282716e+03 ...,   7.47264198e+03\n",
      "    3.01279012e+03   1.18641975e+03]\n",
      " [  2.21679012e+02   4.79123457e+02   1.27211111e+03 ...,   3.26167901e+03\n",
      "    1.05986420e+03   2.52456790e+02]\n",
      " [  1.51234568e+01   2.39012346e+01   4.22530864e+02 ...,   6.81790123e+02\n",
      "    1.99123457e+02   5.21604938e+01]]\n",
      "(256, 256)\n",
      "MSE:37286.302770\n",
      "2.41531039088\n"
     ]
    }
   ],
   "source": [
    "from matplotlib import pyplot as plt\n",
    "import numpy as np\n",
    "import scipy.misc\n",
    "from scipy import signal\n",
    "\n",
    "f = scipy.misc.imread('/Users/dc/TestCode/TestMatlab/computervision/lena.gif').astype(np.double)\n",
    "plt.imshow(f)\n",
    "plt.show()\n",
    "print f[0,0]\n",
    "\n",
    "lpf=np.matrix([[1/9.,1/9.,1/9.,1/9.,1/9.],[1/9.,1/9.,1/9.,1/9.,1/9.],\n",
    "               [1/9.,1/9.,1/9.,1/9.,1/9.],[1/9.,1/9.,1/9.,1/9.,1/9.],\n",
    "               [1/9.,1/9.,1/9.,1/9.,1/9.]])\n",
    "\n",
    "f_shape=np.shape(f)\n",
    "lpf_shape = np.shape(lpf)\n",
    "print 'f_shape:%d %d' % f_shape\n",
    "print 'lpf_shape:%d %d' % lpf_shape\n",
    "z=signal.convolve2d(f,lpf,mode='same')\n",
    "diff = np.subtract(f,z)\n",
    "print diff[0,0]\n",
    "diff_squared = np.square(diff)\n",
    "print diff_squared\n",
    "print np.shape(diff_squared)\n",
    "\n",
    "MSE = (np.sum(diff_squared))*1/(f_shape[0]*f_shape[1])\n",
    "print 'MSE:%f' % MSE\n",
    "print 10*np.log10(255.0*255.0/MSE)"
   ]
  },
  {
   "cell_type": "code",
   "execution_count": null,
   "metadata": {
    "collapsed": true
   },
   "outputs": [],
   "source": []
  }
 ],
 "metadata": {
  "kernelspec": {
   "display_name": "Python 2",
   "language": "python",
   "name": "python2"
  },
  "language_info": {
   "codemirror_mode": {
    "name": "ipython",
    "version": 2
   },
   "file_extension": ".py",
   "mimetype": "text/x-python",
   "name": "python",
   "nbconvert_exporter": "python",
   "pygments_lexer": "ipython2",
   "version": "2.7.11"
  }
 },
 "nbformat": 4,
 "nbformat_minor": 0
}
