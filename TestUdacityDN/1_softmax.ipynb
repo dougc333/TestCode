{
 "cells": [
  {
   "cell_type": "code",
   "execution_count": 55,
   "metadata": {
    "collapsed": false
   },
   "outputs": [
    {
     "name": "stdout",
     "output_type": "stream",
     "text": [
      "[ 0.8360188   0.11314284  0.05083836]\n"
     ]
    }
   ],
   "source": [
    "#1 softmax\n",
    "\n",
    "\n",
    "scores = [3.0, 1.0, 0.2]\n",
    "\n",
    "import numpy as np\n",
    "\n",
    "#input list or 1d array\n",
    "#output softmax as list or 1d array\n",
    "def softmax_one(x):\n",
    "    \"\"\"Compute softmax values for each sets of scores in x.\"\"\"\n",
    "    returnMe = np.array([],np.double)\n",
    "    sum = np.sum([np.exp(val) for val in x])\n",
    "    #print 'sum:', sum\n",
    "    result = [np.exp(val)/sum for val in x]\n",
    "    return np.array(result)\n",
    "\n",
    "print(softmax_one(scores))\n",
    "\n",
    "# Plot softmax curves\n",
    "import matplotlib.pyplot as plt\n",
    "x = np.arange(-2.0, 6.0, 0.1)\n",
    "scores = np.vstack([x, np.ones_like(x), 0.2 * np.ones_like(x)])\n",
    "\n",
    "plt.plot(x, softmax_one(scores).T, linewidth=2)\n",
    "plt.show()\n"
   ]
  },
  {
   "cell_type": "code",
   "execution_count": 58,
   "metadata": {
    "collapsed": false
   },
   "outputs": [
    {
     "name": "stdout",
     "output_type": "stream",
     "text": [
      "numColumns: 4\n",
      "colIndex: 0 col: [1 2 3]\n",
      "softmax: [ 0.09003057  0.24472847  0.66524096]\n",
      "colIndex: 1 col: [2 4 8]\n",
      "softmax: [ 0.00242826  0.01794253  0.97962921]\n",
      "colIndex: 2 col: [3 5 7]\n",
      "softmax: [ 0.01587624  0.11731043  0.86681333]\n",
      "colIndex: 3 col: [6 6 6]\n",
      "softmax: [ 0.33333333  0.33333333  0.33333333]\n",
      "arrs: [array([ 0.09003057,  0.24472847,  0.66524096]), array([ 0.00242826,  0.01794253,  0.97962921]), array([ 0.01587624,  0.11731043,  0.86681333]), array([ 0.33333333,  0.33333333,  0.33333333])]\n",
      "result: [ 0.09003057  0.24472847  0.66524096]\n",
      "processing x: 1 arr[x] [ 0.00242826  0.01794253  0.97962921]\n",
      "processing x: 2 arr[x] [ 0.01587624  0.11731043  0.86681333]\n",
      "processing x: 3 arr[x] [ 0.33333333  0.33333333  0.33333333]\n",
      "result: [[ 0.09003057  0.00242826  0.01587624  0.33333333]\n",
      " [ 0.24472847  0.01794253  0.11731043  0.33333333]\n",
      " [ 0.66524096  0.97962921  0.86681333  0.33333333]]\n"
     ]
    }
   ],
   "source": [
    "import numpy as np\n",
    "#the case above fails for a 2d array\n",
    "scores = np.array([[1, 2, 3, 6],\n",
    "                   [2, 4, 5, 6],\n",
    "                   [3, 8, 7, 6]])\n",
    "\n",
    "#scores = [3.0, 1.0, 0.2]\n",
    "\n",
    "def softmax(scores):\n",
    "    z=np.array(scores)\n",
    "    if z.ndim==1:\n",
    "        return softmax_one(scores)\n",
    "    \n",
    "    s = scores.shape\n",
    "\n",
    "    print \"numColumns:\", s[1]\n",
    "    if s[1] ==0:\n",
    "        return softmax_one(scores)\n",
    "\n",
    "    arrs = []\n",
    "    for colIndex in range(0,s[1]):\n",
    "        temp = scores[:,colIndex]\n",
    "        print \"colIndex:\",colIndex, \"col:\",scores[:,colIndex]\n",
    "        print \"softmax:\",softmax_one(temp)\n",
    "        arrs.append(softmax_one(temp))\n",
    "    print \"arrs:\", arrs\n",
    "\n",
    "    result=(arrs[0])\n",
    "    print \"result:\",result\n",
    "    for x in range(1,len(arrs)):\n",
    "        print \"processing x:\", x, 'arr[x]', arrs[x]\n",
    "        result = np.column_stack((result,arrs[x]))\n",
    "    print \"result:\", result\n",
    "\n",
    "    \n",
    "softmax(scores)\n"
   ]
  },
  {
   "cell_type": "code",
   "execution_count": null,
   "metadata": {
    "collapsed": true
   },
   "outputs": [],
   "source": [
    "scores = np.array([[1, 2, 3, 6],\n",
    "                   [2, 4, 5, 6],\n",
    "                   [3, 8, 7, 6]])\n",
    "\n",
    "[[ 0.09003057  0.00242826  0.01587624  0.33333333]\n",
    " [ 0.24472847  0.01794253  0.11731043  0.33333333]\n",
    " [ 0.66524096  0.97962921  0.86681333  0.33333333]]"
   ]
  }
 ],
 "metadata": {
  "kernelspec": {
   "display_name": "Python 2",
   "language": "python",
   "name": "python2"
  },
  "language_info": {
   "codemirror_mode": {
    "name": "ipython",
    "version": 2
   },
   "file_extension": ".py",
   "mimetype": "text/x-python",
   "name": "python",
   "nbconvert_exporter": "python",
   "pygments_lexer": "ipython2",
   "version": "2.7.11"
  }
 },
 "nbformat": 4,
 "nbformat_minor": 0
}
